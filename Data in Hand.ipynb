{
 "cells": [
  {
   "cell_type": "code",
   "execution_count": 1,
   "id": "195ca0a5",
   "metadata": {},
   "outputs": [],
   "source": [
    "import requests\n",
    "import pandas as pd\n",
    "import urllib\n",
    "import json"
   ]
  },
  {
   "cell_type": "code",
   "execution_count": 2,
   "id": "2b330167",
   "metadata": {},
   "outputs": [],
   "source": [
    "bearer_token = pd.read_csv('bearer_token.txt', header = 0)"
   ]
  },
  {
   "cell_type": "code",
   "execution_count": null,
   "id": "ec5074d7",
   "metadata": {},
   "outputs": [],
   "source": [
    "bearer_token"
   ]
  },
  {
   "cell_type": "code",
   "execution_count": null,
   "id": "3d0ca646",
   "metadata": {},
   "outputs": [],
   "source": [
    "bearer_token['bearer_token'].iloc[0]"
   ]
  },
  {
   "cell_type": "code",
   "execution_count": 5,
   "id": "cf977181",
   "metadata": {},
   "outputs": [],
   "source": [
    "header = {'Authorization' : 'Bearer {}'.format(bearer_token['bearer_token'].iloc[0])}"
   ]
  },
  {
   "cell_type": "code",
   "execution_count": 6,
   "id": "9902fd9a",
   "metadata": {},
   "outputs": [
    {
     "data": {
      "text/plain": [
       "Index(['bearer_token'], dtype='object')"
      ]
     },
     "execution_count": 6,
     "metadata": {},
     "output_type": "execute_result"
    }
   ],
   "source": [
    "bearer_token.keys()"
   ]
  },
  {
   "cell_type": "code",
   "execution_count": 9,
   "id": "716041a7",
   "metadata": {},
   "outputs": [],
   "source": [
    "endpoint_url = 'https://api.twitter.com/2/tweets/search/recent'"
   ]
  },
  {
   "cell_type": "code",
   "execution_count": 10,
   "id": "f8e99bb4",
   "metadata": {},
   "outputs": [],
   "source": [
    "query = urllib.parse.quote('(#TedLasso OR Ted Lasso lang:en)')"
   ]
  },
  {
   "cell_type": "code",
   "execution_count": 11,
   "id": "ee6288bf",
   "metadata": {},
   "outputs": [
    {
     "data": {
      "text/plain": [
       "'%28%23TedLasso%20OR%20Ted%20Lasso%20lang%3Aen%29'"
      ]
     },
     "execution_count": 11,
     "metadata": {},
     "output_type": "execute_result"
    }
   ],
   "source": [
    "query"
   ]
  },
  {
   "cell_type": "code",
   "execution_count": 13,
   "id": "cf53e4d4",
   "metadata": {},
   "outputs": [],
   "source": [
    "my_api_url = endpoint_url + '?query={}'.format(query)"
   ]
  },
  {
   "cell_type": "code",
   "execution_count": 14,
   "id": "3324a2c4",
   "metadata": {},
   "outputs": [
    {
     "data": {
      "text/plain": [
       "'https://api.twitter.com/2/tweets/search/recent?query=%28%23TedLasso%20OR%20Ted%20Lasso%20lang%3Aen%29'"
      ]
     },
     "execution_count": 14,
     "metadata": {},
     "output_type": "execute_result"
    }
   ],
   "source": [
    "my_api_url"
   ]
  },
  {
   "cell_type": "code",
   "execution_count": 15,
   "id": "7b6fa438",
   "metadata": {},
   "outputs": [],
   "source": [
    "tweet_fields = 'public_metrics,created_at,author_id,lang'"
   ]
  },
  {
   "cell_type": "code",
   "execution_count": 16,
   "id": "8cd30266",
   "metadata": {},
   "outputs": [],
   "source": [
    "my_api_url = endpoint_url + '?query={}&tweet.fields={}'.format(query, tweet_fields)"
   ]
  },
  {
   "cell_type": "code",
   "execution_count": 17,
   "id": "50081342",
   "metadata": {},
   "outputs": [
    {
     "data": {
      "text/plain": [
       "'https://api.twitter.com/2/tweets/search/recent?query=%28%23TedLasso%20OR%20Ted%20Lasso%20lang%3Aen%29&tweet.fields=public_metrics,created_at,author_id,lang'"
      ]
     },
     "execution_count": 17,
     "metadata": {},
     "output_type": "execute_result"
    }
   ],
   "source": [
    "my_api_url"
   ]
  },
  {
   "cell_type": "code",
   "execution_count": 18,
   "id": "03ffca74",
   "metadata": {},
   "outputs": [],
   "source": [
    "expansions = 'author_id'"
   ]
  },
  {
   "cell_type": "code",
   "execution_count": 19,
   "id": "8e639e27",
   "metadata": {},
   "outputs": [],
   "source": [
    "url = endpoint_url + '?query={}&max_results=10&tweet.fields{}'.format(query, tweet_fields)"
   ]
  },
  {
   "cell_type": "code",
   "execution_count": 20,
   "id": "99ed4b2a",
   "metadata": {},
   "outputs": [],
   "source": [
    "response = requests.request(\"GET\", url, headers = header)"
   ]
  },
  {
   "cell_type": "code",
   "execution_count": 21,
   "id": "968f6c08",
   "metadata": {},
   "outputs": [],
   "source": [
    "url_expansions = endpoint_url + '?query={}&max_results=10&tweet.fields={}&expansions={}&user.fields={}'.format(query, tweet_fields, expansions, 'username')"
   ]
  },
  {
   "cell_type": "code",
   "execution_count": 22,
   "id": "3639f51e",
   "metadata": {},
   "outputs": [
    {
     "data": {
      "text/plain": [
       "'https://api.twitter.com/2/tweets/search/recent?query=%28%23TedLasso%20OR%20Ted%20Lasso%20lang%3Aen%29&max_results=10&tweet.fields=public_metrics,created_at,author_id,lang&expansions=author_id&user.fields=username'"
      ]
     },
     "execution_count": 22,
     "metadata": {},
     "output_type": "execute_result"
    }
   ],
   "source": [
    "url_expansions"
   ]
  },
  {
   "cell_type": "code",
   "execution_count": 23,
   "id": "409787d5",
   "metadata": {},
   "outputs": [],
   "source": [
    "first_response = requests.request(\"GET\", url_expansions, headers = header)"
   ]
  },
  {
   "cell_type": "code",
   "execution_count": 25,
   "id": "76e895f8",
   "metadata": {},
   "outputs": [
    {
     "data": {
      "text/plain": [
       "'{\"data\":[{\"lang\":\"en\",\"author_id\":\"1145192223199256576\",\"id\":\"1465823092089917444\",\"text\":\"RT @acapitalchick: Coming in January 2022 my new podcast with fellow tv fangirl @beepsplain will be taking a deep rewatch dive into the two…\",\"public_metrics\":{\"retweet_count\":10,\"reply_count\":0,\"like_count\":0,\"quote_count\":0},\"created_at\":\"2021-11-30T23:20:33.000Z\"},{\"lang\":\"en\",\"author_id\":\"1270390572\",\"id\":\"1465823042391752706\",\"text\":\"RT @tedlassopod: Ok but deep down Ted Lasso would really mean it. https://t.co/0O7mPBOvNb\",\"public_metrics\":{\"retweet_count\":7,\"reply_count\":0,\"like_count\":0,\"quote_count\":0},\"created_at\":\"2021-11-30T23:20:21.000Z\"},{\"lang\":\"en\",\"author_id\":\"990806471314206720\",\"id\":\"1465823020136685569\",\"text\":\"RT @EdAsnerCenter: #didyouknow that #JasonSudeikis and #GeorgeWendt of #Cheers fame are real-life nephew and uncle? See them play George Ba…\",\"public_metrics\":{\"retweet_count\":20,\"reply_count\":0,\"like_count\":0,\"quote_count\":0},\"created_at\":\"2021-11-30T23:20:16.000Z\"},{\"lang\":\"en\",\"author_id\":\"15844821\",\"id\":\"1465822942919421952\",\"text\":\"Starting watching “The Handmaid’s Tale.” Stopped watching 20 minutes later. I just can’t.\\\\n\\\\nBack to Ted Lasso.\",\"public_metrics\":{\"retweet_count\":0,\"reply_count\":0,\"like_count\":2,\"quote_count\":0},\"created_at\":\"2021-11-30T23:19:57.000Z\"},{\"lang\":\"en\",\"author_id\":\"1145192223199256576\",\"id\":\"1465822916394635264\",\"text\":\"RT @TVBanshees: Follow @TVBanshees here and on our website for our deep dives on tv stories that we love. \\\\n\\\\nComing in January 2022 our podc…\",\"public_metrics\":{\"retweet_count\":11,\"reply_count\":0,\"like_count\":0,\"quote_count\":0},\"created_at\":\"2021-11-30T23:19:51.000Z\"},{\"lang\":\"en\",\"author_id\":\"374155276\",\"id\":\"1465822768335888394\",\"text\":\"RT @MuhammadLila: Giving Ted Lasso a run for his money right here.\\\\n\\\\n(also:  cuteness alert)\",\"public_metrics\":{\"retweet_count\":18,\"reply_count\":0,\"like_count\":0,\"quote_count\":0},\"created_at\":\"2021-11-30T23:19:16.000Z\"},{\"lang\":\"en\",\"author_id\":\"65702679\",\"id\":\"1465822745967484929\",\"text\":\"RT @justinkirkland4: As 2021 comes to a close, I ranked the best series that TV gave us this year. I make no apologies. \\\\n\\\\nA bit of #WereHer…\",\"public_metrics\":{\"retweet_count\":4,\"reply_count\":0,\"like_count\":0,\"quote_count\":0},\"created_at\":\"2021-11-30T23:19:10.000Z\"},{\"lang\":\"en\",\"author_id\":\"337848162\",\"id\":\"1465822470192181255\",\"text\":\"Basketball coach and math teacher Donnie Campbell, one of the inspirations for Jason Sudeikis’ Ted Lasso, shares his strategies for inspiring young people in the classroom and on the court.\\\\nhttps://t.co/nGuOcMJs6B\",\"public_metrics\":{\"retweet_count\":0,\"reply_count\":0,\"like_count\":1,\"quote_count\":0},\"created_at\":\"2021-11-30T23:18:05.000Z\"},{\"lang\":\"en\",\"author_id\":\"348924067\",\"id\":\"1465822460389969924\",\"text\":\"RT @TVBanshees: Follow @TVBanshees here and on our website for our deep dives on tv stories that we love. \\\\n\\\\nComing in January 2022 our podc…\",\"public_metrics\":{\"retweet_count\":11,\"reply_count\":0,\"like_count\":0,\"quote_count\":0},\"created_at\":\"2021-11-30T23:18:02.000Z\"},{\"lang\":\"en\",\"author_id\":\"1487581644\",\"id\":\"1465822234665263104\",\"text\":\"Guys, I am finishing Ted Lasso and let\\'s just say I am devastated by a particular someone turning out to not be so *great*\",\"public_metrics\":{\"retweet_count\":0,\"reply_count\":1,\"like_count\":0,\"quote_count\":0},\"created_at\":\"2021-11-30T23:17:09.000Z\"}],\"includes\":{\"users\":[{\"id\":\"1145192223199256576\",\"name\":\"Rumi The Gongjinz\",\"username\":\"HanAreumiee\"},{\"id\":\"1270390572\",\"name\":\"Nicole \\\\uD83C\\\\uDF84\",\"username\":\"kitxvoss\"},{\"id\":\"990806471314206720\",\"name\":\"Christine\",\"username\":\"NYC4691\"},{\"id\":\"15844821\",\"name\":\"Elizabeth Esther\",\"username\":\"elizabethesther\"},{\"id\":\"374155276\",\"name\":\"Ruby Latif\",\"username\":\"rubylatif\"},{\"id\":\"65702679\",\"name\":\"dave march\",\"username\":\"davemarch5555\"},{\"id\":\"337848162\",\"name\":\"MAXCases\",\"username\":\"MAXCases\"},{\"id\":\"348924067\",\"name\":\"ayy \\\\uD83E\\\\uDD5E\",\"username\":\"halsuisseonho\"},{\"id\":\"1487581644\",\"name\":\"Michael\",\"username\":\"mjam_1994\"}]},\"meta\":{\"newest_id\":\"1465823092089917444\",\"oldest_id\":\"1465822234665263104\",\"result_count\":10,\"next_token\":\"b26v89c19zqg8o3fpdy7of1o4bvsvpjht9cf2lwqhhpj1\"}}'"
      ]
     },
     "execution_count": 25,
     "metadata": {},
     "output_type": "execute_result"
    }
   ],
   "source": [
    "first_response.text"
   ]
  },
  {
   "cell_type": "code",
   "execution_count": 27,
   "id": "6818c993",
   "metadata": {},
   "outputs": [],
   "source": [
    "first_dict = json.loads(first_response.text)"
   ]
  },
  {
   "cell_type": "code",
   "execution_count": 28,
   "id": "69052a8c",
   "metadata": {},
   "outputs": [
    {
     "data": {
      "text/plain": [
       "dict_keys(['data', 'includes', 'meta'])"
      ]
     },
     "execution_count": 28,
     "metadata": {},
     "output_type": "execute_result"
    }
   ],
   "source": [
    "first_dict.keys()"
   ]
  },
  {
   "cell_type": "code",
   "execution_count": 29,
   "id": "aafd8903",
   "metadata": {},
   "outputs": [],
   "source": [
    "my_df = pd.DataFrame(first_dict['data'])"
   ]
  },
  {
   "cell_type": "code",
   "execution_count": 30,
   "id": "3b0c179e",
   "metadata": {},
   "outputs": [
    {
     "data": {
      "text/html": [
       "<div>\n",
       "<style scoped>\n",
       "    .dataframe tbody tr th:only-of-type {\n",
       "        vertical-align: middle;\n",
       "    }\n",
       "\n",
       "    .dataframe tbody tr th {\n",
       "        vertical-align: top;\n",
       "    }\n",
       "\n",
       "    .dataframe thead th {\n",
       "        text-align: right;\n",
       "    }\n",
       "</style>\n",
       "<table border=\"1\" class=\"dataframe\">\n",
       "  <thead>\n",
       "    <tr style=\"text-align: right;\">\n",
       "      <th></th>\n",
       "      <th>lang</th>\n",
       "      <th>author_id</th>\n",
       "      <th>id</th>\n",
       "      <th>text</th>\n",
       "      <th>public_metrics</th>\n",
       "      <th>created_at</th>\n",
       "    </tr>\n",
       "  </thead>\n",
       "  <tbody>\n",
       "    <tr>\n",
       "      <th>0</th>\n",
       "      <td>en</td>\n",
       "      <td>1145192223199256576</td>\n",
       "      <td>1465823092089917444</td>\n",
       "      <td>RT @acapitalchick: Coming in January 2022 my n...</td>\n",
       "      <td>{'retweet_count': 10, 'reply_count': 0, 'like_...</td>\n",
       "      <td>2021-11-30T23:20:33.000Z</td>\n",
       "    </tr>\n",
       "    <tr>\n",
       "      <th>1</th>\n",
       "      <td>en</td>\n",
       "      <td>1270390572</td>\n",
       "      <td>1465823042391752706</td>\n",
       "      <td>RT @tedlassopod: Ok but deep down Ted Lasso wo...</td>\n",
       "      <td>{'retweet_count': 7, 'reply_count': 0, 'like_c...</td>\n",
       "      <td>2021-11-30T23:20:21.000Z</td>\n",
       "    </tr>\n",
       "    <tr>\n",
       "      <th>2</th>\n",
       "      <td>en</td>\n",
       "      <td>990806471314206720</td>\n",
       "      <td>1465823020136685569</td>\n",
       "      <td>RT @EdAsnerCenter: #didyouknow that #JasonSude...</td>\n",
       "      <td>{'retweet_count': 20, 'reply_count': 0, 'like_...</td>\n",
       "      <td>2021-11-30T23:20:16.000Z</td>\n",
       "    </tr>\n",
       "    <tr>\n",
       "      <th>3</th>\n",
       "      <td>en</td>\n",
       "      <td>15844821</td>\n",
       "      <td>1465822942919421952</td>\n",
       "      <td>Starting watching “The Handmaid’s Tale.” Stopp...</td>\n",
       "      <td>{'retweet_count': 0, 'reply_count': 0, 'like_c...</td>\n",
       "      <td>2021-11-30T23:19:57.000Z</td>\n",
       "    </tr>\n",
       "    <tr>\n",
       "      <th>4</th>\n",
       "      <td>en</td>\n",
       "      <td>1145192223199256576</td>\n",
       "      <td>1465822916394635264</td>\n",
       "      <td>RT @TVBanshees: Follow @TVBanshees here and on...</td>\n",
       "      <td>{'retweet_count': 11, 'reply_count': 0, 'like_...</td>\n",
       "      <td>2021-11-30T23:19:51.000Z</td>\n",
       "    </tr>\n",
       "    <tr>\n",
       "      <th>5</th>\n",
       "      <td>en</td>\n",
       "      <td>374155276</td>\n",
       "      <td>1465822768335888394</td>\n",
       "      <td>RT @MuhammadLila: Giving Ted Lasso a run for h...</td>\n",
       "      <td>{'retweet_count': 18, 'reply_count': 0, 'like_...</td>\n",
       "      <td>2021-11-30T23:19:16.000Z</td>\n",
       "    </tr>\n",
       "    <tr>\n",
       "      <th>6</th>\n",
       "      <td>en</td>\n",
       "      <td>65702679</td>\n",
       "      <td>1465822745967484929</td>\n",
       "      <td>RT @justinkirkland4: As 2021 comes to a close,...</td>\n",
       "      <td>{'retweet_count': 4, 'reply_count': 0, 'like_c...</td>\n",
       "      <td>2021-11-30T23:19:10.000Z</td>\n",
       "    </tr>\n",
       "    <tr>\n",
       "      <th>7</th>\n",
       "      <td>en</td>\n",
       "      <td>337848162</td>\n",
       "      <td>1465822470192181255</td>\n",
       "      <td>Basketball coach and math teacher Donnie Campb...</td>\n",
       "      <td>{'retweet_count': 0, 'reply_count': 0, 'like_c...</td>\n",
       "      <td>2021-11-30T23:18:05.000Z</td>\n",
       "    </tr>\n",
       "    <tr>\n",
       "      <th>8</th>\n",
       "      <td>en</td>\n",
       "      <td>348924067</td>\n",
       "      <td>1465822460389969924</td>\n",
       "      <td>RT @TVBanshees: Follow @TVBanshees here and on...</td>\n",
       "      <td>{'retweet_count': 11, 'reply_count': 0, 'like_...</td>\n",
       "      <td>2021-11-30T23:18:02.000Z</td>\n",
       "    </tr>\n",
       "    <tr>\n",
       "      <th>9</th>\n",
       "      <td>en</td>\n",
       "      <td>1487581644</td>\n",
       "      <td>1465822234665263104</td>\n",
       "      <td>Guys, I am finishing Ted Lasso and let's just ...</td>\n",
       "      <td>{'retweet_count': 0, 'reply_count': 1, 'like_c...</td>\n",
       "      <td>2021-11-30T23:17:09.000Z</td>\n",
       "    </tr>\n",
       "  </tbody>\n",
       "</table>\n",
       "</div>"
      ],
      "text/plain": [
       "  lang            author_id                   id  \\\n",
       "0   en  1145192223199256576  1465823092089917444   \n",
       "1   en           1270390572  1465823042391752706   \n",
       "2   en   990806471314206720  1465823020136685569   \n",
       "3   en             15844821  1465822942919421952   \n",
       "4   en  1145192223199256576  1465822916394635264   \n",
       "5   en            374155276  1465822768335888394   \n",
       "6   en             65702679  1465822745967484929   \n",
       "7   en            337848162  1465822470192181255   \n",
       "8   en            348924067  1465822460389969924   \n",
       "9   en           1487581644  1465822234665263104   \n",
       "\n",
       "                                                text  \\\n",
       "0  RT @acapitalchick: Coming in January 2022 my n...   \n",
       "1  RT @tedlassopod: Ok but deep down Ted Lasso wo...   \n",
       "2  RT @EdAsnerCenter: #didyouknow that #JasonSude...   \n",
       "3  Starting watching “The Handmaid’s Tale.” Stopp...   \n",
       "4  RT @TVBanshees: Follow @TVBanshees here and on...   \n",
       "5  RT @MuhammadLila: Giving Ted Lasso a run for h...   \n",
       "6  RT @justinkirkland4: As 2021 comes to a close,...   \n",
       "7  Basketball coach and math teacher Donnie Campb...   \n",
       "8  RT @TVBanshees: Follow @TVBanshees here and on...   \n",
       "9  Guys, I am finishing Ted Lasso and let's just ...   \n",
       "\n",
       "                                      public_metrics                created_at  \n",
       "0  {'retweet_count': 10, 'reply_count': 0, 'like_...  2021-11-30T23:20:33.000Z  \n",
       "1  {'retweet_count': 7, 'reply_count': 0, 'like_c...  2021-11-30T23:20:21.000Z  \n",
       "2  {'retweet_count': 20, 'reply_count': 0, 'like_...  2021-11-30T23:20:16.000Z  \n",
       "3  {'retweet_count': 0, 'reply_count': 0, 'like_c...  2021-11-30T23:19:57.000Z  \n",
       "4  {'retweet_count': 11, 'reply_count': 0, 'like_...  2021-11-30T23:19:51.000Z  \n",
       "5  {'retweet_count': 18, 'reply_count': 0, 'like_...  2021-11-30T23:19:16.000Z  \n",
       "6  {'retweet_count': 4, 'reply_count': 0, 'like_c...  2021-11-30T23:19:10.000Z  \n",
       "7  {'retweet_count': 0, 'reply_count': 0, 'like_c...  2021-11-30T23:18:05.000Z  \n",
       "8  {'retweet_count': 11, 'reply_count': 0, 'like_...  2021-11-30T23:18:02.000Z  \n",
       "9  {'retweet_count': 0, 'reply_count': 1, 'like_c...  2021-11-30T23:17:09.000Z  "
      ]
     },
     "execution_count": 30,
     "metadata": {},
     "output_type": "execute_result"
    }
   ],
   "source": [
    "my_df"
   ]
  },
  {
   "cell_type": "markdown",
   "id": "4ad3b0ba",
   "metadata": {},
   "source": [
    "Here is my data frame for tweets that mention Ted Lasso or #TedLasso. Having this information will allow me to filter through these tweet between negative and positive tweets. Then eventually i can compare the two. the question i am asking is if tweets have any effect for the winner of the best comedy series for the Emmy's. If there are more positive tweets than negative then it could help the winner of that category.\n",
    "\n",
    "My next steps are to only have the text in the tweets and have a different data frame with that information. From there i can parse through the text and separate the text into a positive or negative category."
   ]
  }
 ],
 "metadata": {
  "kernelspec": {
   "display_name": "Python 3 (ipykernel)",
   "language": "python",
   "name": "python3"
  },
  "language_info": {
   "codemirror_mode": {
    "name": "ipython",
    "version": 3
   },
   "file_extension": ".py",
   "mimetype": "text/x-python",
   "name": "python",
   "nbconvert_exporter": "python",
   "pygments_lexer": "ipython3",
   "version": "3.9.6"
  }
 },
 "nbformat": 4,
 "nbformat_minor": 5
}
