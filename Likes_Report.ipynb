{
 "cells": [
  {
   "cell_type": "markdown",
   "id": "12de6ded",
   "metadata": {},
   "source": [
    "# Likes Report"
   ]
  },
  {
   "cell_type": "markdown",
   "id": "517b8f3b",
   "metadata": {},
   "source": [
    "## Erica Hewitt"
   ]
  },
  {
   "cell_type": "markdown",
   "id": "58d47f7b",
   "metadata": {},
   "source": [
    "### 9/21/2021"
   ]
  },
  {
   "cell_type": "markdown",
   "id": "7355f90a",
   "metadata": {},
   "source": [
    "In this report I have downloaded my personal data from Instagram. While I downloaded my data I did not collect it, but who did? In this case Instagram collected this data, I don't know how they collect this data but I would have to assume they do so with some sort of algorithm. They collect our data so that they can receive all the information they can about us and tailor our experience to our interests. Such as the posts we like, the pages we follow, and the amount of time we spend on a page. Collecting this data allows us to understand what kind of information we unwillingly give to Instagram. This data can be reliable because it shows us what we actually did, theres no way to stem from the fact that we liked these posts. On the other hand it can be unreliable in a sense that at anytime someone else could've been on my account and liked something or followed someone when I myself actually did do it. Overall, I think its important for everyone to understand what kind of data Instagram collects and know how to comprehend it."
   ]
  },
  {
   "cell_type": "code",
   "execution_count": 47,
   "id": "9d18959c",
   "metadata": {},
   "outputs": [],
   "source": [
    "import pandas as pd\n",
    "import json\n",
    "import matplotlib as plt"
   ]
  },
  {
   "cell_type": "code",
   "execution_count": 48,
   "id": "e87e266f",
   "metadata": {},
   "outputs": [],
   "source": [
    "with open(r'C:\\Users\\erica\\Downloads\\erica.hewitt_20210902\\likes\\liked_posts.json') as p:\n",
    "    likes = json.load(p)"
   ]
  },
  {
   "cell_type": "markdown",
   "id": "6f908443",
   "metadata": {},
   "source": [
    "Here I am importing my liked posts file from my Instagram data that I downloaded"
   ]
  },
  {
   "cell_type": "code",
   "execution_count": 49,
   "id": "67b409d8",
   "metadata": {},
   "outputs": [
    {
     "data": {
      "text/plain": [
       "dict_keys(['likes_media_likes'])"
      ]
     },
     "execution_count": 49,
     "metadata": {},
     "output_type": "execute_result"
    }
   ],
   "source": [
    "likes.keys()"
   ]
  },
  {
   "cell_type": "markdown",
   "id": "9deb101c",
   "metadata": {},
   "source": [
    "Here I am seeing what keys are in my file so that I can figure out what I want to use but I only have one called 'likes_media_likes'"
   ]
  },
  {
   "cell_type": "code",
   "execution_count": 50,
   "id": "94263d37",
   "metadata": {},
   "outputs": [
    {
     "data": {
      "text/plain": [
       "{'title': 'experts',\n",
       " 'media_list_data': [],\n",
       " 'string_list_data': [{'href': 'https://www.instagram.com/p/UXBRXAA9yH/',\n",
       "   'value': 'ð\\x9f\\x91\\x8d',\n",
       "   'timestamp': 1357942474}]}"
      ]
     },
     "execution_count": 50,
     "metadata": {},
     "output_type": "execute_result"
    }
   ],
   "source": [
    "likes['likes_media_likes'][2]"
   ]
  },
  {
   "cell_type": "markdown",
   "id": "979f1946",
   "metadata": {},
   "source": [
    "I am trying to see what is is my dictonary. I have multiple things stored in here such as the title, media list data, and string list data which has another list inside of it."
   ]
  },
  {
   "cell_type": "code",
   "execution_count": 51,
   "id": "160cab06",
   "metadata": {},
   "outputs": [],
   "source": [
    "df_likes = pd.DataFrame(likes['likes_media_likes'])"
   ]
  },
  {
   "cell_type": "markdown",
   "id": "647c73c2",
   "metadata": {},
   "source": [
    "Now I'm converting it into a data frame"
   ]
  },
  {
   "cell_type": "code",
   "execution_count": 52,
   "id": "faefb3c9",
   "metadata": {},
   "outputs": [
    {
     "data": {
      "text/html": [
       "<div>\n",
       "<style scoped>\n",
       "    .dataframe tbody tr th:only-of-type {\n",
       "        vertical-align: middle;\n",
       "    }\n",
       "\n",
       "    .dataframe tbody tr th {\n",
       "        vertical-align: top;\n",
       "    }\n",
       "\n",
       "    .dataframe thead th {\n",
       "        text-align: right;\n",
       "    }\n",
       "</style>\n",
       "<table border=\"1\" class=\"dataframe\">\n",
       "  <thead>\n",
       "    <tr style=\"text-align: right;\">\n",
       "      <th></th>\n",
       "      <th>title</th>\n",
       "      <th>media_list_data</th>\n",
       "      <th>string_list_data</th>\n",
       "    </tr>\n",
       "  </thead>\n",
       "  <tbody>\n",
       "    <tr>\n",
       "      <th>0</th>\n",
       "      <td>taaylorrrrrr</td>\n",
       "      <td>[]</td>\n",
       "      <td>[{'href': 'https://www.instagram.com/p/UW3muIk...</td>\n",
       "    </tr>\n",
       "    <tr>\n",
       "      <th>1</th>\n",
       "      <td>taaylorrrrrr</td>\n",
       "      <td>[]</td>\n",
       "      <td>[{'href': 'https://www.instagram.com/p/UW5K2Kk...</td>\n",
       "    </tr>\n",
       "    <tr>\n",
       "      <th>2</th>\n",
       "      <td>experts</td>\n",
       "      <td>[]</td>\n",
       "      <td>[{'href': 'https://www.instagram.com/p/UXBRXAA...</td>\n",
       "    </tr>\n",
       "    <tr>\n",
       "      <th>3</th>\n",
       "      <td>jillvertes</td>\n",
       "      <td>[]</td>\n",
       "      <td>[{'href': 'https://www.instagram.com/p/UXBZD5k...</td>\n",
       "    </tr>\n",
       "    <tr>\n",
       "      <th>4</th>\n",
       "      <td>taaylorrrrrr</td>\n",
       "      <td>[]</td>\n",
       "      <td>[{'href': 'https://www.instagram.com/p/UV9m96k...</td>\n",
       "    </tr>\n",
       "    <tr>\n",
       "      <th>...</th>\n",
       "      <td>...</td>\n",
       "      <td>...</td>\n",
       "      <td>...</td>\n",
       "    </tr>\n",
       "    <tr>\n",
       "      <th>30899</th>\n",
       "      <td>_kileyb</td>\n",
       "      <td>[]</td>\n",
       "      <td>[{'href': 'https://www.instagram.com/p/CHbtQzF...</td>\n",
       "    </tr>\n",
       "    <tr>\n",
       "      <th>30900</th>\n",
       "      <td>imjakejohnston</td>\n",
       "      <td>[]</td>\n",
       "      <td>[{'href': 'https://www.instagram.com/p/CHbTVvI...</td>\n",
       "    </tr>\n",
       "    <tr>\n",
       "      <th>30901</th>\n",
       "      <td>justine.pelka</td>\n",
       "      <td>[]</td>\n",
       "      <td>[{'href': 'https://www.instagram.com/p/CHbZIRY...</td>\n",
       "    </tr>\n",
       "    <tr>\n",
       "      <th>30902</th>\n",
       "      <td>tinawoodsss</td>\n",
       "      <td>[]</td>\n",
       "      <td>[{'href': 'https://www.instagram.com/p/CHYsy2W...</td>\n",
       "    </tr>\n",
       "    <tr>\n",
       "      <th>30903</th>\n",
       "      <td>indyblue_</td>\n",
       "      <td>[]</td>\n",
       "      <td>[{'href': 'https://www.instagram.com/p/CHYi0sv...</td>\n",
       "    </tr>\n",
       "  </tbody>\n",
       "</table>\n",
       "<p>30904 rows × 3 columns</p>\n",
       "</div>"
      ],
      "text/plain": [
       "                title media_list_data  \\\n",
       "0        taaylorrrrrr              []   \n",
       "1        taaylorrrrrr              []   \n",
       "2             experts              []   \n",
       "3          jillvertes              []   \n",
       "4        taaylorrrrrr              []   \n",
       "...               ...             ...   \n",
       "30899         _kileyb              []   \n",
       "30900  imjakejohnston              []   \n",
       "30901   justine.pelka              []   \n",
       "30902     tinawoodsss              []   \n",
       "30903       indyblue_              []   \n",
       "\n",
       "                                        string_list_data  \n",
       "0      [{'href': 'https://www.instagram.com/p/UW3muIk...  \n",
       "1      [{'href': 'https://www.instagram.com/p/UW5K2Kk...  \n",
       "2      [{'href': 'https://www.instagram.com/p/UXBRXAA...  \n",
       "3      [{'href': 'https://www.instagram.com/p/UXBZD5k...  \n",
       "4      [{'href': 'https://www.instagram.com/p/UV9m96k...  \n",
       "...                                                  ...  \n",
       "30899  [{'href': 'https://www.instagram.com/p/CHbtQzF...  \n",
       "30900  [{'href': 'https://www.instagram.com/p/CHbTVvI...  \n",
       "30901  [{'href': 'https://www.instagram.com/p/CHbZIRY...  \n",
       "30902  [{'href': 'https://www.instagram.com/p/CHYsy2W...  \n",
       "30903  [{'href': 'https://www.instagram.com/p/CHYi0sv...  \n",
       "\n",
       "[30904 rows x 3 columns]"
      ]
     },
     "execution_count": 52,
     "metadata": {},
     "output_type": "execute_result"
    }
   ],
   "source": [
    "df_likes"
   ]
  },
  {
   "cell_type": "markdown",
   "id": "bc600655",
   "metadata": {},
   "source": [
    "This is the output of my data frame, visualized, with over 30,000 rows of data"
   ]
  },
  {
   "cell_type": "code",
   "execution_count": 55,
   "id": "50167276",
   "metadata": {},
   "outputs": [],
   "source": [
    "string_list_data = [x['string_list_data'][0]for x in likes['likes_media_likes']]"
   ]
  },
  {
   "cell_type": "markdown",
   "id": "6185f174",
   "metadata": {},
   "source": [
    "I am now using list comprehension to pull the information out of string list data"
   ]
  },
  {
   "cell_type": "code",
   "execution_count": 56,
   "id": "0a165ea1",
   "metadata": {},
   "outputs": [
    {
     "data": {
      "text/plain": [
       "list"
      ]
     },
     "execution_count": 56,
     "metadata": {},
     "output_type": "execute_result"
    }
   ],
   "source": [
    "type(string_list_data)"
   ]
  },
  {
   "cell_type": "code",
   "execution_count": 57,
   "id": "4e0a8b78",
   "metadata": {},
   "outputs": [
    {
     "data": {
      "text/plain": [
       "list"
      ]
     },
     "execution_count": 57,
     "metadata": {},
     "output_type": "execute_result"
    }
   ],
   "source": [
    "type(likes['likes_media_likes'])"
   ]
  },
  {
   "cell_type": "markdown",
   "id": "1e2b6546",
   "metadata": {},
   "source": [
    "Determining what type of data I am working with"
   ]
  },
  {
   "cell_type": "code",
   "execution_count": 58,
   "id": "0ee17541",
   "metadata": {},
   "outputs": [
    {
     "data": {
      "text/plain": [
       "{'href': 'https://www.instagram.com/p/UXBZD5k0Tn/',\n",
       " 'value': 'ð\\x9f\\x91\\x8d',\n",
       " 'timestamp': 1357942468}"
      ]
     },
     "execution_count": 58,
     "metadata": {},
     "output_type": "execute_result"
    }
   ],
   "source": [
    "string_list_data[3]"
   ]
  },
  {
   "cell_type": "markdown",
   "id": "c91f512b",
   "metadata": {},
   "source": [
    "Looking at whats stored in the 3rd element of string list data"
   ]
  },
  {
   "cell_type": "code",
   "execution_count": 59,
   "id": "37cb6c3a",
   "metadata": {},
   "outputs": [],
   "source": [
    "timestamp = [x for x in string_list_data]"
   ]
  },
  {
   "cell_type": "markdown",
   "id": "f5facef1",
   "metadata": {},
   "source": [
    "Making timestamp a list"
   ]
  },
  {
   "cell_type": "code",
   "execution_count": null,
   "id": "e1acccd3",
   "metadata": {},
   "outputs": [],
   "source": [
    "timestamp"
   ]
  },
  {
   "cell_type": "code",
   "execution_count": 61,
   "id": "e4e7e48a",
   "metadata": {},
   "outputs": [],
   "source": [
    "df_timestamp = pd.DataFrame(timestamp)"
   ]
  },
  {
   "cell_type": "code",
   "execution_count": 62,
   "id": "22acd8af",
   "metadata": {},
   "outputs": [
    {
     "data": {
      "text/html": [
       "<div>\n",
       "<style scoped>\n",
       "    .dataframe tbody tr th:only-of-type {\n",
       "        vertical-align: middle;\n",
       "    }\n",
       "\n",
       "    .dataframe tbody tr th {\n",
       "        vertical-align: top;\n",
       "    }\n",
       "\n",
       "    .dataframe thead th {\n",
       "        text-align: right;\n",
       "    }\n",
       "</style>\n",
       "<table border=\"1\" class=\"dataframe\">\n",
       "  <thead>\n",
       "    <tr style=\"text-align: right;\">\n",
       "      <th></th>\n",
       "      <th>href</th>\n",
       "      <th>value</th>\n",
       "      <th>timestamp</th>\n",
       "    </tr>\n",
       "  </thead>\n",
       "  <tbody>\n",
       "    <tr>\n",
       "      <th>0</th>\n",
       "      <td>https://www.instagram.com/p/UW3muIkv5I/</td>\n",
       "      <td>ð</td>\n",
       "      <td>1357942581</td>\n",
       "    </tr>\n",
       "    <tr>\n",
       "      <th>1</th>\n",
       "      <td>https://www.instagram.com/p/UW5K2Kkv6u/</td>\n",
       "      <td>ð</td>\n",
       "      <td>1357942558</td>\n",
       "    </tr>\n",
       "    <tr>\n",
       "      <th>2</th>\n",
       "      <td>https://www.instagram.com/p/UXBRXAA9yH/</td>\n",
       "      <td>ð</td>\n",
       "      <td>1357942474</td>\n",
       "    </tr>\n",
       "    <tr>\n",
       "      <th>3</th>\n",
       "      <td>https://www.instagram.com/p/UXBZD5k0Tn/</td>\n",
       "      <td>ð</td>\n",
       "      <td>1357942468</td>\n",
       "    </tr>\n",
       "    <tr>\n",
       "      <th>4</th>\n",
       "      <td>https://www.instagram.com/p/UV9m96kv5N/</td>\n",
       "      <td>ð</td>\n",
       "      <td>1357936387</td>\n",
       "    </tr>\n",
       "    <tr>\n",
       "      <th>...</th>\n",
       "      <td>...</td>\n",
       "      <td>...</td>\n",
       "      <td>...</td>\n",
       "    </tr>\n",
       "    <tr>\n",
       "      <th>30899</th>\n",
       "      <td>https://www.instagram.com/p/CHbtQzFpPSU/</td>\n",
       "      <td>ð</td>\n",
       "      <td>1605060353</td>\n",
       "    </tr>\n",
       "    <tr>\n",
       "      <th>30900</th>\n",
       "      <td>https://www.instagram.com/p/CHbTVvInO4N/</td>\n",
       "      <td>ð</td>\n",
       "      <td>1605050156</td>\n",
       "    </tr>\n",
       "    <tr>\n",
       "      <th>30901</th>\n",
       "      <td>https://www.instagram.com/p/CHbZIRYptl2DNGdShK...</td>\n",
       "      <td>ð</td>\n",
       "      <td>1605050152</td>\n",
       "    </tr>\n",
       "    <tr>\n",
       "      <th>30902</th>\n",
       "      <td>https://www.instagram.com/p/CHYsy2Wsjj-/</td>\n",
       "      <td>ð</td>\n",
       "      <td>1604966422</td>\n",
       "    </tr>\n",
       "    <tr>\n",
       "      <th>30903</th>\n",
       "      <td>https://www.instagram.com/p/CHYi0svF-CL/</td>\n",
       "      <td>ð</td>\n",
       "      <td>1604955211</td>\n",
       "    </tr>\n",
       "  </tbody>\n",
       "</table>\n",
       "<p>30904 rows × 3 columns</p>\n",
       "</div>"
      ],
      "text/plain": [
       "                                                    href value   timestamp\n",
       "0                https://www.instagram.com/p/UW3muIkv5I/  ð  1357942581\n",
       "1                https://www.instagram.com/p/UW5K2Kkv6u/  ð  1357942558\n",
       "2                https://www.instagram.com/p/UXBRXAA9yH/  ð  1357942474\n",
       "3                https://www.instagram.com/p/UXBZD5k0Tn/  ð  1357942468\n",
       "4                https://www.instagram.com/p/UV9m96kv5N/  ð  1357936387\n",
       "...                                                  ...   ...         ...\n",
       "30899           https://www.instagram.com/p/CHbtQzFpPSU/  ð  1605060353\n",
       "30900           https://www.instagram.com/p/CHbTVvInO4N/  ð  1605050156\n",
       "30901  https://www.instagram.com/p/CHbZIRYptl2DNGdShK...  ð  1605050152\n",
       "30902           https://www.instagram.com/p/CHYsy2Wsjj-/  ð  1604966422\n",
       "30903           https://www.instagram.com/p/CHYi0svF-CL/  ð  1604955211\n",
       "\n",
       "[30904 rows x 3 columns]"
      ]
     },
     "execution_count": 62,
     "metadata": {},
     "output_type": "execute_result"
    }
   ],
   "source": [
    "df_timestamp"
   ]
  },
  {
   "cell_type": "markdown",
   "id": "7286cfe9",
   "metadata": {},
   "source": [
    "Above I am making timestamp into a readable data frame"
   ]
  },
  {
   "cell_type": "code",
   "execution_count": 64,
   "id": "f52ed43e",
   "metadata": {},
   "outputs": [],
   "source": [
    "df_timestamp['title'] = df_likes['title']"
   ]
  },
  {
   "cell_type": "markdown",
   "id": "688a84a9",
   "metadata": {},
   "source": [
    "Now I am add the title from the original data frame df_likes into the new one df_timestamp so I can see what the accounts are that I am liking."
   ]
  },
  {
   "cell_type": "code",
   "execution_count": 65,
   "id": "83fa864e",
   "metadata": {},
   "outputs": [
    {
     "data": {
      "text/html": [
       "<div>\n",
       "<style scoped>\n",
       "    .dataframe tbody tr th:only-of-type {\n",
       "        vertical-align: middle;\n",
       "    }\n",
       "\n",
       "    .dataframe tbody tr th {\n",
       "        vertical-align: top;\n",
       "    }\n",
       "\n",
       "    .dataframe thead th {\n",
       "        text-align: right;\n",
       "    }\n",
       "</style>\n",
       "<table border=\"1\" class=\"dataframe\">\n",
       "  <thead>\n",
       "    <tr style=\"text-align: right;\">\n",
       "      <th></th>\n",
       "      <th>href</th>\n",
       "      <th>value</th>\n",
       "      <th>timestamp</th>\n",
       "      <th>title</th>\n",
       "    </tr>\n",
       "  </thead>\n",
       "  <tbody>\n",
       "    <tr>\n",
       "      <th>0</th>\n",
       "      <td>https://www.instagram.com/p/UW3muIkv5I/</td>\n",
       "      <td>ð</td>\n",
       "      <td>1357942581</td>\n",
       "      <td>taaylorrrrrr</td>\n",
       "    </tr>\n",
       "    <tr>\n",
       "      <th>1</th>\n",
       "      <td>https://www.instagram.com/p/UW5K2Kkv6u/</td>\n",
       "      <td>ð</td>\n",
       "      <td>1357942558</td>\n",
       "      <td>taaylorrrrrr</td>\n",
       "    </tr>\n",
       "    <tr>\n",
       "      <th>2</th>\n",
       "      <td>https://www.instagram.com/p/UXBRXAA9yH/</td>\n",
       "      <td>ð</td>\n",
       "      <td>1357942474</td>\n",
       "      <td>experts</td>\n",
       "    </tr>\n",
       "    <tr>\n",
       "      <th>3</th>\n",
       "      <td>https://www.instagram.com/p/UXBZD5k0Tn/</td>\n",
       "      <td>ð</td>\n",
       "      <td>1357942468</td>\n",
       "      <td>jillvertes</td>\n",
       "    </tr>\n",
       "    <tr>\n",
       "      <th>4</th>\n",
       "      <td>https://www.instagram.com/p/UV9m96kv5N/</td>\n",
       "      <td>ð</td>\n",
       "      <td>1357936387</td>\n",
       "      <td>taaylorrrrrr</td>\n",
       "    </tr>\n",
       "    <tr>\n",
       "      <th>...</th>\n",
       "      <td>...</td>\n",
       "      <td>...</td>\n",
       "      <td>...</td>\n",
       "      <td>...</td>\n",
       "    </tr>\n",
       "    <tr>\n",
       "      <th>30899</th>\n",
       "      <td>https://www.instagram.com/p/CHbtQzFpPSU/</td>\n",
       "      <td>ð</td>\n",
       "      <td>1605060353</td>\n",
       "      <td>_kileyb</td>\n",
       "    </tr>\n",
       "    <tr>\n",
       "      <th>30900</th>\n",
       "      <td>https://www.instagram.com/p/CHbTVvInO4N/</td>\n",
       "      <td>ð</td>\n",
       "      <td>1605050156</td>\n",
       "      <td>imjakejohnston</td>\n",
       "    </tr>\n",
       "    <tr>\n",
       "      <th>30901</th>\n",
       "      <td>https://www.instagram.com/p/CHbZIRYptl2DNGdShK...</td>\n",
       "      <td>ð</td>\n",
       "      <td>1605050152</td>\n",
       "      <td>justine.pelka</td>\n",
       "    </tr>\n",
       "    <tr>\n",
       "      <th>30902</th>\n",
       "      <td>https://www.instagram.com/p/CHYsy2Wsjj-/</td>\n",
       "      <td>ð</td>\n",
       "      <td>1604966422</td>\n",
       "      <td>tinawoodsss</td>\n",
       "    </tr>\n",
       "    <tr>\n",
       "      <th>30903</th>\n",
       "      <td>https://www.instagram.com/p/CHYi0svF-CL/</td>\n",
       "      <td>ð</td>\n",
       "      <td>1604955211</td>\n",
       "      <td>indyblue_</td>\n",
       "    </tr>\n",
       "  </tbody>\n",
       "</table>\n",
       "<p>30904 rows × 4 columns</p>\n",
       "</div>"
      ],
      "text/plain": [
       "                                                    href value   timestamp  \\\n",
       "0                https://www.instagram.com/p/UW3muIkv5I/  ð  1357942581   \n",
       "1                https://www.instagram.com/p/UW5K2Kkv6u/  ð  1357942558   \n",
       "2                https://www.instagram.com/p/UXBRXAA9yH/  ð  1357942474   \n",
       "3                https://www.instagram.com/p/UXBZD5k0Tn/  ð  1357942468   \n",
       "4                https://www.instagram.com/p/UV9m96kv5N/  ð  1357936387   \n",
       "...                                                  ...   ...         ...   \n",
       "30899           https://www.instagram.com/p/CHbtQzFpPSU/  ð  1605060353   \n",
       "30900           https://www.instagram.com/p/CHbTVvInO4N/  ð  1605050156   \n",
       "30901  https://www.instagram.com/p/CHbZIRYptl2DNGdShK...  ð  1605050152   \n",
       "30902           https://www.instagram.com/p/CHYsy2Wsjj-/  ð  1604966422   \n",
       "30903           https://www.instagram.com/p/CHYi0svF-CL/  ð  1604955211   \n",
       "\n",
       "                title  \n",
       "0        taaylorrrrrr  \n",
       "1        taaylorrrrrr  \n",
       "2             experts  \n",
       "3          jillvertes  \n",
       "4        taaylorrrrrr  \n",
       "...               ...  \n",
       "30899         _kileyb  \n",
       "30900  imjakejohnston  \n",
       "30901   justine.pelka  \n",
       "30902     tinawoodsss  \n",
       "30903       indyblue_  \n",
       "\n",
       "[30904 rows x 4 columns]"
      ]
     },
     "execution_count": 65,
     "metadata": {},
     "output_type": "execute_result"
    }
   ],
   "source": [
    "df_timestamp"
   ]
  },
  {
   "cell_type": "code",
   "execution_count": 72,
   "id": "fddd9ca0",
   "metadata": {},
   "outputs": [
    {
     "data": {
      "text/html": [
       "<div>\n",
       "<style scoped>\n",
       "    .dataframe tbody tr th:only-of-type {\n",
       "        vertical-align: middle;\n",
       "    }\n",
       "\n",
       "    .dataframe tbody tr th {\n",
       "        vertical-align: top;\n",
       "    }\n",
       "\n",
       "    .dataframe thead th {\n",
       "        text-align: right;\n",
       "    }\n",
       "</style>\n",
       "<table border=\"1\" class=\"dataframe\">\n",
       "  <thead>\n",
       "    <tr style=\"text-align: right;\">\n",
       "      <th></th>\n",
       "      <th>href</th>\n",
       "      <th>value</th>\n",
       "      <th>timestamp</th>\n",
       "    </tr>\n",
       "    <tr>\n",
       "      <th>title</th>\n",
       "      <th></th>\n",
       "      <th></th>\n",
       "      <th></th>\n",
       "    </tr>\n",
       "  </thead>\n",
       "  <tbody>\n",
       "    <tr>\n",
       "      <th>dirtydaddies</th>\n",
       "      <td>717</td>\n",
       "      <td>717</td>\n",
       "      <td>717</td>\n",
       "    </tr>\n",
       "    <tr>\n",
       "      <th>acaciakersey</th>\n",
       "      <td>601</td>\n",
       "      <td>601</td>\n",
       "      <td>601</td>\n",
       "    </tr>\n",
       "    <tr>\n",
       "      <th>ohkaychris</th>\n",
       "      <td>563</td>\n",
       "      <td>563</td>\n",
       "      <td>563</td>\n",
       "    </tr>\n",
       "    <tr>\n",
       "      <th>humansofny</th>\n",
       "      <td>546</td>\n",
       "      <td>546</td>\n",
       "      <td>546</td>\n",
       "    </tr>\n",
       "    <tr>\n",
       "      <th>twentyonepilots</th>\n",
       "      <td>528</td>\n",
       "      <td>528</td>\n",
       "      <td>528</td>\n",
       "    </tr>\n",
       "    <tr>\n",
       "      <th>...</th>\n",
       "      <td>...</td>\n",
       "      <td>...</td>\n",
       "      <td>...</td>\n",
       "    </tr>\n",
       "    <tr>\n",
       "      <th>haleighh_b</th>\n",
       "      <td>1</td>\n",
       "      <td>1</td>\n",
       "      <td>1</td>\n",
       "    </tr>\n",
       "    <tr>\n",
       "      <th>haleyrjones</th>\n",
       "      <td>1</td>\n",
       "      <td>1</td>\n",
       "      <td>1</td>\n",
       "    </tr>\n",
       "    <tr>\n",
       "      <th>hanahayes_</th>\n",
       "      <td>1</td>\n",
       "      <td>1</td>\n",
       "      <td>1</td>\n",
       "    </tr>\n",
       "    <tr>\n",
       "      <th>randyjackson</th>\n",
       "      <td>1</td>\n",
       "      <td>1</td>\n",
       "      <td>1</td>\n",
       "    </tr>\n",
       "    <tr>\n",
       "      <th>1.61803398874989484820458683</th>\n",
       "      <td>1</td>\n",
       "      <td>1</td>\n",
       "      <td>1</td>\n",
       "    </tr>\n",
       "  </tbody>\n",
       "</table>\n",
       "<p>1079 rows × 3 columns</p>\n",
       "</div>"
      ],
      "text/plain": [
       "                              href  value  timestamp\n",
       "title                                               \n",
       "dirtydaddies                   717    717        717\n",
       "acaciakersey                   601    601        601\n",
       "ohkaychris                     563    563        563\n",
       "humansofny                     546    546        546\n",
       "twentyonepilots                528    528        528\n",
       "...                            ...    ...        ...\n",
       "haleighh_b                       1      1          1\n",
       "haleyrjones                      1      1          1\n",
       "hanahayes_                       1      1          1\n",
       "randyjackson                     1      1          1\n",
       "1.61803398874989484820458683     1      1          1\n",
       "\n",
       "[1079 rows x 3 columns]"
      ]
     },
     "execution_count": 72,
     "metadata": {},
     "output_type": "execute_result"
    }
   ],
   "source": [
    "df_timestamp.groupby(['title']).count().sort_values('value', ascending = False)"
   ]
  },
  {
   "cell_type": "markdown",
   "id": "03043844",
   "metadata": {},
   "source": [
    "Finally, above i am grouping everything by the title and counting them from the highest value (number of posts liked) down to the lowest value."
   ]
  },
  {
   "cell_type": "markdown",
   "id": "3e428e96",
   "metadata": {},
   "source": []
  },
  {
   "cell_type": "markdown",
   "id": "ce1b3236",
   "metadata": {},
   "source": [
    "### My Hypothesis"
   ]
  },
  {
   "cell_type": "markdown",
   "id": "78235cb8",
   "metadata": {},
   "source": [
    "My hypothesis is that my most liked accounts would be my families accounts such as my siblings and cousins. Initially I thought that this seemed like a fairly correct hypothesis, I am always liking their posts. As you can see above my hypothesis was wrong. The accounts that I had the most liked posts were accounts that I don't even interact with anymore, which is what shocked me the most. My statistical hypothesis is that 50% of posts that I liked that are over 100 posts are accounts that are not from my families accounts. While right now I don't have a definite answer to this hypothesis I would guess that it is accurate based on the data that I have above. I think the idea data sets to use to test my hypothesis is this data set along with comments. I think both of these data sets together would more accurately show which posts I interact with the most. Overall, I think this data set was good to start with but combining the comments, likes, followers and following would provide a more clear answer."
   ]
  }
 ],
 "metadata": {
  "kernelspec": {
   "display_name": "Python 3 (ipykernel)",
   "language": "python",
   "name": "python3"
  },
  "language_info": {
   "codemirror_mode": {
    "name": "ipython",
    "version": 3
   },
   "file_extension": ".py",
   "mimetype": "text/x-python",
   "name": "python",
   "nbconvert_exporter": "python",
   "pygments_lexer": "ipython3",
   "version": "3.9.6"
  }
 },
 "nbformat": 4,
 "nbformat_minor": 5
}
