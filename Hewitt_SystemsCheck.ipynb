{
 "cells": [
  {
   "cell_type": "markdown",
   "id": "06d48f4c",
   "metadata": {},
   "source": [
    "# Erica Hewitt\n",
    "\n",
    "## Major: Digital Science\n",
    "\n",
    "### Class Standing: Senior\n",
    "\n",
    "#### What I hope to get out of this class is a complete understanding of how to collect data and analyze data. I also hope to understand what kind of data social media collects about its users and what they do with that information.\n",
    "\n",
    "\n",
    "\n",
    "*italics*\n",
    "\n",
    "***bold and italics***\n",
    "\n",
    "**bold**\n",
    "\n",
    "1. banana\n",
    "2. orange\n",
    "3. apple\n",
    "4. pear\n",
    "\n",
    "- red\n",
    "- green\n",
    "- purple\n",
    "- black\n",
    "\n",
    "![howdy!](https://cdn.dribbble.com/users/245692/screenshots/4243755/howdy.jpg) \n",
    "\n",
    "[howdy!](https://cdn.dribbble.com/users/245692/screenshots/4243755/howdy.jpg)"
   ]
  },
  {
   "cell_type": "markdown",
   "id": "28187f12",
   "metadata": {},
   "source": [
    "#### Variable Assignment"
   ]
  },
  {
   "cell_type": "code",
   "execution_count": 3,
   "id": "7ae761f2",
   "metadata": {},
   "outputs": [
    {
     "data": {
      "text/plain": [
       "10"
      ]
     },
     "execution_count": 3,
     "metadata": {},
     "output_type": "execute_result"
    }
   ],
   "source": [
    "myVariable = 5 + 5\n",
    "myVariable"
   ]
  },
  {
   "cell_type": "markdown",
   "id": "21be9197",
   "metadata": {},
   "source": [
    "#### Basic Loop"
   ]
  },
  {
   "cell_type": "code",
   "execution_count": 4,
   "id": "beb90d2b",
   "metadata": {},
   "outputs": [
    {
     "name": "stdout",
     "output_type": "stream",
     "text": [
      "2\n",
      "4\n",
      "6\n",
      "8\n",
      "10\n"
     ]
    }
   ],
   "source": [
    "x = [1,2,3,4,5]\n",
    "for i in (x):\n",
    "    print(i * 2)"
   ]
  },
  {
   "cell_type": "markdown",
   "id": "63d31306",
   "metadata": {},
   "source": [
    "#### Print Statement"
   ]
  },
  {
   "cell_type": "code",
   "execution_count": 5,
   "id": "00854d96",
   "metadata": {},
   "outputs": [
    {
     "name": "stdout",
     "output_type": "stream",
     "text": [
      "10\n"
     ]
    }
   ],
   "source": [
    "print(myVariable)"
   ]
  },
  {
   "cell_type": "markdown",
   "id": "ab75123d",
   "metadata": {},
   "source": [
    "#### Return Statement"
   ]
  },
  {
   "cell_type": "code",
   "execution_count": 6,
   "id": "9339dbb9",
   "metadata": {},
   "outputs": [
    {
     "name": "stdout",
     "output_type": "stream",
     "text": [
      "i like cats\n"
     ]
    }
   ],
   "source": [
    "def cat():\n",
    "    return \"i like cats\"\n",
    "\n",
    "my_cat = cat()\n",
    "print(my_cat)"
   ]
  }
 ],
 "metadata": {
  "kernelspec": {
   "display_name": "Python 3 (ipykernel)",
   "language": "python",
   "name": "python3"
  },
  "language_info": {
   "codemirror_mode": {
    "name": "ipython",
    "version": 3
   },
   "file_extension": ".py",
   "mimetype": "text/x-python",
   "name": "python",
   "nbconvert_exporter": "python",
   "pygments_lexer": "ipython3",
   "version": "3.9.6"
  }
 },
 "nbformat": 4,
 "nbformat_minor": 5
}
