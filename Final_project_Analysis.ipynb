{
 "cells": [
  {
   "cell_type": "code",
   "execution_count": 1,
   "id": "195ca0a5",
   "metadata": {},
   "outputs": [],
   "source": [
    "import requests\n",
    "import pandas as pd\n",
    "import urllib\n",
    "import json"
   ]
  },
  {
   "cell_type": "code",
   "execution_count": 2,
   "id": "2b330167",
   "metadata": {},
   "outputs": [],
   "source": [
    "bearer_token = pd.read_csv('bearer_token.txt', header = 0)"
   ]
  },
  {
   "cell_type": "code",
   "execution_count": null,
   "id": "ec5074d7",
   "metadata": {},
   "outputs": [],
   "source": [
    "bearer_token"
   ]
  },
  {
   "cell_type": "code",
   "execution_count": null,
   "id": "3d0ca646",
   "metadata": {},
   "outputs": [],
   "source": [
    "bearer_token['bearer_token'].iloc[0]"
   ]
  },
  {
   "cell_type": "code",
   "execution_count": 5,
   "id": "cf977181",
   "metadata": {},
   "outputs": [],
   "source": [
    "header = {'Authorization' : 'Bearer {}'.format(bearer_token['bearer_token'].iloc[0])}"
   ]
  },
  {
   "cell_type": "code",
   "execution_count": 6,
   "id": "9902fd9a",
   "metadata": {},
   "outputs": [
    {
     "data": {
      "text/plain": [
       "Index(['bearer_token'], dtype='object')"
      ]
     },
     "execution_count": 6,
     "metadata": {},
     "output_type": "execute_result"
    }
   ],
   "source": [
    "bearer_token.keys()"
   ]
  },
  {
   "cell_type": "code",
   "execution_count": 7,
   "id": "716041a7",
   "metadata": {},
   "outputs": [],
   "source": [
    "endpoint_url = 'https://api.twitter.com/2/tweets/search/recent'"
   ]
  },
  {
   "cell_type": "code",
   "execution_count": 8,
   "id": "f8e99bb4",
   "metadata": {},
   "outputs": [],
   "source": [
    "query = urllib.parse.quote('(#TedLasso OR Ted Lasso lang:en)')"
   ]
  },
  {
   "cell_type": "code",
   "execution_count": 9,
   "id": "ee6288bf",
   "metadata": {},
   "outputs": [
    {
     "data": {
      "text/plain": [
       "'%28%23TedLasso%20OR%20Ted%20Lasso%20lang%3Aen%29'"
      ]
     },
     "execution_count": 9,
     "metadata": {},
     "output_type": "execute_result"
    }
   ],
   "source": [
    "query"
   ]
  },
  {
   "cell_type": "code",
   "execution_count": 10,
   "id": "cf53e4d4",
   "metadata": {},
   "outputs": [],
   "source": [
    "my_api_url = endpoint_url + '?query={}'.format(query)"
   ]
  },
  {
   "cell_type": "code",
   "execution_count": 11,
   "id": "3324a2c4",
   "metadata": {},
   "outputs": [
    {
     "data": {
      "text/plain": [
       "'https://api.twitter.com/2/tweets/search/recent?query=%28%23TedLasso%20OR%20Ted%20Lasso%20lang%3Aen%29'"
      ]
     },
     "execution_count": 11,
     "metadata": {},
     "output_type": "execute_result"
    }
   ],
   "source": [
    "my_api_url"
   ]
  },
  {
   "cell_type": "code",
   "execution_count": 12,
   "id": "7b6fa438",
   "metadata": {},
   "outputs": [],
   "source": [
    "tweet_fields = 'public_metrics,created_at,author_id,lang'"
   ]
  },
  {
   "cell_type": "code",
   "execution_count": 13,
   "id": "8cd30266",
   "metadata": {},
   "outputs": [],
   "source": [
    "my_api_url = endpoint_url + '?query={}&tweet.fields={}'.format(query, tweet_fields)"
   ]
  },
  {
   "cell_type": "code",
   "execution_count": 14,
   "id": "50081342",
   "metadata": {},
   "outputs": [
    {
     "data": {
      "text/plain": [
       "'https://api.twitter.com/2/tweets/search/recent?query=%28%23TedLasso%20OR%20Ted%20Lasso%20lang%3Aen%29&tweet.fields=public_metrics,created_at,author_id,lang'"
      ]
     },
     "execution_count": 14,
     "metadata": {},
     "output_type": "execute_result"
    }
   ],
   "source": [
    "my_api_url"
   ]
  },
  {
   "cell_type": "code",
   "execution_count": 15,
   "id": "03ffca74",
   "metadata": {},
   "outputs": [],
   "source": [
    "expansions = 'author_id'"
   ]
  },
  {
   "cell_type": "code",
   "execution_count": 16,
   "id": "8e639e27",
   "metadata": {},
   "outputs": [],
   "source": [
    "url = endpoint_url + '?query={}&max_results=10&tweet.fields{}'.format(query, tweet_fields)"
   ]
  },
  {
   "cell_type": "code",
   "execution_count": 17,
   "id": "99ed4b2a",
   "metadata": {},
   "outputs": [],
   "source": [
    "response = requests.request(\"GET\", url, headers = header)"
   ]
  },
  {
   "cell_type": "code",
   "execution_count": 27,
   "id": "968f6c08",
   "metadata": {},
   "outputs": [],
   "source": [
    "url_expansions = endpoint_url + '?query={}&max_results=100&tweet.fields={}&expansions={}&user.fields={}'.format(query, tweet_fields, expansions, 'username')"
   ]
  },
  {
   "cell_type": "code",
   "execution_count": 28,
   "id": "3639f51e",
   "metadata": {},
   "outputs": [
    {
     "data": {
      "text/plain": [
       "'https://api.twitter.com/2/tweets/search/recent?query=%28%23TedLasso%20OR%20Ted%20Lasso%20lang%3Aen%29&max_results=100&tweet.fields=public_metrics,created_at,author_id,lang&expansions=author_id&user.fields=username'"
      ]
     },
     "execution_count": 28,
     "metadata": {},
     "output_type": "execute_result"
    }
   ],
   "source": [
    "url_expansions"
   ]
  },
  {
   "cell_type": "code",
   "execution_count": 29,
   "id": "409787d5",
   "metadata": {},
   "outputs": [],
   "source": [
    "first_response = requests.request(\"GET\", url_expansions, headers = header)"
   ]
  },
  {
   "cell_type": "code",
   "execution_count": null,
   "id": "76e895f8",
   "metadata": {},
   "outputs": [],
   "source": [
    "first_response.text"
   ]
  },
  {
   "cell_type": "code",
   "execution_count": 31,
   "id": "6818c993",
   "metadata": {},
   "outputs": [],
   "source": [
    "first_dict = json.loads(first_response.text)"
   ]
  },
  {
   "cell_type": "code",
   "execution_count": 32,
   "id": "69052a8c",
   "metadata": {},
   "outputs": [
    {
     "data": {
      "text/plain": [
       "dict_keys(['data', 'includes', 'meta'])"
      ]
     },
     "execution_count": 32,
     "metadata": {},
     "output_type": "execute_result"
    }
   ],
   "source": [
    "first_dict.keys()"
   ]
  },
  {
   "cell_type": "code",
   "execution_count": 33,
   "id": "aafd8903",
   "metadata": {},
   "outputs": [],
   "source": [
    "my_df = pd.DataFrame(first_dict['data'])"
   ]
  },
  {
   "cell_type": "code",
   "execution_count": 34,
   "id": "3b0c179e",
   "metadata": {},
   "outputs": [
    {
     "data": {
      "text/html": [
       "<div>\n",
       "<style scoped>\n",
       "    .dataframe tbody tr th:only-of-type {\n",
       "        vertical-align: middle;\n",
       "    }\n",
       "\n",
       "    .dataframe tbody tr th {\n",
       "        vertical-align: top;\n",
       "    }\n",
       "\n",
       "    .dataframe thead th {\n",
       "        text-align: right;\n",
       "    }\n",
       "</style>\n",
       "<table border=\"1\" class=\"dataframe\">\n",
       "  <thead>\n",
       "    <tr style=\"text-align: right;\">\n",
       "      <th></th>\n",
       "      <th>id</th>\n",
       "      <th>author_id</th>\n",
       "      <th>text</th>\n",
       "      <th>lang</th>\n",
       "      <th>created_at</th>\n",
       "      <th>public_metrics</th>\n",
       "    </tr>\n",
       "  </thead>\n",
       "  <tbody>\n",
       "    <tr>\n",
       "      <th>0</th>\n",
       "      <td>1467931711526817794</td>\n",
       "      <td>1444048793603907586</td>\n",
       "      <td>@franklinleonard Nick Mohammed absolutely snub...</td>\n",
       "      <td>en</td>\n",
       "      <td>2021-12-06T18:59:27.000Z</td>\n",
       "      <td>{'retweet_count': 0, 'reply_count': 0, 'like_c...</td>\n",
       "    </tr>\n",
       "    <tr>\n",
       "      <th>1</th>\n",
       "      <td>1467931702907621384</td>\n",
       "      <td>105834172</td>\n",
       "      <td>If this doesn’t look like a scene out of @TedL...</td>\n",
       "      <td>en</td>\n",
       "      <td>2021-12-06T18:59:25.000Z</td>\n",
       "      <td>{'retweet_count': 0, 'reply_count': 0, 'like_c...</td>\n",
       "    </tr>\n",
       "    <tr>\n",
       "      <th>2</th>\n",
       "      <td>1467931587136397316</td>\n",
       "      <td>1253066793809256448</td>\n",
       "      <td>Favorite Ted Lasso character? (Not Ted) Reply ...</td>\n",
       "      <td>en</td>\n",
       "      <td>2021-12-06T18:58:57.000Z</td>\n",
       "      <td>{'retweet_count': 0, 'reply_count': 0, 'like_c...</td>\n",
       "    </tr>\n",
       "    <tr>\n",
       "      <th>3</th>\n",
       "      <td>1467931103138828293</td>\n",
       "      <td>200617165</td>\n",
       "      <td>RT @Darveyinbed: Waking up with Hannah singing...</td>\n",
       "      <td>en</td>\n",
       "      <td>2021-12-06T18:57:02.000Z</td>\n",
       "      <td>{'retweet_count': 98, 'reply_count': 0, 'like_...</td>\n",
       "    </tr>\n",
       "    <tr>\n",
       "      <th>4</th>\n",
       "      <td>1467931007026286592</td>\n",
       "      <td>1004773208942206976</td>\n",
       "      <td>*Ted lasso opening credits starts playing* htt...</td>\n",
       "      <td>en</td>\n",
       "      <td>2021-12-06T18:56:39.000Z</td>\n",
       "      <td>{'retweet_count': 0, 'reply_count': 0, 'like_c...</td>\n",
       "    </tr>\n",
       "    <tr>\n",
       "      <th>...</th>\n",
       "      <td>...</td>\n",
       "      <td>...</td>\n",
       "      <td>...</td>\n",
       "      <td>...</td>\n",
       "      <td>...</td>\n",
       "      <td>...</td>\n",
       "    </tr>\n",
       "    <tr>\n",
       "      <th>95</th>\n",
       "      <td>1467921788390805506</td>\n",
       "      <td>1456361220701835268</td>\n",
       "      <td>#TedLasso https://t.co/usIXotMhHz</td>\n",
       "      <td>und</td>\n",
       "      <td>2021-12-06T18:20:01.000Z</td>\n",
       "      <td>{'retweet_count': 0, 'reply_count': 0, 'like_c...</td>\n",
       "    </tr>\n",
       "    <tr>\n",
       "      <th>96</th>\n",
       "      <td>1467921473025179653</td>\n",
       "      <td>28177237</td>\n",
       "      <td>RT @TedLassoStache: And, hey, remember to focu...</td>\n",
       "      <td>en</td>\n",
       "      <td>2021-12-06T18:18:46.000Z</td>\n",
       "      <td>{'retweet_count': 18, 'reply_count': 0, 'like_...</td>\n",
       "    </tr>\n",
       "    <tr>\n",
       "      <th>97</th>\n",
       "      <td>1467921215151034375</td>\n",
       "      <td>17444763</td>\n",
       "      <td>RT @biscuitsoclock: rebecca be like 👼🏻 #tedlas...</td>\n",
       "      <td>en</td>\n",
       "      <td>2021-12-06T18:17:45.000Z</td>\n",
       "      <td>{'retweet_count': 10, 'reply_count': 0, 'like_...</td>\n",
       "    </tr>\n",
       "    <tr>\n",
       "      <th>98</th>\n",
       "      <td>1467921188651470852</td>\n",
       "      <td>526804114</td>\n",
       "      <td>RT @SudeikisNews: 🏆 | jason sudeikis and ted l...</td>\n",
       "      <td>en</td>\n",
       "      <td>2021-12-06T18:17:38.000Z</td>\n",
       "      <td>{'retweet_count': 19, 'reply_count': 0, 'like_...</td>\n",
       "    </tr>\n",
       "    <tr>\n",
       "      <th>99</th>\n",
       "      <td>1467921166463639562</td>\n",
       "      <td>2619327994</td>\n",
       "      <td>RT @didtedbecca: ted lasso funko pops when</td>\n",
       "      <td>en</td>\n",
       "      <td>2021-12-06T18:17:33.000Z</td>\n",
       "      <td>{'retweet_count': 24, 'reply_count': 0, 'like_...</td>\n",
       "    </tr>\n",
       "  </tbody>\n",
       "</table>\n",
       "<p>100 rows × 6 columns</p>\n",
       "</div>"
      ],
      "text/plain": [
       "                     id            author_id  \\\n",
       "0   1467931711526817794  1444048793603907586   \n",
       "1   1467931702907621384            105834172   \n",
       "2   1467931587136397316  1253066793809256448   \n",
       "3   1467931103138828293            200617165   \n",
       "4   1467931007026286592  1004773208942206976   \n",
       "..                  ...                  ...   \n",
       "95  1467921788390805506  1456361220701835268   \n",
       "96  1467921473025179653             28177237   \n",
       "97  1467921215151034375             17444763   \n",
       "98  1467921188651470852            526804114   \n",
       "99  1467921166463639562           2619327994   \n",
       "\n",
       "                                                 text lang  \\\n",
       "0   @franklinleonard Nick Mohammed absolutely snub...   en   \n",
       "1   If this doesn’t look like a scene out of @TedL...   en   \n",
       "2   Favorite Ted Lasso character? (Not Ted) Reply ...   en   \n",
       "3   RT @Darveyinbed: Waking up with Hannah singing...   en   \n",
       "4   *Ted lasso opening credits starts playing* htt...   en   \n",
       "..                                                ...  ...   \n",
       "95                  #TedLasso https://t.co/usIXotMhHz  und   \n",
       "96  RT @TedLassoStache: And, hey, remember to focu...   en   \n",
       "97  RT @biscuitsoclock: rebecca be like 👼🏻 #tedlas...   en   \n",
       "98  RT @SudeikisNews: 🏆 | jason sudeikis and ted l...   en   \n",
       "99         RT @didtedbecca: ted lasso funko pops when   en   \n",
       "\n",
       "                  created_at  \\\n",
       "0   2021-12-06T18:59:27.000Z   \n",
       "1   2021-12-06T18:59:25.000Z   \n",
       "2   2021-12-06T18:58:57.000Z   \n",
       "3   2021-12-06T18:57:02.000Z   \n",
       "4   2021-12-06T18:56:39.000Z   \n",
       "..                       ...   \n",
       "95  2021-12-06T18:20:01.000Z   \n",
       "96  2021-12-06T18:18:46.000Z   \n",
       "97  2021-12-06T18:17:45.000Z   \n",
       "98  2021-12-06T18:17:38.000Z   \n",
       "99  2021-12-06T18:17:33.000Z   \n",
       "\n",
       "                                       public_metrics  \n",
       "0   {'retweet_count': 0, 'reply_count': 0, 'like_c...  \n",
       "1   {'retweet_count': 0, 'reply_count': 0, 'like_c...  \n",
       "2   {'retweet_count': 0, 'reply_count': 0, 'like_c...  \n",
       "3   {'retweet_count': 98, 'reply_count': 0, 'like_...  \n",
       "4   {'retweet_count': 0, 'reply_count': 0, 'like_c...  \n",
       "..                                                ...  \n",
       "95  {'retweet_count': 0, 'reply_count': 0, 'like_c...  \n",
       "96  {'retweet_count': 18, 'reply_count': 0, 'like_...  \n",
       "97  {'retweet_count': 10, 'reply_count': 0, 'like_...  \n",
       "98  {'retweet_count': 19, 'reply_count': 0, 'like_...  \n",
       "99  {'retweet_count': 24, 'reply_count': 0, 'like_...  \n",
       "\n",
       "[100 rows x 6 columns]"
      ]
     },
     "execution_count": 34,
     "metadata": {},
     "output_type": "execute_result"
    }
   ],
   "source": [
    "my_df"
   ]
  },
  {
   "cell_type": "markdown",
   "id": "4ad3b0ba",
   "metadata": {},
   "source": [
    "Here is my data frame for tweets that mention Ted Lasso or #TedLasso. Having this information will allow me to filter through these tweet between negative and positive tweets. Then eventually i can compare the two. the question i am asking is if tweets have any effect for the winner of the best comedy series for the Emmy's. If there are more positive tweets than negative then it could help the winner of that category.\n",
    "\n",
    "My next steps are to only have the text in the tweets and have a different data frame with that information. From there i can parse through the text and separate the text into a positive or negative category.\n",
    "\n",
    "# From here and below is my new code for the analysis portion of the project"
   ]
  },
  {
   "cell_type": "code",
   "execution_count": 50,
   "id": "e1cb02d8",
   "metadata": {},
   "outputs": [
    {
     "data": {
      "text/plain": [
       "{'newest_id': '1467931711526817794',\n",
       " 'oldest_id': '1467921166463639562',\n",
       " 'result_count': 100,\n",
       " 'next_token': 'b26v89c19zqg8o3fpdy8isea290cgg9jcwsmwe17v3q7x'}"
      ]
     },
     "execution_count": 50,
     "metadata": {},
     "output_type": "execute_result"
    }
   ],
   "source": [
    "first_dict['meta']"
   ]
  },
  {
   "cell_type": "code",
   "execution_count": 52,
   "id": "e06be4fb",
   "metadata": {},
   "outputs": [],
   "source": [
    "my_api_url2 = my_api_url + '&next_token={}&max_results=100'.format(first_dict['meta']['next_token'])"
   ]
  },
  {
   "cell_type": "markdown",
   "id": "04d3b7dc",
   "metadata": {},
   "source": [
    "Here i am getting the next token and adding it my first response so i can get more that 100 tweets"
   ]
  },
  {
   "cell_type": "code",
   "execution_count": 53,
   "id": "d72a6a71",
   "metadata": {},
   "outputs": [],
   "source": [
    "second_response = requests.request(\"GET\", my_api_url2, headers = header)"
   ]
  },
  {
   "cell_type": "code",
   "execution_count": null,
   "id": "152b9c26",
   "metadata": {},
   "outputs": [],
   "source": [
    "second_response.text"
   ]
  },
  {
   "cell_type": "code",
   "execution_count": 56,
   "id": "92966f5b",
   "metadata": {},
   "outputs": [],
   "source": [
    "my_df = my_df.append(pd.DataFrame(json.loads(second_response.text)['data']), ignore_index= True)"
   ]
  },
  {
   "cell_type": "markdown",
   "id": "9e72eedc",
   "metadata": {},
   "source": [
    "Here i am overriding my dataframe so i have all 200 tweets in one dataframe"
   ]
  },
  {
   "cell_type": "code",
   "execution_count": 57,
   "id": "5de67674",
   "metadata": {},
   "outputs": [
    {
     "data": {
      "text/html": [
       "<div>\n",
       "<style scoped>\n",
       "    .dataframe tbody tr th:only-of-type {\n",
       "        vertical-align: middle;\n",
       "    }\n",
       "\n",
       "    .dataframe tbody tr th {\n",
       "        vertical-align: top;\n",
       "    }\n",
       "\n",
       "    .dataframe thead th {\n",
       "        text-align: right;\n",
       "    }\n",
       "</style>\n",
       "<table border=\"1\" class=\"dataframe\">\n",
       "  <thead>\n",
       "    <tr style=\"text-align: right;\">\n",
       "      <th></th>\n",
       "      <th>id</th>\n",
       "      <th>author_id</th>\n",
       "      <th>text</th>\n",
       "      <th>lang</th>\n",
       "      <th>created_at</th>\n",
       "      <th>public_metrics</th>\n",
       "    </tr>\n",
       "  </thead>\n",
       "  <tbody>\n",
       "    <tr>\n",
       "      <th>0</th>\n",
       "      <td>1467931711526817794</td>\n",
       "      <td>1444048793603907586</td>\n",
       "      <td>@franklinleonard Nick Mohammed absolutely snub...</td>\n",
       "      <td>en</td>\n",
       "      <td>2021-12-06T18:59:27.000Z</td>\n",
       "      <td>{'retweet_count': 0, 'reply_count': 0, 'like_c...</td>\n",
       "    </tr>\n",
       "    <tr>\n",
       "      <th>1</th>\n",
       "      <td>1467931702907621384</td>\n",
       "      <td>105834172</td>\n",
       "      <td>If this doesn’t look like a scene out of @TedL...</td>\n",
       "      <td>en</td>\n",
       "      <td>2021-12-06T18:59:25.000Z</td>\n",
       "      <td>{'retweet_count': 0, 'reply_count': 0, 'like_c...</td>\n",
       "    </tr>\n",
       "    <tr>\n",
       "      <th>2</th>\n",
       "      <td>1467931587136397316</td>\n",
       "      <td>1253066793809256448</td>\n",
       "      <td>Favorite Ted Lasso character? (Not Ted) Reply ...</td>\n",
       "      <td>en</td>\n",
       "      <td>2021-12-06T18:58:57.000Z</td>\n",
       "      <td>{'retweet_count': 0, 'reply_count': 0, 'like_c...</td>\n",
       "    </tr>\n",
       "    <tr>\n",
       "      <th>3</th>\n",
       "      <td>1467931103138828293</td>\n",
       "      <td>200617165</td>\n",
       "      <td>RT @Darveyinbed: Waking up with Hannah singing...</td>\n",
       "      <td>en</td>\n",
       "      <td>2021-12-06T18:57:02.000Z</td>\n",
       "      <td>{'retweet_count': 98, 'reply_count': 0, 'like_...</td>\n",
       "    </tr>\n",
       "    <tr>\n",
       "      <th>4</th>\n",
       "      <td>1467931007026286592</td>\n",
       "      <td>1004773208942206976</td>\n",
       "      <td>*Ted lasso opening credits starts playing* htt...</td>\n",
       "      <td>en</td>\n",
       "      <td>2021-12-06T18:56:39.000Z</td>\n",
       "      <td>{'retweet_count': 0, 'reply_count': 0, 'like_c...</td>\n",
       "    </tr>\n",
       "    <tr>\n",
       "      <th>...</th>\n",
       "      <td>...</td>\n",
       "      <td>...</td>\n",
       "      <td>...</td>\n",
       "      <td>...</td>\n",
       "      <td>...</td>\n",
       "      <td>...</td>\n",
       "    </tr>\n",
       "    <tr>\n",
       "      <th>195</th>\n",
       "      <td>1467913966064132102</td>\n",
       "      <td>1102576999216959490</td>\n",
       "      <td>RT @oxentepipoca: Os indicados em Melhor Série...</td>\n",
       "      <td>en</td>\n",
       "      <td>2021-12-06T17:48:56.000Z</td>\n",
       "      <td>{'retweet_count': 30, 'reply_count': 0, 'like_...</td>\n",
       "    </tr>\n",
       "    <tr>\n",
       "      <th>196</th>\n",
       "      <td>1467913823810031616</td>\n",
       "      <td>1021986544436105217</td>\n",
       "      <td>RT @fay_maillardet: What Mar said👇🏻 If you're ...</td>\n",
       "      <td>en</td>\n",
       "      <td>2021-12-06T17:48:22.000Z</td>\n",
       "      <td>{'retweet_count': 1, 'reply_count': 0, 'like_c...</td>\n",
       "    </tr>\n",
       "    <tr>\n",
       "      <th>197</th>\n",
       "      <td>1467913668042055682</td>\n",
       "      <td>2778398008</td>\n",
       "      <td>@NYCFC That felt like watching Ted Lasso, but ...</td>\n",
       "      <td>en</td>\n",
       "      <td>2021-12-06T17:47:45.000Z</td>\n",
       "      <td>{'retweet_count': 0, 'reply_count': 0, 'like_c...</td>\n",
       "    </tr>\n",
       "    <tr>\n",
       "      <th>198</th>\n",
       "      <td>1467913606054354945</td>\n",
       "      <td>1244810432327512064</td>\n",
       "      <td>idk if Ted Lasso will win again since The Grea...</td>\n",
       "      <td>en</td>\n",
       "      <td>2021-12-06T17:47:30.000Z</td>\n",
       "      <td>{'retweet_count': 0, 'reply_count': 0, 'like_c...</td>\n",
       "    </tr>\n",
       "    <tr>\n",
       "      <th>199</th>\n",
       "      <td>1467913504791441420</td>\n",
       "      <td>804656572555268096</td>\n",
       "      <td>RT @BatatinhaGeek: As indicadas a 'Melhor Séri...</td>\n",
       "      <td>en</td>\n",
       "      <td>2021-12-06T17:47:06.000Z</td>\n",
       "      <td>{'retweet_count': 3, 'reply_count': 0, 'like_c...</td>\n",
       "    </tr>\n",
       "  </tbody>\n",
       "</table>\n",
       "<p>200 rows × 6 columns</p>\n",
       "</div>"
      ],
      "text/plain": [
       "                      id            author_id  \\\n",
       "0    1467931711526817794  1444048793603907586   \n",
       "1    1467931702907621384            105834172   \n",
       "2    1467931587136397316  1253066793809256448   \n",
       "3    1467931103138828293            200617165   \n",
       "4    1467931007026286592  1004773208942206976   \n",
       "..                   ...                  ...   \n",
       "195  1467913966064132102  1102576999216959490   \n",
       "196  1467913823810031616  1021986544436105217   \n",
       "197  1467913668042055682           2778398008   \n",
       "198  1467913606054354945  1244810432327512064   \n",
       "199  1467913504791441420   804656572555268096   \n",
       "\n",
       "                                                  text lang  \\\n",
       "0    @franklinleonard Nick Mohammed absolutely snub...   en   \n",
       "1    If this doesn’t look like a scene out of @TedL...   en   \n",
       "2    Favorite Ted Lasso character? (Not Ted) Reply ...   en   \n",
       "3    RT @Darveyinbed: Waking up with Hannah singing...   en   \n",
       "4    *Ted lasso opening credits starts playing* htt...   en   \n",
       "..                                                 ...  ...   \n",
       "195  RT @oxentepipoca: Os indicados em Melhor Série...   en   \n",
       "196  RT @fay_maillardet: What Mar said👇🏻 If you're ...   en   \n",
       "197  @NYCFC That felt like watching Ted Lasso, but ...   en   \n",
       "198  idk if Ted Lasso will win again since The Grea...   en   \n",
       "199  RT @BatatinhaGeek: As indicadas a 'Melhor Séri...   en   \n",
       "\n",
       "                   created_at  \\\n",
       "0    2021-12-06T18:59:27.000Z   \n",
       "1    2021-12-06T18:59:25.000Z   \n",
       "2    2021-12-06T18:58:57.000Z   \n",
       "3    2021-12-06T18:57:02.000Z   \n",
       "4    2021-12-06T18:56:39.000Z   \n",
       "..                        ...   \n",
       "195  2021-12-06T17:48:56.000Z   \n",
       "196  2021-12-06T17:48:22.000Z   \n",
       "197  2021-12-06T17:47:45.000Z   \n",
       "198  2021-12-06T17:47:30.000Z   \n",
       "199  2021-12-06T17:47:06.000Z   \n",
       "\n",
       "                                        public_metrics  \n",
       "0    {'retweet_count': 0, 'reply_count': 0, 'like_c...  \n",
       "1    {'retweet_count': 0, 'reply_count': 0, 'like_c...  \n",
       "2    {'retweet_count': 0, 'reply_count': 0, 'like_c...  \n",
       "3    {'retweet_count': 98, 'reply_count': 0, 'like_...  \n",
       "4    {'retweet_count': 0, 'reply_count': 0, 'like_c...  \n",
       "..                                                 ...  \n",
       "195  {'retweet_count': 30, 'reply_count': 0, 'like_...  \n",
       "196  {'retweet_count': 1, 'reply_count': 0, 'like_c...  \n",
       "197  {'retweet_count': 0, 'reply_count': 0, 'like_c...  \n",
       "198  {'retweet_count': 0, 'reply_count': 0, 'like_c...  \n",
       "199  {'retweet_count': 3, 'reply_count': 0, 'like_c...  \n",
       "\n",
       "[200 rows x 6 columns]"
      ]
     },
     "execution_count": 57,
     "metadata": {},
     "output_type": "execute_result"
    }
   ],
   "source": [
    "my_df"
   ]
  },
  {
   "cell_type": "code",
   "execution_count": 59,
   "id": "88de5f45",
   "metadata": {},
   "outputs": [],
   "source": [
    "#second_dict = json.loads(second_response.text)"
   ]
  },
  {
   "cell_type": "code",
   "execution_count": 60,
   "id": "de80e400",
   "metadata": {},
   "outputs": [
    {
     "data": {
      "text/plain": [
       "{'newest_id': '1467921129511731207',\n",
       " 'oldest_id': '1467913504791441420',\n",
       " 'result_count': 100,\n",
       " 'next_token': 'b26v89c19zqg8o3fpdy8isdzcvq7xxcxoac5pf1ypuq2l'}"
      ]
     },
     "execution_count": 60,
     "metadata": {},
     "output_type": "execute_result"
    }
   ],
   "source": [
    "#second_dict['meta']"
   ]
  },
  {
   "cell_type": "code",
   "execution_count": 69,
   "id": "b21c62de",
   "metadata": {},
   "outputs": [],
   "source": [
    "#my_api_url3 = my_api_url2 + '&next_token={}&max_results=100'.format(second_dict['meta']['next_token'])"
   ]
  },
  {
   "cell_type": "code",
   "execution_count": 70,
   "id": "a51b74b2",
   "metadata": {},
   "outputs": [
    {
     "data": {
      "text/plain": [
       "'https://api.twitter.com/2/tweets/search/recent?query=%28%23TedLasso%20OR%20Ted%20Lasso%20lang%3Aen%29&tweet.fields=public_metrics,created_at,author_id,lang&next_token=b26v89c19zqg8o3fpdy8isea290cgg9jcwsmwe17v3q7x&max_results=100&next_token=b26v89c19zqg8o3fpdy8isdzcvq7xxcxoac5pf1ypuq2l&max_results=99'"
      ]
     },
     "execution_count": 70,
     "metadata": {},
     "output_type": "execute_result"
    }
   ],
   "source": [
    "#my_api_url3"
   ]
  },
  {
   "cell_type": "code",
   "execution_count": 71,
   "id": "a4bf364d",
   "metadata": {},
   "outputs": [],
   "source": [
    "#third_response = requests.request(\"GET\", my_api_url3, headers = header)"
   ]
  },
  {
   "cell_type": "code",
   "execution_count": 72,
   "id": "464795db",
   "metadata": {},
   "outputs": [
    {
     "data": {
      "text/plain": [
       "'{\"errors\":[{\"parameters\":{\"max_results\":[\"100\",\"99\"]},\"message\":\"Duplicate parameters are not allowed: the `max_results` query parameter\"},{\"parameters\":{\"next_token\":[\"b26v89c19zqg8o3fpdy8isea290cgg9jcwsmwe17v3q7x\",\"b26v89c19zqg8o3fpdy8isdzcvq7xxcxoac5pf1ypuq2l\"]},\"message\":\"Duplicate parameters are not allowed: the `next_token` query parameter\"}],\"title\":\"Invalid Request\",\"detail\":\"One or more parameters to your request was invalid.\",\"type\":\"https://api.twitter.com/2/problems/invalid-request\"}'"
      ]
     },
     "execution_count": 72,
     "metadata": {},
     "output_type": "execute_result"
    }
   ],
   "source": [
    "#third_response.text"
   ]
  },
  {
   "cell_type": "markdown",
   "id": "78131da2",
   "metadata": {},
   "source": [
    "Here I tried to add the next 100 tweets but ran into this error. I understand why I got the error but I don't know how to fix it."
   ]
  },
  {
   "cell_type": "code",
   "execution_count": 73,
   "id": "7e9cf994",
   "metadata": {},
   "outputs": [],
   "source": [
    "my_df.to_csv('tedLassoAnalysis.csv')"
   ]
  },
  {
   "cell_type": "markdown",
   "id": "fbef75bf",
   "metadata": {},
   "source": [
    "Now I am converting my dataframe into a csv file so i can parse through the tweets."
   ]
  },
  {
   "cell_type": "code",
   "execution_count": 74,
   "id": "02dc20bd",
   "metadata": {},
   "outputs": [],
   "source": [
    "lasso = pd.read_csv('tedLassoAnalysis.csv', encoding = 'utf-8')"
   ]
  },
  {
   "cell_type": "code",
   "execution_count": 75,
   "id": "cb1055a2",
   "metadata": {},
   "outputs": [
    {
     "data": {
      "text/plain": [
       "Index(['Unnamed: 0', 'id', 'author_id', 'text', 'lang', 'created_at',\n",
       "       'public_metrics'],\n",
       "      dtype='object')"
      ]
     },
     "execution_count": 75,
     "metadata": {},
     "output_type": "execute_result"
    }
   ],
   "source": [
    "lasso.keys()"
   ]
  },
  {
   "cell_type": "code",
   "execution_count": 76,
   "id": "836275d1",
   "metadata": {},
   "outputs": [
    {
     "data": {
      "text/html": [
       "<div>\n",
       "<style scoped>\n",
       "    .dataframe tbody tr th:only-of-type {\n",
       "        vertical-align: middle;\n",
       "    }\n",
       "\n",
       "    .dataframe tbody tr th {\n",
       "        vertical-align: top;\n",
       "    }\n",
       "\n",
       "    .dataframe thead th {\n",
       "        text-align: right;\n",
       "    }\n",
       "</style>\n",
       "<table border=\"1\" class=\"dataframe\">\n",
       "  <thead>\n",
       "    <tr style=\"text-align: right;\">\n",
       "      <th></th>\n",
       "      <th>Unnamed: 0</th>\n",
       "      <th>id</th>\n",
       "      <th>author_id</th>\n",
       "      <th>text</th>\n",
       "      <th>lang</th>\n",
       "      <th>created_at</th>\n",
       "      <th>public_metrics</th>\n",
       "    </tr>\n",
       "  </thead>\n",
       "  <tbody>\n",
       "    <tr>\n",
       "      <th>0</th>\n",
       "      <td>0</td>\n",
       "      <td>1467931711526817794</td>\n",
       "      <td>1444048793603907586</td>\n",
       "      <td>@franklinleonard Nick Mohammed absolutely snub...</td>\n",
       "      <td>en</td>\n",
       "      <td>2021-12-06T18:59:27.000Z</td>\n",
       "      <td>{'retweet_count': 0, 'reply_count': 0, 'like_c...</td>\n",
       "    </tr>\n",
       "    <tr>\n",
       "      <th>1</th>\n",
       "      <td>1</td>\n",
       "      <td>1467931702907621384</td>\n",
       "      <td>105834172</td>\n",
       "      <td>If this doesn’t look like a scene out of @TedL...</td>\n",
       "      <td>en</td>\n",
       "      <td>2021-12-06T18:59:25.000Z</td>\n",
       "      <td>{'retweet_count': 0, 'reply_count': 0, 'like_c...</td>\n",
       "    </tr>\n",
       "    <tr>\n",
       "      <th>2</th>\n",
       "      <td>2</td>\n",
       "      <td>1467931587136397316</td>\n",
       "      <td>1253066793809256448</td>\n",
       "      <td>Favorite Ted Lasso character? (Not Ted) Reply ...</td>\n",
       "      <td>en</td>\n",
       "      <td>2021-12-06T18:58:57.000Z</td>\n",
       "      <td>{'retweet_count': 0, 'reply_count': 0, 'like_c...</td>\n",
       "    </tr>\n",
       "    <tr>\n",
       "      <th>3</th>\n",
       "      <td>3</td>\n",
       "      <td>1467931103138828293</td>\n",
       "      <td>200617165</td>\n",
       "      <td>RT @Darveyinbed: Waking up with Hannah singing...</td>\n",
       "      <td>en</td>\n",
       "      <td>2021-12-06T18:57:02.000Z</td>\n",
       "      <td>{'retweet_count': 98, 'reply_count': 0, 'like_...</td>\n",
       "    </tr>\n",
       "    <tr>\n",
       "      <th>4</th>\n",
       "      <td>4</td>\n",
       "      <td>1467931007026286592</td>\n",
       "      <td>1004773208942206976</td>\n",
       "      <td>*Ted lasso opening credits starts playing* htt...</td>\n",
       "      <td>en</td>\n",
       "      <td>2021-12-06T18:56:39.000Z</td>\n",
       "      <td>{'retweet_count': 0, 'reply_count': 0, 'like_c...</td>\n",
       "    </tr>\n",
       "  </tbody>\n",
       "</table>\n",
       "</div>"
      ],
      "text/plain": [
       "   Unnamed: 0                   id            author_id  \\\n",
       "0           0  1467931711526817794  1444048793603907586   \n",
       "1           1  1467931702907621384            105834172   \n",
       "2           2  1467931587136397316  1253066793809256448   \n",
       "3           3  1467931103138828293            200617165   \n",
       "4           4  1467931007026286592  1004773208942206976   \n",
       "\n",
       "                                                text lang  \\\n",
       "0  @franklinleonard Nick Mohammed absolutely snub...   en   \n",
       "1  If this doesn’t look like a scene out of @TedL...   en   \n",
       "2  Favorite Ted Lasso character? (Not Ted) Reply ...   en   \n",
       "3  RT @Darveyinbed: Waking up with Hannah singing...   en   \n",
       "4  *Ted lasso opening credits starts playing* htt...   en   \n",
       "\n",
       "                 created_at                                     public_metrics  \n",
       "0  2021-12-06T18:59:27.000Z  {'retweet_count': 0, 'reply_count': 0, 'like_c...  \n",
       "1  2021-12-06T18:59:25.000Z  {'retweet_count': 0, 'reply_count': 0, 'like_c...  \n",
       "2  2021-12-06T18:58:57.000Z  {'retweet_count': 0, 'reply_count': 0, 'like_c...  \n",
       "3  2021-12-06T18:57:02.000Z  {'retweet_count': 98, 'reply_count': 0, 'like_...  \n",
       "4  2021-12-06T18:56:39.000Z  {'retweet_count': 0, 'reply_count': 0, 'like_c...  "
      ]
     },
     "execution_count": 76,
     "metadata": {},
     "output_type": "execute_result"
    }
   ],
   "source": [
    "lasso.head()"
   ]
  },
  {
   "cell_type": "code",
   "execution_count": 77,
   "id": "780f500e",
   "metadata": {},
   "outputs": [
    {
     "data": {
      "text/plain": [
       "0      en\n",
       "1      en\n",
       "2      en\n",
       "3      en\n",
       "4      en\n",
       "       ..\n",
       "195    en\n",
       "196    en\n",
       "197    en\n",
       "198    en\n",
       "199    en\n",
       "Name: lang, Length: 200, dtype: category\n",
       "Categories (6, object): ['en', 'es', 'it', 'pt', 'tl', 'und']"
      ]
     },
     "execution_count": 77,
     "metadata": {},
     "output_type": "execute_result"
    }
   ],
   "source": [
    "lasso['lang'].astype('category')"
   ]
  },
  {
   "cell_type": "code",
   "execution_count": 78,
   "id": "2afc8d16",
   "metadata": {},
   "outputs": [],
   "source": [
    "lasso_posts = lasso[(lasso['lang']) == 'en']"
   ]
  },
  {
   "cell_type": "code",
   "execution_count": 79,
   "id": "b36f8783",
   "metadata": {},
   "outputs": [
    {
     "data": {
      "text/plain": [
       "0      en\n",
       "1      en\n",
       "2      en\n",
       "3      en\n",
       "4      en\n",
       "       ..\n",
       "195    en\n",
       "196    en\n",
       "197    en\n",
       "198    en\n",
       "199    en\n",
       "Name: lang, Length: 191, dtype: category\n",
       "Categories (1, object): ['en']"
      ]
     },
     "execution_count": 79,
     "metadata": {},
     "output_type": "execute_result"
    }
   ],
   "source": [
    "lasso_posts['lang'].astype('category')"
   ]
  },
  {
   "cell_type": "markdown",
   "id": "940b1a2f",
   "metadata": {},
   "source": [
    "Now I am retrieving all the tweets in English"
   ]
  },
  {
   "cell_type": "code",
   "execution_count": 80,
   "id": "67c06948",
   "metadata": {},
   "outputs": [
    {
     "data": {
      "text/plain": [
       "0      @franklinleonard Nick Mohammed absolutely snub...\n",
       "1      If this doesn’t look like a scene out of @TedL...\n",
       "2      Favorite Ted Lasso character? (Not Ted) Reply ...\n",
       "3      RT @Darveyinbed: Waking up with Hannah singing...\n",
       "4      *Ted lasso opening credits starts playing* htt...\n",
       "                             ...                        \n",
       "195    RT @oxentepipoca: Os indicados em Melhor Série...\n",
       "196    RT @fay_maillardet: What Mar said👇🏻 If you're ...\n",
       "197    @NYCFC That felt like watching Ted Lasso, but ...\n",
       "198    idk if Ted Lasso will win again since The Grea...\n",
       "199    RT @BatatinhaGeek: As indicadas a 'Melhor Séri...\n",
       "Name: text, Length: 191, dtype: object"
      ]
     },
     "execution_count": 80,
     "metadata": {},
     "output_type": "execute_result"
    }
   ],
   "source": [
    "lasso_posts['text']"
   ]
  },
  {
   "cell_type": "code",
   "execution_count": 81,
   "id": "9393daca",
   "metadata": {},
   "outputs": [
    {
     "data": {
      "text/plain": [
       "'@franklinleonard Nick Mohammed absolutely snubbed, his arc in season 2 ted lasso was incredible'"
      ]
     },
     "execution_count": 81,
     "metadata": {},
     "output_type": "execute_result"
    }
   ],
   "source": [
    "lasso_posts['text'].iloc[0]"
   ]
  },
  {
   "cell_type": "code",
   "execution_count": 83,
   "id": "5585ac33",
   "metadata": {},
   "outputs": [
    {
     "data": {
      "text/plain": [
       "'@franklinleonard nick mohammed absolutely snubbed, his arc in season 2 ted lasso was incredible'"
      ]
     },
     "execution_count": 83,
     "metadata": {},
     "output_type": "execute_result"
    }
   ],
   "source": [
    "lasso_posts['text'].iloc[0].lower()"
   ]
  },
  {
   "cell_type": "markdown",
   "id": "a450091b",
   "metadata": {},
   "source": [
    "Making the tweet lowercase so its easier to work with"
   ]
  },
  {
   "cell_type": "code",
   "execution_count": 84,
   "id": "ecddcab6",
   "metadata": {},
   "outputs": [],
   "source": [
    "lowercase = [x.lower() for x in lasso_posts['text']]"
   ]
  },
  {
   "cell_type": "code",
   "execution_count": 85,
   "id": "d28a9ec7",
   "metadata": {},
   "outputs": [
    {
     "data": {
      "text/plain": [
       "'@franklinleonard nick mohammed absolutely snubbed, his arc in season 2 ted lasso was incredible'"
      ]
     },
     "execution_count": 85,
     "metadata": {},
     "output_type": "execute_result"
    }
   ],
   "source": [
    "lowercase[0]"
   ]
  },
  {
   "cell_type": "code",
   "execution_count": 86,
   "id": "992444ef",
   "metadata": {},
   "outputs": [],
   "source": [
    "import nltk\n",
    "from nltk import tokenize as tk"
   ]
  },
  {
   "cell_type": "code",
   "execution_count": 87,
   "id": "d8193866",
   "metadata": {},
   "outputs": [
    {
     "data": {
      "text/plain": [
       "['@',\n",
       " 'franklinleonard',\n",
       " 'nick',\n",
       " 'mohammed',\n",
       " 'absolutely',\n",
       " 'snubbed',\n",
       " ',',\n",
       " 'his',\n",
       " 'arc',\n",
       " 'in',\n",
       " 'season',\n",
       " '2',\n",
       " 'ted',\n",
       " 'lasso',\n",
       " 'was',\n",
       " 'incredible']"
      ]
     },
     "execution_count": 87,
     "metadata": {},
     "output_type": "execute_result"
    }
   ],
   "source": [
    "tk.word_tokenize(lowercase[0])"
   ]
  },
  {
   "cell_type": "code",
   "execution_count": 91,
   "id": "40786a45",
   "metadata": {},
   "outputs": [
    {
     "name": "stderr",
     "output_type": "stream",
     "text": [
      "[nltk_data] Downloading package opinion_lexicon to\n",
      "[nltk_data]     C:\\Users\\erica\\AppData\\Roaming\\nltk_data...\n",
      "[nltk_data]   Unzipping corpora\\opinion_lexicon.zip.\n"
     ]
    },
    {
     "data": {
      "text/plain": [
       "True"
      ]
     },
     "execution_count": 91,
     "metadata": {},
     "output_type": "execute_result"
    }
   ],
   "source": [
    "nltk.download('opinion_lexicon')"
   ]
  },
  {
   "cell_type": "code",
   "execution_count": 92,
   "id": "b5d97450",
   "metadata": {},
   "outputs": [],
   "source": [
    "from nltk.corpus import opinion_lexicon"
   ]
  },
  {
   "cell_type": "markdown",
   "id": "55ae30e5",
   "metadata": {},
   "source": [
    "Through some research i found this in the nltk.corpus library(?). It has words that are negative and also positive. (I'm proud that I found this :) )"
   ]
  },
  {
   "cell_type": "code",
   "execution_count": 96,
   "id": "cdb392f8",
   "metadata": {},
   "outputs": [
    {
     "data": {
      "text/plain": [
       "['2-faced',\n",
       " '2-faces',\n",
       " 'abnormal',\n",
       " 'abolish',\n",
       " 'abominable',\n",
       " 'abominably',\n",
       " 'abominate',\n",
       " 'abomination',\n",
       " 'abort',\n",
       " 'aborted']"
      ]
     },
     "execution_count": 96,
     "metadata": {},
     "output_type": "execute_result"
    }
   ],
   "source": [
    "opinion_lexicon.negative()[0:10]"
   ]
  },
  {
   "cell_type": "code",
   "execution_count": 97,
   "id": "2d3740a7",
   "metadata": {},
   "outputs": [
    {
     "data": {
      "text/plain": [
       "['a+',\n",
       " 'abound',\n",
       " 'abounds',\n",
       " 'abundance',\n",
       " 'abundant',\n",
       " 'accessable',\n",
       " 'accessible',\n",
       " 'acclaim',\n",
       " 'acclaimed',\n",
       " 'acclamation']"
      ]
     },
     "execution_count": 97,
     "metadata": {},
     "output_type": "execute_result"
    }
   ],
   "source": [
    "opinion_lexicon.positive()[0:10]"
   ]
  },
  {
   "cell_type": "markdown",
   "id": "c85770ea",
   "metadata": {},
   "source": [
    "At this point i don't know how to go on. I have my library of negative and positive words but I want to find those negative/positive words in each tweet. I think this will help me with my hypothesis and separate the tweets into different dataframes(?) and then turn those into graphs which I can then compare. I think this is a step in the right direction and I am confident I will be able to support my hypothesis."
   ]
  }
 ],
 "metadata": {
  "kernelspec": {
   "display_name": "Python 3 (ipykernel)",
   "language": "python",
   "name": "python3"
  },
  "language_info": {
   "codemirror_mode": {
    "name": "ipython",
    "version": 3
   },
   "file_extension": ".py",
   "mimetype": "text/x-python",
   "name": "python",
   "nbconvert_exporter": "python",
   "pygments_lexer": "ipython3",
   "version": "3.9.6"
  }
 },
 "nbformat": 4,
 "nbformat_minor": 5
}
