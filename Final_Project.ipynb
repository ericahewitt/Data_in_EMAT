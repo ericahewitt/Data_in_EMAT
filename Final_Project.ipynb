{
 "cells": [
  {
   "cell_type": "markdown",
   "id": "66b45bb9",
   "metadata": {},
   "source": [
    "# Final Project"
   ]
  },
  {
   "cell_type": "markdown",
   "id": "6e07d13e",
   "metadata": {},
   "source": [
    "I love watching TV series and movies, most recently Ted Lasso seems to be the talk of the town. I loved the first season and can't wait to watch the second season. I also have an interest in the Emmy's, I watch it every year. The reason for this analysis is to determine if Twitter has any influence on the Emmy winner of Best Comedy Series. I first pulled Tweets that mention Ted Lasso or #tedlasso along with blackish or #blackish. Once I got a reasonable amount of Tweets i used the VADER toolkit(?) to determine the positive and negative sentiments of the Tweets that i pulled. Using VADER i can measure the sentiment of the Tweets to then compare the two shows. Once i got the sentiments of each show i created a histogram of the negative, positive, neutral, and compound of the tweets. This allowed me to get a visual of each sentiment and see which had more weight to it. Looking at these graphs comparatively, I can estimate that Ted Lasso has more positive Tweets than blackish. "
   ]
  },
  {
   "cell_type": "code",
   "execution_count": 2,
   "id": "195ca0a5",
   "metadata": {},
   "outputs": [],
   "source": [
    "import requests\n",
    "import pandas as pd\n",
    "import urllib\n",
    "import json"
   ]
  },
  {
   "cell_type": "code",
   "execution_count": 3,
   "id": "2b330167",
   "metadata": {},
   "outputs": [],
   "source": [
    "bearer_token = pd.read_csv('bearer_token.txt', header = 0)"
   ]
  },
  {
   "cell_type": "code",
   "execution_count": null,
   "id": "ec5074d7",
   "metadata": {},
   "outputs": [],
   "source": [
    "bearer_token"
   ]
  },
  {
   "cell_type": "code",
   "execution_count": null,
   "id": "3d0ca646",
   "metadata": {},
   "outputs": [],
   "source": [
    "bearer_token['bearer_token'].iloc[0]"
   ]
  },
  {
   "cell_type": "code",
   "execution_count": 6,
   "id": "cf977181",
   "metadata": {},
   "outputs": [],
   "source": [
    "header = {'Authorization' : 'Bearer {}'.format(bearer_token['bearer_token'].iloc[0])}"
   ]
  },
  {
   "cell_type": "code",
   "execution_count": 7,
   "id": "9902fd9a",
   "metadata": {},
   "outputs": [
    {
     "data": {
      "text/plain": [
       "Index(['bearer_token'], dtype='object')"
      ]
     },
     "execution_count": 7,
     "metadata": {},
     "output_type": "execute_result"
    }
   ],
   "source": [
    "bearer_token.keys()"
   ]
  },
  {
   "cell_type": "code",
   "execution_count": 8,
   "id": "716041a7",
   "metadata": {},
   "outputs": [],
   "source": [
    "endpoint_url = 'https://api.twitter.com/2/tweets/search/recent'"
   ]
  },
  {
   "cell_type": "code",
   "execution_count": 9,
   "id": "f8e99bb4",
   "metadata": {},
   "outputs": [],
   "source": [
    "query = urllib.parse.quote('(#TedLasso OR Ted Lasso lang:en)')"
   ]
  },
  {
   "cell_type": "code",
   "execution_count": 10,
   "id": "ee6288bf",
   "metadata": {},
   "outputs": [
    {
     "data": {
      "text/plain": [
       "'%28%23TedLasso%20OR%20Ted%20Lasso%20lang%3Aen%29'"
      ]
     },
     "execution_count": 10,
     "metadata": {},
     "output_type": "execute_result"
    }
   ],
   "source": [
    "query"
   ]
  },
  {
   "cell_type": "code",
   "execution_count": 11,
   "id": "cf53e4d4",
   "metadata": {},
   "outputs": [],
   "source": [
    "my_api_url = endpoint_url + '?query={}'.format(query)"
   ]
  },
  {
   "cell_type": "code",
   "execution_count": 12,
   "id": "3324a2c4",
   "metadata": {},
   "outputs": [
    {
     "data": {
      "text/plain": [
       "'https://api.twitter.com/2/tweets/search/recent?query=%28%23TedLasso%20OR%20Ted%20Lasso%20lang%3Aen%29'"
      ]
     },
     "execution_count": 12,
     "metadata": {},
     "output_type": "execute_result"
    }
   ],
   "source": [
    "my_api_url"
   ]
  },
  {
   "cell_type": "code",
   "execution_count": 13,
   "id": "7b6fa438",
   "metadata": {},
   "outputs": [],
   "source": [
    "tweet_fields = 'public_metrics,created_at,author_id,lang'"
   ]
  },
  {
   "cell_type": "code",
   "execution_count": 14,
   "id": "8cd30266",
   "metadata": {},
   "outputs": [],
   "source": [
    "my_api_url = endpoint_url + '?query={}&tweet.fields={}'.format(query, tweet_fields)"
   ]
  },
  {
   "cell_type": "code",
   "execution_count": 15,
   "id": "50081342",
   "metadata": {},
   "outputs": [
    {
     "data": {
      "text/plain": [
       "'https://api.twitter.com/2/tweets/search/recent?query=%28%23TedLasso%20OR%20Ted%20Lasso%20lang%3Aen%29&tweet.fields=public_metrics,created_at,author_id,lang'"
      ]
     },
     "execution_count": 15,
     "metadata": {},
     "output_type": "execute_result"
    }
   ],
   "source": [
    "my_api_url"
   ]
  },
  {
   "cell_type": "code",
   "execution_count": 16,
   "id": "03ffca74",
   "metadata": {},
   "outputs": [],
   "source": [
    "expansions = 'author_id'"
   ]
  },
  {
   "cell_type": "code",
   "execution_count": 17,
   "id": "8e639e27",
   "metadata": {},
   "outputs": [],
   "source": [
    "url = endpoint_url + '?query={}&max_results=10&tweet.fields{}'.format(query, tweet_fields)"
   ]
  },
  {
   "cell_type": "code",
   "execution_count": 18,
   "id": "99ed4b2a",
   "metadata": {},
   "outputs": [],
   "source": [
    "response = requests.request(\"GET\", url, headers = header)"
   ]
  },
  {
   "cell_type": "code",
   "execution_count": 19,
   "id": "968f6c08",
   "metadata": {},
   "outputs": [],
   "source": [
    "url_expansions = endpoint_url + '?query={}&max_results=100&tweet.fields={}&expansions={}&user.fields={}'.format(query, tweet_fields, expansions, 'username')"
   ]
  },
  {
   "cell_type": "code",
   "execution_count": 20,
   "id": "3639f51e",
   "metadata": {},
   "outputs": [
    {
     "data": {
      "text/plain": [
       "'https://api.twitter.com/2/tweets/search/recent?query=%28%23TedLasso%20OR%20Ted%20Lasso%20lang%3Aen%29&max_results=100&tweet.fields=public_metrics,created_at,author_id,lang&expansions=author_id&user.fields=username'"
      ]
     },
     "execution_count": 20,
     "metadata": {},
     "output_type": "execute_result"
    }
   ],
   "source": [
    "url_expansions"
   ]
  },
  {
   "cell_type": "code",
   "execution_count": 21,
   "id": "409787d5",
   "metadata": {},
   "outputs": [],
   "source": [
    "first_response = requests.request(\"GET\", url_expansions, headers = header)"
   ]
  },
  {
   "cell_type": "code",
   "execution_count": null,
   "id": "76e895f8",
   "metadata": {},
   "outputs": [],
   "source": [
    "first_response.text"
   ]
  },
  {
   "cell_type": "code",
   "execution_count": 23,
   "id": "6818c993",
   "metadata": {},
   "outputs": [],
   "source": [
    "first_dict = json.loads(first_response.text)"
   ]
  },
  {
   "cell_type": "code",
   "execution_count": 24,
   "id": "69052a8c",
   "metadata": {},
   "outputs": [
    {
     "data": {
      "text/plain": [
       "dict_keys(['data', 'includes', 'meta'])"
      ]
     },
     "execution_count": 24,
     "metadata": {},
     "output_type": "execute_result"
    }
   ],
   "source": [
    "first_dict.keys()"
   ]
  },
  {
   "cell_type": "code",
   "execution_count": 25,
   "id": "aafd8903",
   "metadata": {},
   "outputs": [],
   "source": [
    "my_df = pd.DataFrame(first_dict['data'])"
   ]
  },
  {
   "cell_type": "code",
   "execution_count": 26,
   "id": "3b0c179e",
   "metadata": {},
   "outputs": [
    {
     "data": {
      "text/html": [
       "<div>\n",
       "<style scoped>\n",
       "    .dataframe tbody tr th:only-of-type {\n",
       "        vertical-align: middle;\n",
       "    }\n",
       "\n",
       "    .dataframe tbody tr th {\n",
       "        vertical-align: top;\n",
       "    }\n",
       "\n",
       "    .dataframe thead th {\n",
       "        text-align: right;\n",
       "    }\n",
       "</style>\n",
       "<table border=\"1\" class=\"dataframe\">\n",
       "  <thead>\n",
       "    <tr style=\"text-align: right;\">\n",
       "      <th></th>\n",
       "      <th>author_id</th>\n",
       "      <th>text</th>\n",
       "      <th>created_at</th>\n",
       "      <th>id</th>\n",
       "      <th>public_metrics</th>\n",
       "      <th>lang</th>\n",
       "    </tr>\n",
       "  </thead>\n",
       "  <tbody>\n",
       "    <tr>\n",
       "      <th>0</th>\n",
       "      <td>1855042940</td>\n",
       "      <td>RT @goldenglobes: The #GoldenGlobes nominees f...</td>\n",
       "      <td>2021-12-13T23:40:21.000Z</td>\n",
       "      <td>1470539115343011846</td>\n",
       "      <td>{'retweet_count': 48, 'reply_count': 0, 'like_...</td>\n",
       "      <td>en</td>\n",
       "    </tr>\n",
       "    <tr>\n",
       "      <th>1</th>\n",
       "      <td>1322320427507765248</td>\n",
       "      <td>RT @JarettSays: My heart feels so full when I ...</td>\n",
       "      <td>2021-12-13T23:40:06.000Z</td>\n",
       "      <td>1470539054353629189</td>\n",
       "      <td>{'retweet_count': 43, 'reply_count': 0, 'like_...</td>\n",
       "      <td>en</td>\n",
       "    </tr>\n",
       "    <tr>\n",
       "      <th>2</th>\n",
       "      <td>152531825</td>\n",
       "      <td>RT @QUEERLASSO: I dont think we talk about thi...</td>\n",
       "      <td>2021-12-13T23:39:52.000Z</td>\n",
       "      <td>1470538993666301952</td>\n",
       "      <td>{'retweet_count': 154, 'reply_count': 0, 'like...</td>\n",
       "      <td>en</td>\n",
       "    </tr>\n",
       "    <tr>\n",
       "      <th>3</th>\n",
       "      <td>25866804</td>\n",
       "      <td>late to ted lasso but woowee that nate charact...</td>\n",
       "      <td>2021-12-13T23:39:37.000Z</td>\n",
       "      <td>1470538932492324864</td>\n",
       "      <td>{'retweet_count': 0, 'reply_count': 0, 'like_c...</td>\n",
       "      <td>en</td>\n",
       "    </tr>\n",
       "    <tr>\n",
       "      <th>4</th>\n",
       "      <td>1060508317204791296</td>\n",
       "      <td>RT @QUEERLASSO: I dont think we talk about thi...</td>\n",
       "      <td>2021-12-13T23:39:06.000Z</td>\n",
       "      <td>1470538802523430912</td>\n",
       "      <td>{'retweet_count': 154, 'reply_count': 0, 'like...</td>\n",
       "      <td>en</td>\n",
       "    </tr>\n",
       "    <tr>\n",
       "      <th>...</th>\n",
       "      <td>...</td>\n",
       "      <td>...</td>\n",
       "      <td>...</td>\n",
       "      <td>...</td>\n",
       "      <td>...</td>\n",
       "      <td>...</td>\n",
       "    </tr>\n",
       "    <tr>\n",
       "      <th>95</th>\n",
       "      <td>294151373</td>\n",
       "      <td>RT @goldenglobes: The #GoldenGlobes nominees f...</td>\n",
       "      <td>2021-12-13T23:12:34.000Z</td>\n",
       "      <td>1470532126265204736</td>\n",
       "      <td>{'retweet_count': 48, 'reply_count': 0, 'like_...</td>\n",
       "      <td>en</td>\n",
       "    </tr>\n",
       "    <tr>\n",
       "      <th>96</th>\n",
       "      <td>1909483010</td>\n",
       "      <td>RT @WestLondonFS: The @goldenglobes nomination...</td>\n",
       "      <td>2021-12-13T23:11:56.000Z</td>\n",
       "      <td>1470531964050370561</td>\n",
       "      <td>{'retweet_count': 34, 'reply_count': 0, 'like_...</td>\n",
       "      <td>en</td>\n",
       "    </tr>\n",
       "    <tr>\n",
       "      <th>97</th>\n",
       "      <td>1392853644840685570</td>\n",
       "      <td>📸 | jason sudeikis, the cast of ted lasso and ...</td>\n",
       "      <td>2021-12-13T23:11:13.000Z</td>\n",
       "      <td>1470531785352228867</td>\n",
       "      <td>{'retweet_count': 9, 'reply_count': 0, 'like_c...</td>\n",
       "      <td>en</td>\n",
       "    </tr>\n",
       "    <tr>\n",
       "      <th>98</th>\n",
       "      <td>828768590392389632</td>\n",
       "      <td>RT @DiscussingFilm: The #GoldenGlobes nominees...</td>\n",
       "      <td>2021-12-13T23:11:05.000Z</td>\n",
       "      <td>1470531751131086848</td>\n",
       "      <td>{'retweet_count': 216, 'reply_count': 0, 'like...</td>\n",
       "      <td>en</td>\n",
       "    </tr>\n",
       "    <tr>\n",
       "      <th>99</th>\n",
       "      <td>1076748693490016256</td>\n",
       "      <td>RT @DiscussingFilm: The #GoldenGlobes nominees...</td>\n",
       "      <td>2021-12-13T23:10:09.000Z</td>\n",
       "      <td>1470531518502158336</td>\n",
       "      <td>{'retweet_count': 332, 'reply_count': 0, 'like...</td>\n",
       "      <td>en</td>\n",
       "    </tr>\n",
       "  </tbody>\n",
       "</table>\n",
       "<p>100 rows × 6 columns</p>\n",
       "</div>"
      ],
      "text/plain": [
       "              author_id                                               text  \\\n",
       "0            1855042940  RT @goldenglobes: The #GoldenGlobes nominees f...   \n",
       "1   1322320427507765248  RT @JarettSays: My heart feels so full when I ...   \n",
       "2             152531825  RT @QUEERLASSO: I dont think we talk about thi...   \n",
       "3              25866804  late to ted lasso but woowee that nate charact...   \n",
       "4   1060508317204791296  RT @QUEERLASSO: I dont think we talk about thi...   \n",
       "..                  ...                                                ...   \n",
       "95            294151373  RT @goldenglobes: The #GoldenGlobes nominees f...   \n",
       "96           1909483010  RT @WestLondonFS: The @goldenglobes nomination...   \n",
       "97  1392853644840685570  📸 | jason sudeikis, the cast of ted lasso and ...   \n",
       "98   828768590392389632  RT @DiscussingFilm: The #GoldenGlobes nominees...   \n",
       "99  1076748693490016256  RT @DiscussingFilm: The #GoldenGlobes nominees...   \n",
       "\n",
       "                  created_at                   id  \\\n",
       "0   2021-12-13T23:40:21.000Z  1470539115343011846   \n",
       "1   2021-12-13T23:40:06.000Z  1470539054353629189   \n",
       "2   2021-12-13T23:39:52.000Z  1470538993666301952   \n",
       "3   2021-12-13T23:39:37.000Z  1470538932492324864   \n",
       "4   2021-12-13T23:39:06.000Z  1470538802523430912   \n",
       "..                       ...                  ...   \n",
       "95  2021-12-13T23:12:34.000Z  1470532126265204736   \n",
       "96  2021-12-13T23:11:56.000Z  1470531964050370561   \n",
       "97  2021-12-13T23:11:13.000Z  1470531785352228867   \n",
       "98  2021-12-13T23:11:05.000Z  1470531751131086848   \n",
       "99  2021-12-13T23:10:09.000Z  1470531518502158336   \n",
       "\n",
       "                                       public_metrics lang  \n",
       "0   {'retweet_count': 48, 'reply_count': 0, 'like_...   en  \n",
       "1   {'retweet_count': 43, 'reply_count': 0, 'like_...   en  \n",
       "2   {'retweet_count': 154, 'reply_count': 0, 'like...   en  \n",
       "3   {'retweet_count': 0, 'reply_count': 0, 'like_c...   en  \n",
       "4   {'retweet_count': 154, 'reply_count': 0, 'like...   en  \n",
       "..                                                ...  ...  \n",
       "95  {'retweet_count': 48, 'reply_count': 0, 'like_...   en  \n",
       "96  {'retweet_count': 34, 'reply_count': 0, 'like_...   en  \n",
       "97  {'retweet_count': 9, 'reply_count': 0, 'like_c...   en  \n",
       "98  {'retweet_count': 216, 'reply_count': 0, 'like...   en  \n",
       "99  {'retweet_count': 332, 'reply_count': 0, 'like...   en  \n",
       "\n",
       "[100 rows x 6 columns]"
      ]
     },
     "execution_count": 26,
     "metadata": {},
     "output_type": "execute_result"
    }
   ],
   "source": [
    "my_df"
   ]
  },
  {
   "cell_type": "code",
   "execution_count": 27,
   "id": "e1cb02d8",
   "metadata": {},
   "outputs": [
    {
     "data": {
      "text/plain": [
       "{'newest_id': '1470539115343011846',\n",
       " 'oldest_id': '1470531518502158336',\n",
       " 'result_count': 100,\n",
       " 'next_token': 'b26v89c19zqg8o3fpe15ccn9w787zzmkvi2jx3avr9tvh'}"
      ]
     },
     "execution_count": 27,
     "metadata": {},
     "output_type": "execute_result"
    }
   ],
   "source": [
    "first_dict['meta']"
   ]
  },
  {
   "cell_type": "code",
   "execution_count": 28,
   "id": "e06be4fb",
   "metadata": {},
   "outputs": [],
   "source": [
    "my_api_url2 = my_api_url + '&next_token={}&max_results=100'.format(first_dict['meta']['next_token'])"
   ]
  },
  {
   "cell_type": "code",
   "execution_count": 29,
   "id": "d72a6a71",
   "metadata": {},
   "outputs": [],
   "source": [
    "second_response = requests.request(\"GET\", my_api_url2, headers = header)"
   ]
  },
  {
   "cell_type": "code",
   "execution_count": null,
   "id": "152b9c26",
   "metadata": {},
   "outputs": [],
   "source": [
    "second_response.text"
   ]
  },
  {
   "cell_type": "code",
   "execution_count": 31,
   "id": "92966f5b",
   "metadata": {},
   "outputs": [],
   "source": [
    "my_df = my_df.append(pd.DataFrame(json.loads(second_response.text)['data']), ignore_index= True)"
   ]
  },
  {
   "cell_type": "code",
   "execution_count": 32,
   "id": "5de67674",
   "metadata": {},
   "outputs": [
    {
     "data": {
      "text/html": [
       "<div>\n",
       "<style scoped>\n",
       "    .dataframe tbody tr th:only-of-type {\n",
       "        vertical-align: middle;\n",
       "    }\n",
       "\n",
       "    .dataframe tbody tr th {\n",
       "        vertical-align: top;\n",
       "    }\n",
       "\n",
       "    .dataframe thead th {\n",
       "        text-align: right;\n",
       "    }\n",
       "</style>\n",
       "<table border=\"1\" class=\"dataframe\">\n",
       "  <thead>\n",
       "    <tr style=\"text-align: right;\">\n",
       "      <th></th>\n",
       "      <th>author_id</th>\n",
       "      <th>text</th>\n",
       "      <th>created_at</th>\n",
       "      <th>id</th>\n",
       "      <th>public_metrics</th>\n",
       "      <th>lang</th>\n",
       "    </tr>\n",
       "  </thead>\n",
       "  <tbody>\n",
       "    <tr>\n",
       "      <th>0</th>\n",
       "      <td>1855042940</td>\n",
       "      <td>RT @goldenglobes: The #GoldenGlobes nominees f...</td>\n",
       "      <td>2021-12-13T23:40:21.000Z</td>\n",
       "      <td>1470539115343011846</td>\n",
       "      <td>{'retweet_count': 48, 'reply_count': 0, 'like_...</td>\n",
       "      <td>en</td>\n",
       "    </tr>\n",
       "    <tr>\n",
       "      <th>1</th>\n",
       "      <td>1322320427507765248</td>\n",
       "      <td>RT @JarettSays: My heart feels so full when I ...</td>\n",
       "      <td>2021-12-13T23:40:06.000Z</td>\n",
       "      <td>1470539054353629189</td>\n",
       "      <td>{'retweet_count': 43, 'reply_count': 0, 'like_...</td>\n",
       "      <td>en</td>\n",
       "    </tr>\n",
       "    <tr>\n",
       "      <th>2</th>\n",
       "      <td>152531825</td>\n",
       "      <td>RT @QUEERLASSO: I dont think we talk about thi...</td>\n",
       "      <td>2021-12-13T23:39:52.000Z</td>\n",
       "      <td>1470538993666301952</td>\n",
       "      <td>{'retweet_count': 154, 'reply_count': 0, 'like...</td>\n",
       "      <td>en</td>\n",
       "    </tr>\n",
       "    <tr>\n",
       "      <th>3</th>\n",
       "      <td>25866804</td>\n",
       "      <td>late to ted lasso but woowee that nate charact...</td>\n",
       "      <td>2021-12-13T23:39:37.000Z</td>\n",
       "      <td>1470538932492324864</td>\n",
       "      <td>{'retweet_count': 0, 'reply_count': 0, 'like_c...</td>\n",
       "      <td>en</td>\n",
       "    </tr>\n",
       "    <tr>\n",
       "      <th>4</th>\n",
       "      <td>1060508317204791296</td>\n",
       "      <td>RT @QUEERLASSO: I dont think we talk about thi...</td>\n",
       "      <td>2021-12-13T23:39:06.000Z</td>\n",
       "      <td>1470538802523430912</td>\n",
       "      <td>{'retweet_count': 154, 'reply_count': 0, 'like...</td>\n",
       "      <td>en</td>\n",
       "    </tr>\n",
       "    <tr>\n",
       "      <th>...</th>\n",
       "      <td>...</td>\n",
       "      <td>...</td>\n",
       "      <td>...</td>\n",
       "      <td>...</td>\n",
       "      <td>...</td>\n",
       "      <td>...</td>\n",
       "    </tr>\n",
       "    <tr>\n",
       "      <th>195</th>\n",
       "      <td>1575603678</td>\n",
       "      <td>RT @BatatinhaGeek: As indicadas a 'Melhor Atri...</td>\n",
       "      <td>2021-12-13T22:35:03.000Z</td>\n",
       "      <td>1470522682773061635</td>\n",
       "      <td>{'retweet_count': 1, 'reply_count': 0, 'like_c...</td>\n",
       "      <td>en</td>\n",
       "    </tr>\n",
       "    <tr>\n",
       "      <th>196</th>\n",
       "      <td>1575603678</td>\n",
       "      <td>RT @BatatinhaGeek: Os indicados a 'Melhor Ator...</td>\n",
       "      <td>2021-12-13T22:35:01.000Z</td>\n",
       "      <td>1470522675860754434</td>\n",
       "      <td>{'retweet_count': 2, 'reply_count': 0, 'like_c...</td>\n",
       "      <td>en</td>\n",
       "    </tr>\n",
       "    <tr>\n",
       "      <th>197</th>\n",
       "      <td>363940693</td>\n",
       "      <td>In honor of the holiday season and the upcomin...</td>\n",
       "      <td>2021-12-13T22:34:33.000Z</td>\n",
       "      <td>1470522556549668869</td>\n",
       "      <td>{'retweet_count': 0, 'reply_count': 1, 'like_c...</td>\n",
       "      <td>en</td>\n",
       "    </tr>\n",
       "    <tr>\n",
       "      <th>198</th>\n",
       "      <td>471528838</td>\n",
       "      <td>I miss Ted Lasso Twitter https://t.co/N5dQWP14hd</td>\n",
       "      <td>2021-12-13T22:34:04.000Z</td>\n",
       "      <td>1470522434923089924</td>\n",
       "      <td>{'retweet_count': 0, 'reply_count': 0, 'like_c...</td>\n",
       "      <td>en</td>\n",
       "    </tr>\n",
       "    <tr>\n",
       "      <th>199</th>\n",
       "      <td>1409283084520890370</td>\n",
       "      <td>RT @manvillebea: if there’s one thing the ted ...</td>\n",
       "      <td>2021-12-13T22:33:52.000Z</td>\n",
       "      <td>1470522384541052928</td>\n",
       "      <td>{'retweet_count': 3, 'reply_count': 0, 'like_c...</td>\n",
       "      <td>en</td>\n",
       "    </tr>\n",
       "  </tbody>\n",
       "</table>\n",
       "<p>200 rows × 6 columns</p>\n",
       "</div>"
      ],
      "text/plain": [
       "               author_id                                               text  \\\n",
       "0             1855042940  RT @goldenglobes: The #GoldenGlobes nominees f...   \n",
       "1    1322320427507765248  RT @JarettSays: My heart feels so full when I ...   \n",
       "2              152531825  RT @QUEERLASSO: I dont think we talk about thi...   \n",
       "3               25866804  late to ted lasso but woowee that nate charact...   \n",
       "4    1060508317204791296  RT @QUEERLASSO: I dont think we talk about thi...   \n",
       "..                   ...                                                ...   \n",
       "195           1575603678  RT @BatatinhaGeek: As indicadas a 'Melhor Atri...   \n",
       "196           1575603678  RT @BatatinhaGeek: Os indicados a 'Melhor Ator...   \n",
       "197            363940693  In honor of the holiday season and the upcomin...   \n",
       "198            471528838   I miss Ted Lasso Twitter https://t.co/N5dQWP14hd   \n",
       "199  1409283084520890370  RT @manvillebea: if there’s one thing the ted ...   \n",
       "\n",
       "                   created_at                   id  \\\n",
       "0    2021-12-13T23:40:21.000Z  1470539115343011846   \n",
       "1    2021-12-13T23:40:06.000Z  1470539054353629189   \n",
       "2    2021-12-13T23:39:52.000Z  1470538993666301952   \n",
       "3    2021-12-13T23:39:37.000Z  1470538932492324864   \n",
       "4    2021-12-13T23:39:06.000Z  1470538802523430912   \n",
       "..                        ...                  ...   \n",
       "195  2021-12-13T22:35:03.000Z  1470522682773061635   \n",
       "196  2021-12-13T22:35:01.000Z  1470522675860754434   \n",
       "197  2021-12-13T22:34:33.000Z  1470522556549668869   \n",
       "198  2021-12-13T22:34:04.000Z  1470522434923089924   \n",
       "199  2021-12-13T22:33:52.000Z  1470522384541052928   \n",
       "\n",
       "                                        public_metrics lang  \n",
       "0    {'retweet_count': 48, 'reply_count': 0, 'like_...   en  \n",
       "1    {'retweet_count': 43, 'reply_count': 0, 'like_...   en  \n",
       "2    {'retweet_count': 154, 'reply_count': 0, 'like...   en  \n",
       "3    {'retweet_count': 0, 'reply_count': 0, 'like_c...   en  \n",
       "4    {'retweet_count': 154, 'reply_count': 0, 'like...   en  \n",
       "..                                                 ...  ...  \n",
       "195  {'retweet_count': 1, 'reply_count': 0, 'like_c...   en  \n",
       "196  {'retweet_count': 2, 'reply_count': 0, 'like_c...   en  \n",
       "197  {'retweet_count': 0, 'reply_count': 1, 'like_c...   en  \n",
       "198  {'retweet_count': 0, 'reply_count': 0, 'like_c...   en  \n",
       "199  {'retweet_count': 3, 'reply_count': 0, 'like_c...   en  \n",
       "\n",
       "[200 rows x 6 columns]"
      ]
     },
     "execution_count": 32,
     "metadata": {},
     "output_type": "execute_result"
    }
   ],
   "source": [
    "my_df"
   ]
  },
  {
   "cell_type": "code",
   "execution_count": 33,
   "id": "7e9cf994",
   "metadata": {},
   "outputs": [],
   "source": [
    "my_df.to_csv('tedLassoAnalysis.csv')"
   ]
  },
  {
   "cell_type": "code",
   "execution_count": 34,
   "id": "02dc20bd",
   "metadata": {},
   "outputs": [],
   "source": [
    "lasso = pd.read_csv('tedLassoAnalysis.csv', encoding = 'utf-8')"
   ]
  },
  {
   "cell_type": "code",
   "execution_count": null,
   "id": "cb1055a2",
   "metadata": {},
   "outputs": [],
   "source": [
    "lasso.keys()"
   ]
  },
  {
   "cell_type": "code",
   "execution_count": null,
   "id": "780f500e",
   "metadata": {},
   "outputs": [],
   "source": [
    "lasso['lang'].astype('category')"
   ]
  },
  {
   "cell_type": "code",
   "execution_count": 37,
   "id": "2afc8d16",
   "metadata": {},
   "outputs": [],
   "source": [
    "lasso_posts = lasso[(lasso['lang']) == 'en']"
   ]
  },
  {
   "cell_type": "code",
   "execution_count": null,
   "id": "b36f8783",
   "metadata": {},
   "outputs": [],
   "source": [
    "lasso_posts['lang'].astype('category')"
   ]
  },
  {
   "cell_type": "code",
   "execution_count": 39,
   "id": "67c06948",
   "metadata": {},
   "outputs": [
    {
     "data": {
      "text/plain": [
       "0      RT @goldenglobes: The #GoldenGlobes nominees f...\n",
       "1      RT @JarettSays: My heart feels so full when I ...\n",
       "2      RT @QUEERLASSO: I dont think we talk about thi...\n",
       "3      late to ted lasso but woowee that nate charact...\n",
       "4      RT @QUEERLASSO: I dont think we talk about thi...\n",
       "                             ...                        \n",
       "195    RT @BatatinhaGeek: As indicadas a 'Melhor Atri...\n",
       "196    RT @BatatinhaGeek: Os indicados a 'Melhor Ator...\n",
       "197    In honor of the holiday season and the upcomin...\n",
       "198     I miss Ted Lasso Twitter https://t.co/N5dQWP14hd\n",
       "199    RT @manvillebea: if there’s one thing the ted ...\n",
       "Name: text, Length: 193, dtype: object"
      ]
     },
     "execution_count": 39,
     "metadata": {},
     "output_type": "execute_result"
    }
   ],
   "source": [
    "lasso_posts['text']"
   ]
  },
  {
   "cell_type": "code",
   "execution_count": null,
   "id": "9393daca",
   "metadata": {},
   "outputs": [],
   "source": [
    "lasso_posts['text'].iloc[0]"
   ]
  },
  {
   "cell_type": "code",
   "execution_count": null,
   "id": "5585ac33",
   "metadata": {},
   "outputs": [],
   "source": [
    "lasso_posts['text'].iloc[0].lower()"
   ]
  },
  {
   "cell_type": "code",
   "execution_count": 42,
   "id": "ecddcab6",
   "metadata": {},
   "outputs": [],
   "source": [
    "lowercase = [x.lower() for x in lasso_posts['text']]"
   ]
  },
  {
   "cell_type": "code",
   "execution_count": null,
   "id": "d28a9ec7",
   "metadata": {},
   "outputs": [],
   "source": [
    "lowercase[0]"
   ]
  },
  {
   "cell_type": "code",
   "execution_count": 44,
   "id": "992444ef",
   "metadata": {},
   "outputs": [],
   "source": [
    "from vaderSentiment.vaderSentiment import SentimentIntensityAnalyzer"
   ]
  },
  {
   "cell_type": "code",
   "execution_count": 45,
   "id": "155f0d1e",
   "metadata": {},
   "outputs": [],
   "source": [
    "analyze= SentimentIntensityAnalyzer()"
   ]
  },
  {
   "cell_type": "code",
   "execution_count": 46,
   "id": "3ab109c2",
   "metadata": {},
   "outputs": [
    {
     "name": "stdout",
     "output_type": "stream",
     "text": [
      "{'neg': 0.0, 'neu': 1.0, 'pos': 0.0, 'compound': 0.0}\n"
     ]
    }
   ],
   "source": [
    "print(analyze.polarity_scores(lasso_posts['text'].iloc[3]))"
   ]
  },
  {
   "cell_type": "code",
   "execution_count": 47,
   "id": "c33c826e",
   "metadata": {},
   "outputs": [],
   "source": [
    "senti = analyze.polarity_scores(lasso_posts['text'].iloc[3])"
   ]
  },
  {
   "cell_type": "code",
   "execution_count": 48,
   "id": "152322f4",
   "metadata": {},
   "outputs": [
    {
     "data": {
      "text/plain": [
       "1.0"
      ]
     },
     "execution_count": 48,
     "metadata": {},
     "output_type": "execute_result"
    }
   ],
   "source": [
    "senti['neu']"
   ]
  },
  {
   "cell_type": "code",
   "execution_count": 49,
   "id": "312a3dbd",
   "metadata": {},
   "outputs": [],
   "source": [
    "all_sents = [analyze.polarity_scores(x) for x in lasso_posts['text']]"
   ]
  },
  {
   "cell_type": "code",
   "execution_count": null,
   "id": "d0e80f6c",
   "metadata": {},
   "outputs": [],
   "source": [
    "all_sents"
   ]
  },
  {
   "cell_type": "markdown",
   "id": "21ddc335",
   "metadata": {},
   "source": [
    "## Ted Lasso histogram"
   ]
  },
  {
   "cell_type": "markdown",
   "id": "d645644e",
   "metadata": {},
   "source": [
    "In this section I created all of the individual tweets sentiments into a dataframe so that it is easier to analyze. Although the dataframe does not give me much information so i visualized it by making a histogram for the positive and negative sentiment."
   ]
  },
  {
   "cell_type": "code",
   "execution_count": 51,
   "id": "847ae783",
   "metadata": {},
   "outputs": [],
   "source": [
    "sents_df = pd.DataFrame(all_sents)"
   ]
  },
  {
   "cell_type": "code",
   "execution_count": 52,
   "id": "6e8ddd6c",
   "metadata": {},
   "outputs": [
    {
     "data": {
      "text/html": [
       "<div>\n",
       "<style scoped>\n",
       "    .dataframe tbody tr th:only-of-type {\n",
       "        vertical-align: middle;\n",
       "    }\n",
       "\n",
       "    .dataframe tbody tr th {\n",
       "        vertical-align: top;\n",
       "    }\n",
       "\n",
       "    .dataframe thead th {\n",
       "        text-align: right;\n",
       "    }\n",
       "</style>\n",
       "<table border=\"1\" class=\"dataframe\">\n",
       "  <thead>\n",
       "    <tr style=\"text-align: right;\">\n",
       "      <th></th>\n",
       "      <th>neg</th>\n",
       "      <th>neu</th>\n",
       "      <th>pos</th>\n",
       "      <th>compound</th>\n",
       "    </tr>\n",
       "  </thead>\n",
       "  <tbody>\n",
       "    <tr>\n",
       "      <th>0</th>\n",
       "      <td>0.000</td>\n",
       "      <td>0.729</td>\n",
       "      <td>0.271</td>\n",
       "      <td>0.7717</td>\n",
       "    </tr>\n",
       "    <tr>\n",
       "      <th>1</th>\n",
       "      <td>0.000</td>\n",
       "      <td>0.769</td>\n",
       "      <td>0.231</td>\n",
       "      <td>0.6369</td>\n",
       "    </tr>\n",
       "    <tr>\n",
       "      <th>2</th>\n",
       "      <td>0.000</td>\n",
       "      <td>1.000</td>\n",
       "      <td>0.000</td>\n",
       "      <td>0.0000</td>\n",
       "    </tr>\n",
       "    <tr>\n",
       "      <th>3</th>\n",
       "      <td>0.000</td>\n",
       "      <td>1.000</td>\n",
       "      <td>0.000</td>\n",
       "      <td>0.0000</td>\n",
       "    </tr>\n",
       "    <tr>\n",
       "      <th>4</th>\n",
       "      <td>0.000</td>\n",
       "      <td>1.000</td>\n",
       "      <td>0.000</td>\n",
       "      <td>0.0000</td>\n",
       "    </tr>\n",
       "    <tr>\n",
       "      <th>...</th>\n",
       "      <td>...</td>\n",
       "      <td>...</td>\n",
       "      <td>...</td>\n",
       "      <td>...</td>\n",
       "    </tr>\n",
       "    <tr>\n",
       "      <th>188</th>\n",
       "      <td>0.091</td>\n",
       "      <td>0.785</td>\n",
       "      <td>0.124</td>\n",
       "      <td>0.2023</td>\n",
       "    </tr>\n",
       "    <tr>\n",
       "      <th>189</th>\n",
       "      <td>0.087</td>\n",
       "      <td>0.794</td>\n",
       "      <td>0.119</td>\n",
       "      <td>0.2023</td>\n",
       "    </tr>\n",
       "    <tr>\n",
       "      <th>190</th>\n",
       "      <td>0.000</td>\n",
       "      <td>0.730</td>\n",
       "      <td>0.270</td>\n",
       "      <td>0.9551</td>\n",
       "    </tr>\n",
       "    <tr>\n",
       "      <th>191</th>\n",
       "      <td>0.242</td>\n",
       "      <td>0.758</td>\n",
       "      <td>0.000</td>\n",
       "      <td>-0.1531</td>\n",
       "    </tr>\n",
       "    <tr>\n",
       "      <th>192</th>\n",
       "      <td>0.095</td>\n",
       "      <td>0.905</td>\n",
       "      <td>0.000</td>\n",
       "      <td>-0.3182</td>\n",
       "    </tr>\n",
       "  </tbody>\n",
       "</table>\n",
       "<p>193 rows × 4 columns</p>\n",
       "</div>"
      ],
      "text/plain": [
       "       neg    neu    pos  compound\n",
       "0    0.000  0.729  0.271    0.7717\n",
       "1    0.000  0.769  0.231    0.6369\n",
       "2    0.000  1.000  0.000    0.0000\n",
       "3    0.000  1.000  0.000    0.0000\n",
       "4    0.000  1.000  0.000    0.0000\n",
       "..     ...    ...    ...       ...\n",
       "188  0.091  0.785  0.124    0.2023\n",
       "189  0.087  0.794  0.119    0.2023\n",
       "190  0.000  0.730  0.270    0.9551\n",
       "191  0.242  0.758  0.000   -0.1531\n",
       "192  0.095  0.905  0.000   -0.3182\n",
       "\n",
       "[193 rows x 4 columns]"
      ]
     },
     "execution_count": 52,
     "metadata": {},
     "output_type": "execute_result"
    }
   ],
   "source": [
    "sents_df"
   ]
  },
  {
   "cell_type": "code",
   "execution_count": 53,
   "id": "bfc815e5",
   "metadata": {},
   "outputs": [
    {
     "data": {
      "text/plain": [
       "count    193.000000\n",
       "mean       0.130731\n",
       "std        0.142610\n",
       "min        0.000000\n",
       "25%        0.000000\n",
       "50%        0.087000\n",
       "75%        0.258000\n",
       "max        0.463000\n",
       "Name: pos, dtype: float64"
      ]
     },
     "execution_count": 53,
     "metadata": {},
     "output_type": "execute_result"
    }
   ],
   "source": [
    "sents_df['pos'].describe()"
   ]
  },
  {
   "cell_type": "code",
   "execution_count": 54,
   "id": "7a99d402",
   "metadata": {},
   "outputs": [],
   "source": [
    "from matplotlib import pyplot as plt"
   ]
  },
  {
   "cell_type": "code",
   "execution_count": 55,
   "id": "48dcd388",
   "metadata": {},
   "outputs": [
    {
     "data": {
      "image/png": "[encoded data removed]",
      "text/plain": [
       "<Figure size 432x288 with 1 Axes>"
      ]
     },
     "metadata": {
      "needs_background": "light"
     },
     "output_type": "display_data"
    }
   ],
   "source": [
    "fig0, ax0 = plt.subplots()\n",
    "ax0.hist(sents_df['pos'])\n",
    "plt.show()"
   ]
  },
  {
   "cell_type": "code",
   "execution_count": 56,
   "id": "8b7d74b4",
   "metadata": {},
   "outputs": [
    {
     "data": {
      "image/png": "[encoded data removed]",
      "text/plain": [
       "<Figure size 432x288 with 1 Axes>"
      ]
     },
     "metadata": {
      "needs_background": "light"
     },
     "output_type": "display_data"
    }
   ],
   "source": [
    "fig1, ax1 = plt.subplots()\n",
    "ax1.hist(sents_df['neg'])\n",
    "plt.show()"
   ]
  },
  {
   "cell_type": "markdown",
   "id": "b4d28b44",
   "metadata": {},
   "source": [
    "## Ted Lasso complete histogram"
   ]
  },
  {
   "cell_type": "markdown",
   "id": "7b2a0333",
   "metadata": {},
   "source": [
    "Here I visualized each sentiment into its own histogram. Here you can see there are few negative tweets but looks like there are more positive tweets than negative."
   ]
  },
  {
   "cell_type": "code",
   "execution_count": 57,
   "id": "7317e581",
   "metadata": {},
   "outputs": [
    {
     "data": {
      "image/png": "[encoded data removed]",
      "text/plain": [
       "<Figure size 720x360 with 4 Axes>"
      ]
     },
     "metadata": {
      "needs_background": "light"
     },
     "output_type": "display_data"
    }
   ],
   "source": [
    "fig4, ax4 = plt.subplots(1, 4, figsize = (10, 5))\n",
    "ax4[0].hist(sents_df['neg'], bins =  8, color = 'red')\n",
    "ax4[1].hist(sents_df['pos'], bins =  8, color = 'blue')\n",
    "ax4[2].hist(sents_df['neu'], bins =  8, color = 'green')\n",
    "ax4[3].hist(sents_df['compound'], bins =  8, color = 'yellow')\n",
    "\n",
    "ax4[0].set_xlabel(\"Negative\")\n",
    "ax4[1].set_xlabel(\"Positive\")\n",
    "ax4[2].set_xlabel(\"Neutrual\")\n",
    "ax4[3].set_xlabel(\"Compound\")\n",
    "\n",
    "fig4.suptitle(\"Ted Lasso Sentiments\")\n",
    "plt.show()"
   ]
  },
  {
   "cell_type": "code",
   "execution_count": 58,
   "id": "6353eb90",
   "metadata": {},
   "outputs": [],
   "source": [
    "endpoint_url2 = 'https://api.twitter.com/2/tweets/search/recent'"
   ]
  },
  {
   "cell_type": "code",
   "execution_count": 59,
   "id": "ba424e52",
   "metadata": {},
   "outputs": [],
   "source": [
    "query2 = urllib.parse.quote('(#blackish OR blackish lang:en)')"
   ]
  },
  {
   "cell_type": "code",
   "execution_count": 60,
   "id": "c242b3e8",
   "metadata": {},
   "outputs": [
    {
     "data": {
      "text/plain": [
       "'%28%23blackish%20OR%20blackish%20lang%3Aen%29'"
      ]
     },
     "execution_count": 60,
     "metadata": {},
     "output_type": "execute_result"
    }
   ],
   "source": [
    "query2"
   ]
  },
  {
   "cell_type": "code",
   "execution_count": 61,
   "id": "a83fca19",
   "metadata": {},
   "outputs": [],
   "source": [
    "my_api_url3 = endpoint_url2 + '?query={}'.format(query2)"
   ]
  },
  {
   "cell_type": "code",
   "execution_count": 62,
   "id": "f72983e4",
   "metadata": {},
   "outputs": [
    {
     "data": {
      "text/plain": [
       "'https://api.twitter.com/2/tweets/search/recent?query=%28%23blackish%20OR%20blackish%20lang%3Aen%29'"
      ]
     },
     "execution_count": 62,
     "metadata": {},
     "output_type": "execute_result"
    }
   ],
   "source": [
    "my_api_url3"
   ]
  },
  {
   "cell_type": "code",
   "execution_count": 63,
   "id": "a6d858ae",
   "metadata": {},
   "outputs": [],
   "source": [
    "tweet_fields2 = 'public_metrics,created_at,author_id,lang'"
   ]
  },
  {
   "cell_type": "code",
   "execution_count": 64,
   "id": "a56866f5",
   "metadata": {},
   "outputs": [],
   "source": [
    "my_api_url2 = endpoint_url2 + '?query={}&tweet.fields={}'.format(query2, tweet_fields2)"
   ]
  },
  {
   "cell_type": "code",
   "execution_count": 65,
   "id": "81dbbf46",
   "metadata": {},
   "outputs": [
    {
     "data": {
      "text/plain": [
       "'https://api.twitter.com/2/tweets/search/recent?query=%28%23blackish%20OR%20blackish%20lang%3Aen%29&tweet.fields=public_metrics,created_at,author_id,lang'"
      ]
     },
     "execution_count": 65,
     "metadata": {},
     "output_type": "execute_result"
    }
   ],
   "source": [
    "my_api_url2"
   ]
  },
  {
   "cell_type": "code",
   "execution_count": 66,
   "id": "70fcbe65",
   "metadata": {},
   "outputs": [],
   "source": [
    "expansions2 = 'author_id'"
   ]
  },
  {
   "cell_type": "code",
   "execution_count": 67,
   "id": "bd22ec33",
   "metadata": {},
   "outputs": [],
   "source": [
    "url2 = endpoint_url2 + '?query={}&max_results=10&tweet.fields{}'.format(query2, tweet_fields2)"
   ]
  },
  {
   "cell_type": "code",
   "execution_count": 68,
   "id": "91da7b72",
   "metadata": {},
   "outputs": [],
   "source": [
    "response2 = requests.request(\"GET\", url, headers = header)"
   ]
  },
  {
   "cell_type": "code",
   "execution_count": 69,
   "id": "ef92bf7e",
   "metadata": {},
   "outputs": [],
   "source": [
    "url_expansions2 = endpoint_url2 + '?query={}&max_results=100&tweet.fields={}&expansions={}&user.fields={}'.format(query2, tweet_fields2, expansions2, 'username')"
   ]
  },
  {
   "cell_type": "code",
   "execution_count": 70,
   "id": "6cd03ca2",
   "metadata": {},
   "outputs": [
    {
     "data": {
      "text/plain": [
       "'https://api.twitter.com/2/tweets/search/recent?query=%28%23blackish%20OR%20blackish%20lang%3Aen%29&max_results=100&tweet.fields=public_metrics,created_at,author_id,lang&expansions=author_id&user.fields=username'"
      ]
     },
     "execution_count": 70,
     "metadata": {},
     "output_type": "execute_result"
    }
   ],
   "source": [
    "url_expansions2"
   ]
  },
  {
   "cell_type": "code",
   "execution_count": 71,
   "id": "cc34f186",
   "metadata": {},
   "outputs": [],
   "source": [
    "blackish_response = requests.request(\"GET\", url_expansions2, headers = header)"
   ]
  },
  {
   "cell_type": "code",
   "execution_count": null,
   "id": "f0de62ef",
   "metadata": {},
   "outputs": [],
   "source": [
    "blackish_response.text"
   ]
  },
  {
   "cell_type": "code",
   "execution_count": 73,
   "id": "b7317061",
   "metadata": {},
   "outputs": [],
   "source": [
    "blackish_dict = json.loads(blackish_response.text)"
   ]
  },
  {
   "cell_type": "code",
   "execution_count": 74,
   "id": "8928cedb",
   "metadata": {},
   "outputs": [
    {
     "data": {
      "text/plain": [
       "dict_keys(['data', 'includes', 'meta'])"
      ]
     },
     "execution_count": 74,
     "metadata": {},
     "output_type": "execute_result"
    }
   ],
   "source": [
    "blackish_dict.keys()"
   ]
  },
  {
   "cell_type": "code",
   "execution_count": 75,
   "id": "dbc0b86c",
   "metadata": {},
   "outputs": [],
   "source": [
    "blackish_df = pd.DataFrame(blackish_dict['data'])"
   ]
  },
  {
   "cell_type": "code",
   "execution_count": 76,
   "id": "58d15055",
   "metadata": {},
   "outputs": [
    {
     "data": {
      "text/html": [
       "<div>\n",
       "<style scoped>\n",
       "    .dataframe tbody tr th:only-of-type {\n",
       "        vertical-align: middle;\n",
       "    }\n",
       "\n",
       "    .dataframe tbody tr th {\n",
       "        vertical-align: top;\n",
       "    }\n",
       "\n",
       "    .dataframe thead th {\n",
       "        text-align: right;\n",
       "    }\n",
       "</style>\n",
       "<table border=\"1\" class=\"dataframe\">\n",
       "  <thead>\n",
       "    <tr style=\"text-align: right;\">\n",
       "      <th></th>\n",
       "      <th>id</th>\n",
       "      <th>public_metrics</th>\n",
       "      <th>text</th>\n",
       "      <th>created_at</th>\n",
       "      <th>author_id</th>\n",
       "      <th>lang</th>\n",
       "    </tr>\n",
       "  </thead>\n",
       "  <tbody>\n",
       "    <tr>\n",
       "      <th>0</th>\n",
       "      <td>1470539115921870855</td>\n",
       "      <td>{'retweet_count': 0, 'reply_count': 0, 'like_c...</td>\n",
       "      <td>blackish-grey ossel hitch</td>\n",
       "      <td>2021-12-13T23:40:21.000Z</td>\n",
       "      <td>796444880675438592</td>\n",
       "      <td>en</td>\n",
       "    </tr>\n",
       "    <tr>\n",
       "      <th>1</th>\n",
       "      <td>1470539014117765122</td>\n",
       "      <td>{'retweet_count': 2, 'reply_count': 0, 'like_c...</td>\n",
       "      <td>RT @IamW4TC: Congratulations @IssaRae and @Tra...</td>\n",
       "      <td>2021-12-13T23:39:56.000Z</td>\n",
       "      <td>957821109444972545</td>\n",
       "      <td>en</td>\n",
       "    </tr>\n",
       "    <tr>\n",
       "      <th>2</th>\n",
       "      <td>1470527694148452358</td>\n",
       "      <td>{'retweet_count': 0, 'reply_count': 0, 'like_c...</td>\n",
       "      <td>And I really feel like they nominate Blackish ...</td>\n",
       "      <td>2021-12-13T22:54:58.000Z</td>\n",
       "      <td>26905493</td>\n",
       "      <td>en</td>\n",
       "    </tr>\n",
       "    <tr>\n",
       "      <th>3</th>\n",
       "      <td>1470527263489802240</td>\n",
       "      <td>{'retweet_count': 0, 'reply_count': 1, 'like_c...</td>\n",
       "      <td>@Chemicalboyy Banshee\\nVikings\\nElites\\nBlacki...</td>\n",
       "      <td>2021-12-13T22:53:15.000Z</td>\n",
       "      <td>1080035996027273217</td>\n",
       "      <td>en</td>\n",
       "    </tr>\n",
       "    <tr>\n",
       "      <th>4</th>\n",
       "      <td>1470520951964065796</td>\n",
       "      <td>{'retweet_count': 0, 'reply_count': 0, 'like_c...</td>\n",
       "      <td>3) Mejor actor principal en comedia #GlobosDeO...</td>\n",
       "      <td>2021-12-13T22:28:10.000Z</td>\n",
       "      <td>1863836348</td>\n",
       "      <td>es</td>\n",
       "    </tr>\n",
       "    <tr>\n",
       "      <th>...</th>\n",
       "      <td>...</td>\n",
       "      <td>...</td>\n",
       "      <td>...</td>\n",
       "      <td>...</td>\n",
       "      <td>...</td>\n",
       "      <td>...</td>\n",
       "    </tr>\n",
       "    <tr>\n",
       "      <th>95</th>\n",
       "      <td>1470204422399610884</td>\n",
       "      <td>{'retweet_count': 0, 'reply_count': 0, 'like_c...</td>\n",
       "      <td>Blackish be so inspiring like I wanna be succe...</td>\n",
       "      <td>2021-12-13T01:30:24.000Z</td>\n",
       "      <td>2398245080</td>\n",
       "      <td>en</td>\n",
       "    </tr>\n",
       "    <tr>\n",
       "      <th>96</th>\n",
       "      <td>1470203673200537601</td>\n",
       "      <td>{'retweet_count': 2, 'reply_count': 0, 'like_c...</td>\n",
       "      <td>RT @johnrfisher1: Been kinda snowbound of late...</td>\n",
       "      <td>2021-12-13T01:27:25.000Z</td>\n",
       "      <td>1463583253714059269</td>\n",
       "      <td>en</td>\n",
       "    </tr>\n",
       "    <tr>\n",
       "      <th>97</th>\n",
       "      <td>1470202539828289537</td>\n",
       "      <td>{'retweet_count': 3, 'reply_count': 0, 'like_c...</td>\n",
       "      <td>RT @ChastyRaunchSub: A third item from the AC ...</td>\n",
       "      <td>2021-12-13T01:22:55.000Z</td>\n",
       "      <td>1328506635397046273</td>\n",
       "      <td>en</td>\n",
       "    </tr>\n",
       "    <tr>\n",
       "      <th>98</th>\n",
       "      <td>1470193554962145282</td>\n",
       "      <td>{'retweet_count': 0, 'reply_count': 0, 'like_c...</td>\n",
       "      <td>The tv show Blackish is racist, unless there i...</td>\n",
       "      <td>2021-12-13T00:47:13.000Z</td>\n",
       "      <td>1319384189968461826</td>\n",
       "      <td>en</td>\n",
       "    </tr>\n",
       "    <tr>\n",
       "      <th>99</th>\n",
       "      <td>1470192856186990595</td>\n",
       "      <td>{'retweet_count': 0, 'reply_count': 0, 'like_c...</td>\n",
       "      <td>Blackish is ending? A show I swore I'd never w...</td>\n",
       "      <td>2021-12-13T00:44:26.000Z</td>\n",
       "      <td>242948954</td>\n",
       "      <td>en</td>\n",
       "    </tr>\n",
       "  </tbody>\n",
       "</table>\n",
       "<p>100 rows × 6 columns</p>\n",
       "</div>"
      ],
      "text/plain": [
       "                     id                                     public_metrics  \\\n",
       "0   1470539115921870855  {'retweet_count': 0, 'reply_count': 0, 'like_c...   \n",
       "1   1470539014117765122  {'retweet_count': 2, 'reply_count': 0, 'like_c...   \n",
       "2   1470527694148452358  {'retweet_count': 0, 'reply_count': 0, 'like_c...   \n",
       "3   1470527263489802240  {'retweet_count': 0, 'reply_count': 1, 'like_c...   \n",
       "4   1470520951964065796  {'retweet_count': 0, 'reply_count': 0, 'like_c...   \n",
       "..                  ...                                                ...   \n",
       "95  1470204422399610884  {'retweet_count': 0, 'reply_count': 0, 'like_c...   \n",
       "96  1470203673200537601  {'retweet_count': 2, 'reply_count': 0, 'like_c...   \n",
       "97  1470202539828289537  {'retweet_count': 3, 'reply_count': 0, 'like_c...   \n",
       "98  1470193554962145282  {'retweet_count': 0, 'reply_count': 0, 'like_c...   \n",
       "99  1470192856186990595  {'retweet_count': 0, 'reply_count': 0, 'like_c...   \n",
       "\n",
       "                                                 text  \\\n",
       "0                           blackish-grey ossel hitch   \n",
       "1   RT @IamW4TC: Congratulations @IssaRae and @Tra...   \n",
       "2   And I really feel like they nominate Blackish ...   \n",
       "3   @Chemicalboyy Banshee\\nVikings\\nElites\\nBlacki...   \n",
       "4   3) Mejor actor principal en comedia #GlobosDeO...   \n",
       "..                                                ...   \n",
       "95  Blackish be so inspiring like I wanna be succe...   \n",
       "96  RT @johnrfisher1: Been kinda snowbound of late...   \n",
       "97  RT @ChastyRaunchSub: A third item from the AC ...   \n",
       "98  The tv show Blackish is racist, unless there i...   \n",
       "99  Blackish is ending? A show I swore I'd never w...   \n",
       "\n",
       "                  created_at            author_id lang  \n",
       "0   2021-12-13T23:40:21.000Z   796444880675438592   en  \n",
       "1   2021-12-13T23:39:56.000Z   957821109444972545   en  \n",
       "2   2021-12-13T22:54:58.000Z             26905493   en  \n",
       "3   2021-12-13T22:53:15.000Z  1080035996027273217   en  \n",
       "4   2021-12-13T22:28:10.000Z           1863836348   es  \n",
       "..                       ...                  ...  ...  \n",
       "95  2021-12-13T01:30:24.000Z           2398245080   en  \n",
       "96  2021-12-13T01:27:25.000Z  1463583253714059269   en  \n",
       "97  2021-12-13T01:22:55.000Z  1328506635397046273   en  \n",
       "98  2021-12-13T00:47:13.000Z  1319384189968461826   en  \n",
       "99  2021-12-13T00:44:26.000Z            242948954   en  \n",
       "\n",
       "[100 rows x 6 columns]"
      ]
     },
     "execution_count": 76,
     "metadata": {},
     "output_type": "execute_result"
    }
   ],
   "source": [
    "blackish_df"
   ]
  },
  {
   "cell_type": "code",
   "execution_count": 77,
   "id": "fabba9b0",
   "metadata": {},
   "outputs": [
    {
     "data": {
      "text/plain": [
       "{'newest_id': '1470539115921870855',\n",
       " 'oldest_id': '1470192856186990595',\n",
       " 'result_count': 100,\n",
       " 'next_token': 'b26v89c19zqg8o3fpe15c4662ywe1xnmve7tuh31tur25'}"
      ]
     },
     "execution_count": 77,
     "metadata": {},
     "output_type": "execute_result"
    }
   ],
   "source": [
    "blackish_dict['meta']"
   ]
  },
  {
   "cell_type": "code",
   "execution_count": 78,
   "id": "8f9b5d7f",
   "metadata": {},
   "outputs": [],
   "source": [
    "my_api_url4 = my_api_url2 + '&next_token={}&max_results=100'.format(blackish_dict['meta']['next_token'])"
   ]
  },
  {
   "cell_type": "code",
   "execution_count": 79,
   "id": "12502066",
   "metadata": {},
   "outputs": [
    {
     "data": {
      "text/plain": [
       "'https://api.twitter.com/2/tweets/search/recent?query=%28%23blackish%20OR%20blackish%20lang%3Aen%29&tweet.fields=public_metrics,created_at,author_id,lang&next_token=b26v89c19zqg8o3fpe15c4662ywe1xnmve7tuh31tur25&max_results=100'"
      ]
     },
     "execution_count": 79,
     "metadata": {},
     "output_type": "execute_result"
    }
   ],
   "source": [
    "my_api_url4"
   ]
  },
  {
   "cell_type": "code",
   "execution_count": 80,
   "id": "c1565190",
   "metadata": {},
   "outputs": [],
   "source": [
    "blackish2_response = requests.request(\"GET\", my_api_url4, headers = header)"
   ]
  },
  {
   "cell_type": "code",
   "execution_count": null,
   "id": "cee7f0af",
   "metadata": {},
   "outputs": [],
   "source": [
    "blackish2_response.text"
   ]
  },
  {
   "cell_type": "code",
   "execution_count": 82,
   "id": "7ae3d759",
   "metadata": {},
   "outputs": [],
   "source": [
    "blackish_df = blackish_df.append(pd.DataFrame(json.loads(blackish2_response.text)['data']), ignore_index= True)"
   ]
  },
  {
   "cell_type": "code",
   "execution_count": 83,
   "id": "2b7642d5",
   "metadata": {},
   "outputs": [
    {
     "data": {
      "text/html": [
       "<div>\n",
       "<style scoped>\n",
       "    .dataframe tbody tr th:only-of-type {\n",
       "        vertical-align: middle;\n",
       "    }\n",
       "\n",
       "    .dataframe tbody tr th {\n",
       "        vertical-align: top;\n",
       "    }\n",
       "\n",
       "    .dataframe thead th {\n",
       "        text-align: right;\n",
       "    }\n",
       "</style>\n",
       "<table border=\"1\" class=\"dataframe\">\n",
       "  <thead>\n",
       "    <tr style=\"text-align: right;\">\n",
       "      <th></th>\n",
       "      <th>id</th>\n",
       "      <th>public_metrics</th>\n",
       "      <th>text</th>\n",
       "      <th>created_at</th>\n",
       "      <th>author_id</th>\n",
       "      <th>lang</th>\n",
       "    </tr>\n",
       "  </thead>\n",
       "  <tbody>\n",
       "    <tr>\n",
       "      <th>0</th>\n",
       "      <td>1470539115921870855</td>\n",
       "      <td>{'retweet_count': 0, 'reply_count': 0, 'like_c...</td>\n",
       "      <td>blackish-grey ossel hitch</td>\n",
       "      <td>2021-12-13T23:40:21.000Z</td>\n",
       "      <td>796444880675438592</td>\n",
       "      <td>en</td>\n",
       "    </tr>\n",
       "    <tr>\n",
       "      <th>1</th>\n",
       "      <td>1470539014117765122</td>\n",
       "      <td>{'retweet_count': 2, 'reply_count': 0, 'like_c...</td>\n",
       "      <td>RT @IamW4TC: Congratulations @IssaRae and @Tra...</td>\n",
       "      <td>2021-12-13T23:39:56.000Z</td>\n",
       "      <td>957821109444972545</td>\n",
       "      <td>en</td>\n",
       "    </tr>\n",
       "    <tr>\n",
       "      <th>2</th>\n",
       "      <td>1470527694148452358</td>\n",
       "      <td>{'retweet_count': 0, 'reply_count': 0, 'like_c...</td>\n",
       "      <td>And I really feel like they nominate Blackish ...</td>\n",
       "      <td>2021-12-13T22:54:58.000Z</td>\n",
       "      <td>26905493</td>\n",
       "      <td>en</td>\n",
       "    </tr>\n",
       "    <tr>\n",
       "      <th>3</th>\n",
       "      <td>1470527263489802240</td>\n",
       "      <td>{'retweet_count': 0, 'reply_count': 1, 'like_c...</td>\n",
       "      <td>@Chemicalboyy Banshee\\nVikings\\nElites\\nBlacki...</td>\n",
       "      <td>2021-12-13T22:53:15.000Z</td>\n",
       "      <td>1080035996027273217</td>\n",
       "      <td>en</td>\n",
       "    </tr>\n",
       "    <tr>\n",
       "      <th>4</th>\n",
       "      <td>1470520951964065796</td>\n",
       "      <td>{'retweet_count': 0, 'reply_count': 0, 'like_c...</td>\n",
       "      <td>3) Mejor actor principal en comedia #GlobosDeO...</td>\n",
       "      <td>2021-12-13T22:28:10.000Z</td>\n",
       "      <td>1863836348</td>\n",
       "      <td>es</td>\n",
       "    </tr>\n",
       "    <tr>\n",
       "      <th>...</th>\n",
       "      <td>...</td>\n",
       "      <td>...</td>\n",
       "      <td>...</td>\n",
       "      <td>...</td>\n",
       "      <td>...</td>\n",
       "      <td>...</td>\n",
       "    </tr>\n",
       "    <tr>\n",
       "      <th>195</th>\n",
       "      <td>1469655354086760451</td>\n",
       "      <td>{'retweet_count': 1, 'reply_count': 0, 'like_c...</td>\n",
       "      <td>That girl from Blackish... https://t.co/JNoPuq...</td>\n",
       "      <td>2021-12-11T13:08:35.000Z</td>\n",
       "      <td>984971006245769216</td>\n",
       "      <td>en</td>\n",
       "    </tr>\n",
       "    <tr>\n",
       "      <th>196</th>\n",
       "      <td>1469651840207884288</td>\n",
       "      <td>{'retweet_count': 15, 'reply_count': 0, 'like_...</td>\n",
       "      <td>RT @_myvpl_: @NCares17 @jessicawhitIly Yh it w...</td>\n",
       "      <td>2021-12-11T12:54:38.000Z</td>\n",
       "      <td>387132443</td>\n",
       "      <td>en</td>\n",
       "    </tr>\n",
       "    <tr>\n",
       "      <th>197</th>\n",
       "      <td>1469648138906763267</td>\n",
       "      <td>{'retweet_count': 15, 'reply_count': 0, 'like_...</td>\n",
       "      <td>RT @_myvpl_: @NCares17 @jessicawhitIly Yh it w...</td>\n",
       "      <td>2021-12-11T12:39:55.000Z</td>\n",
       "      <td>452280828</td>\n",
       "      <td>en</td>\n",
       "    </tr>\n",
       "    <tr>\n",
       "      <th>198</th>\n",
       "      <td>1469624514417991681</td>\n",
       "      <td>{'retweet_count': 195, 'reply_count': 0, 'like...</td>\n",
       "      <td>RT @VasuBharat09: It's a ray.\\nLight and warmt...</td>\n",
       "      <td>2021-12-11T11:06:03.000Z</td>\n",
       "      <td>813312379509506049</td>\n",
       "      <td>en</td>\n",
       "    </tr>\n",
       "    <tr>\n",
       "      <th>199</th>\n",
       "      <td>1469622812642091010</td>\n",
       "      <td>{'retweet_count': 6, 'reply_count': 0, 'like_c...</td>\n",
       "      <td>RT @TvBoxSA: اعلنت @ABCNetwork تجديد المسلسل ا...</td>\n",
       "      <td>2021-12-11T10:59:17.000Z</td>\n",
       "      <td>1067634457</td>\n",
       "      <td>ar</td>\n",
       "    </tr>\n",
       "  </tbody>\n",
       "</table>\n",
       "<p>200 rows × 6 columns</p>\n",
       "</div>"
      ],
      "text/plain": [
       "                      id                                     public_metrics  \\\n",
       "0    1470539115921870855  {'retweet_count': 0, 'reply_count': 0, 'like_c...   \n",
       "1    1470539014117765122  {'retweet_count': 2, 'reply_count': 0, 'like_c...   \n",
       "2    1470527694148452358  {'retweet_count': 0, 'reply_count': 0, 'like_c...   \n",
       "3    1470527263489802240  {'retweet_count': 0, 'reply_count': 1, 'like_c...   \n",
       "4    1470520951964065796  {'retweet_count': 0, 'reply_count': 0, 'like_c...   \n",
       "..                   ...                                                ...   \n",
       "195  1469655354086760451  {'retweet_count': 1, 'reply_count': 0, 'like_c...   \n",
       "196  1469651840207884288  {'retweet_count': 15, 'reply_count': 0, 'like_...   \n",
       "197  1469648138906763267  {'retweet_count': 15, 'reply_count': 0, 'like_...   \n",
       "198  1469624514417991681  {'retweet_count': 195, 'reply_count': 0, 'like...   \n",
       "199  1469622812642091010  {'retweet_count': 6, 'reply_count': 0, 'like_c...   \n",
       "\n",
       "                                                  text  \\\n",
       "0                            blackish-grey ossel hitch   \n",
       "1    RT @IamW4TC: Congratulations @IssaRae and @Tra...   \n",
       "2    And I really feel like they nominate Blackish ...   \n",
       "3    @Chemicalboyy Banshee\\nVikings\\nElites\\nBlacki...   \n",
       "4    3) Mejor actor principal en comedia #GlobosDeO...   \n",
       "..                                                 ...   \n",
       "195  That girl from Blackish... https://t.co/JNoPuq...   \n",
       "196  RT @_myvpl_: @NCares17 @jessicawhitIly Yh it w...   \n",
       "197  RT @_myvpl_: @NCares17 @jessicawhitIly Yh it w...   \n",
       "198  RT @VasuBharat09: It's a ray.\\nLight and warmt...   \n",
       "199  RT @TvBoxSA: اعلنت @ABCNetwork تجديد المسلسل ا...   \n",
       "\n",
       "                   created_at            author_id lang  \n",
       "0    2021-12-13T23:40:21.000Z   796444880675438592   en  \n",
       "1    2021-12-13T23:39:56.000Z   957821109444972545   en  \n",
       "2    2021-12-13T22:54:58.000Z             26905493   en  \n",
       "3    2021-12-13T22:53:15.000Z  1080035996027273217   en  \n",
       "4    2021-12-13T22:28:10.000Z           1863836348   es  \n",
       "..                        ...                  ...  ...  \n",
       "195  2021-12-11T13:08:35.000Z   984971006245769216   en  \n",
       "196  2021-12-11T12:54:38.000Z            387132443   en  \n",
       "197  2021-12-11T12:39:55.000Z            452280828   en  \n",
       "198  2021-12-11T11:06:03.000Z   813312379509506049   en  \n",
       "199  2021-12-11T10:59:17.000Z           1067634457   ar  \n",
       "\n",
       "[200 rows x 6 columns]"
      ]
     },
     "execution_count": 83,
     "metadata": {},
     "output_type": "execute_result"
    }
   ],
   "source": [
    "blackish_df"
   ]
  },
  {
   "cell_type": "code",
   "execution_count": 84,
   "id": "4d77e082",
   "metadata": {},
   "outputs": [],
   "source": [
    "blackish_df.to_csv('blackishAnalysis.csv')"
   ]
  },
  {
   "cell_type": "code",
   "execution_count": 85,
   "id": "d1bdeeb3",
   "metadata": {},
   "outputs": [],
   "source": [
    "blackish = pd.read_csv('blackishAnalysis.csv', encoding = 'utf-8')"
   ]
  },
  {
   "cell_type": "code",
   "execution_count": null,
   "id": "406aef93",
   "metadata": {},
   "outputs": [],
   "source": [
    "blackish.keys()"
   ]
  },
  {
   "cell_type": "code",
   "execution_count": null,
   "id": "02fc8c20",
   "metadata": {},
   "outputs": [],
   "source": [
    "blackish['lang'].astype('category')"
   ]
  },
  {
   "cell_type": "code",
   "execution_count": 88,
   "id": "1d99ca98",
   "metadata": {},
   "outputs": [],
   "source": [
    "blackish_posts = blackish[(blackish['lang']) == 'en']"
   ]
  },
  {
   "cell_type": "code",
   "execution_count": null,
   "id": "9b52f249",
   "metadata": {},
   "outputs": [],
   "source": [
    "blackish_posts['lang'].astype('category')"
   ]
  },
  {
   "cell_type": "code",
   "execution_count": 90,
   "id": "03e00c7c",
   "metadata": {},
   "outputs": [
    {
     "data": {
      "text/plain": [
       "0                              blackish-grey ossel hitch\n",
       "1      RT @IamW4TC: Congratulations @IssaRae and @Tra...\n",
       "2      And I really feel like they nominate Blackish ...\n",
       "3      @Chemicalboyy Banshee\\nVikings\\nElites\\nBlacki...\n",
       "5      2) Mejor actriz principal en comedia #GlobosDe...\n",
       "                             ...                        \n",
       "194           RT @hetros2022: That girl from Blackish...\n",
       "195    That girl from Blackish... https://t.co/JNoPuq...\n",
       "196    RT @_myvpl_: @NCares17 @jessicawhitIly Yh it w...\n",
       "197    RT @_myvpl_: @NCares17 @jessicawhitIly Yh it w...\n",
       "198    RT @VasuBharat09: It's a ray.\\nLight and warmt...\n",
       "Name: text, Length: 193, dtype: object"
      ]
     },
     "execution_count": 90,
     "metadata": {},
     "output_type": "execute_result"
    }
   ],
   "source": [
    "blackish_posts['text']"
   ]
  },
  {
   "cell_type": "code",
   "execution_count": null,
   "id": "472008f3",
   "metadata": {},
   "outputs": [],
   "source": [
    "blackish_posts['text'].iloc[0]"
   ]
  },
  {
   "cell_type": "code",
   "execution_count": 92,
   "id": "2fce1128",
   "metadata": {},
   "outputs": [],
   "source": [
    "blackish_lowercase = [x.lower() for x in blackish_posts['text']]"
   ]
  },
  {
   "cell_type": "code",
   "execution_count": null,
   "id": "f7dcc9ad",
   "metadata": {},
   "outputs": [],
   "source": [
    "blackish_lowercase[0]"
   ]
  },
  {
   "cell_type": "code",
   "execution_count": 94,
   "id": "fe5dff36",
   "metadata": {},
   "outputs": [],
   "source": [
    "blackish_analyze= SentimentIntensityAnalyzer()"
   ]
  },
  {
   "cell_type": "code",
   "execution_count": 95,
   "id": "e9d1ccc1",
   "metadata": {},
   "outputs": [
    {
     "name": "stdout",
     "output_type": "stream",
     "text": [
      "{'neg': 0.0, 'neu': 1.0, 'pos': 0.0, 'compound': 0.0}\n"
     ]
    }
   ],
   "source": [
    "print(blackish_analyze.polarity_scores(blackish_posts['text'].iloc[0]))"
   ]
  },
  {
   "cell_type": "code",
   "execution_count": 96,
   "id": "e3797a28",
   "metadata": {},
   "outputs": [],
   "source": [
    "blackish_senti = blackish_analyze.polarity_scores(blackish_posts['text'].iloc[0])"
   ]
  },
  {
   "cell_type": "code",
   "execution_count": 97,
   "id": "a30df947",
   "metadata": {},
   "outputs": [
    {
     "data": {
      "text/plain": [
       "0.0"
      ]
     },
     "execution_count": 97,
     "metadata": {},
     "output_type": "execute_result"
    }
   ],
   "source": [
    "blackish_senti['neg']"
   ]
  },
  {
   "cell_type": "code",
   "execution_count": 98,
   "id": "4c866fad",
   "metadata": {},
   "outputs": [],
   "source": [
    "all_bsenti = [blackish_analyze.polarity_scores(x) for x in blackish_posts['text']]"
   ]
  },
  {
   "cell_type": "code",
   "execution_count": 99,
   "id": "bb4b5546",
   "metadata": {},
   "outputs": [
    {
     "data": {
      "text/plain": [
       "[{'neg': 0.0, 'neu': 1.0, 'pos': 0.0, 'compound': 0.0},\n",
       " {'neg': 0.0, 'neu': 0.69, 'pos': 0.31, 'compound': 0.8442},\n",
       " {'neg': 0.207, 'neu': 0.692, 'pos': 0.101, 'compound': -0.4441},\n",
       " {'neg': 0.0, 'neu': 1.0, 'pos': 0.0, 'compound': 0.0},\n",
       " {'neg': 0.102, 'neu': 0.8, 'pos': 0.098, 'compound': -0.0258},\n",
       " {'neg': 0.0, 'neu': 0.633, 'pos': 0.367, 'compound': 0.4404},\n",
       " {'neg': 0.0, 'neu': 0.873, 'pos': 0.127, 'compound': 0.7506},\n",
       " {'neg': 0.0, 'neu': 0.344, 'pos': 0.656, 'compound': 0.9855},\n",
       " {'neg': 0.0, 'neu': 0.676, 'pos': 0.324, 'compound': 0.8016},\n",
       " {'neg': 0.099, 'neu': 0.734, 'pos': 0.166, 'compound': 0.3155},\n",
       " {'neg': 0.281, 'neu': 0.514, 'pos': 0.206, 'compound': -0.7136},\n",
       " {'neg': 0.153, 'neu': 0.625, 'pos': 0.222, 'compound': 0.25},\n",
       " {'neg': 0.06, 'neu': 0.94, 'pos': 0.0, 'compound': -0.3736},\n",
       " {'neg': 0.096, 'neu': 0.814, 'pos': 0.09, 'compound': -0.0931},\n",
       " {'neg': 0.0, 'neu': 1.0, 'pos': 0.0, 'compound': 0.0},\n",
       " {'neg': 0.216, 'neu': 0.607, 'pos': 0.177, 'compound': -0.0711},\n",
       " {'neg': 0.024, 'neu': 0.726, 'pos': 0.25, 'compound': 0.9459},\n",
       " {'neg': 0.041, 'neu': 0.865, 'pos': 0.094, 'compound': 0.2846},\n",
       " {'neg': 0.0, 'neu': 0.902, 'pos': 0.098, 'compound': 0.0772},\n",
       " {'neg': 0.282, 'neu': 0.718, 'pos': 0.0, 'compound': -0.6249},\n",
       " {'neg': 0.0, 'neu': 0.69, 'pos': 0.31, 'compound': 0.8442},\n",
       " {'neg': 0.0, 'neu': 0.353, 'pos': 0.647, 'compound': 0.6705},\n",
       " {'neg': 0.034, 'neu': 0.966, 'pos': 0.0, 'compound': -0.0516},\n",
       " {'neg': 0.211, 'neu': 0.789, 'pos': 0.0, 'compound': -0.34},\n",
       " {'neg': 0.131, 'neu': 0.802, 'pos': 0.067, 'compound': -0.5994},\n",
       " {'neg': 0.0, 'neu': 0.913, 'pos': 0.087, 'compound': 0.4501},\n",
       " {'neg': 0.09, 'neu': 0.581, 'pos': 0.328, 'compound': 0.8974},\n",
       " {'neg': 0.211, 'neu': 0.789, 'pos': 0.0, 'compound': -0.34},\n",
       " {'neg': 0.0, 'neu': 0.508, 'pos': 0.492, 'compound': 0.7003},\n",
       " {'neg': 0.0, 'neu': 0.947, 'pos': 0.053, 'compound': 0.34},\n",
       " {'neg': 0.0, 'neu': 1.0, 'pos': 0.0, 'compound': 0.0},\n",
       " {'neg': 0.0, 'neu': 0.822, 'pos': 0.178, 'compound': 0.3818},\n",
       " {'neg': 0.0, 'neu': 0.375, 'pos': 0.625, 'compound': 0.875},\n",
       " {'neg': 0.211, 'neu': 0.789, 'pos': 0.0, 'compound': -0.34},\n",
       " {'neg': 0.245, 'neu': 0.682, 'pos': 0.073, 'compound': -0.8902},\n",
       " {'neg': 0.081, 'neu': 0.605, 'pos': 0.314, 'compound': 0.8439},\n",
       " {'neg': 0.0, 'neu': 0.525, 'pos': 0.475, 'compound': 0.9517},\n",
       " {'neg': 0.0, 'neu': 0.624, 'pos': 0.376, 'compound': 0.9524},\n",
       " {'neg': 0.0, 'neu': 0.691, 'pos': 0.309, 'compound': 0.7399},\n",
       " {'neg': 0.0, 'neu': 0.857, 'pos': 0.143, 'compound': 0.3612},\n",
       " {'neg': 0.29, 'neu': 0.588, 'pos': 0.122, 'compound': -0.6124},\n",
       " {'neg': 0.0, 'neu': 0.82, 'pos': 0.18, 'compound': 0.5106},\n",
       " {'neg': 0.0, 'neu': 0.712, 'pos': 0.288, 'compound': 0.7708},\n",
       " {'neg': 0.138, 'neu': 0.623, 'pos': 0.239, 'compound': 0.5046},\n",
       " {'neg': 0.056, 'neu': 0.944, 'pos': 0.0, 'compound': -0.1655},\n",
       " {'neg': 0.231, 'neu': 0.769, 'pos': 0.0, 'compound': -0.4019},\n",
       " {'neg': 0.088, 'neu': 0.912, 'pos': 0.0, 'compound': -0.34},\n",
       " {'neg': 0.211, 'neu': 0.789, 'pos': 0.0, 'compound': -0.34},\n",
       " {'neg': 0.0, 'neu': 1.0, 'pos': 0.0, 'compound': 0.0},\n",
       " {'neg': 0.211, 'neu': 0.789, 'pos': 0.0, 'compound': -0.34},\n",
       " {'neg': 0.211, 'neu': 0.789, 'pos': 0.0, 'compound': -0.34},\n",
       " {'neg': 0.211, 'neu': 0.789, 'pos': 0.0, 'compound': -0.34},\n",
       " {'neg': 0.211, 'neu': 0.789, 'pos': 0.0, 'compound': -0.34},\n",
       " {'neg': 0.211, 'neu': 0.789, 'pos': 0.0, 'compound': -0.34},\n",
       " {'neg': 0.0, 'neu': 0.753, 'pos': 0.247, 'compound': 0.5574},\n",
       " {'neg': 0.1, 'neu': 0.588, 'pos': 0.311, 'compound': 0.7269},\n",
       " {'neg': 0.208, 'neu': 0.708, 'pos': 0.085, 'compound': -0.3541},\n",
       " {'neg': 0.211, 'neu': 0.789, 'pos': 0.0, 'compound': -0.34},\n",
       " {'neg': 0.211, 'neu': 0.789, 'pos': 0.0, 'compound': -0.34},\n",
       " {'neg': 0.211, 'neu': 0.789, 'pos': 0.0, 'compound': -0.34},\n",
       " {'neg': 0.211, 'neu': 0.789, 'pos': 0.0, 'compound': -0.34},\n",
       " {'neg': 0.211, 'neu': 0.789, 'pos': 0.0, 'compound': -0.34},\n",
       " {'neg': 0.211, 'neu': 0.789, 'pos': 0.0, 'compound': -0.34},\n",
       " {'neg': 0.211, 'neu': 0.789, 'pos': 0.0, 'compound': -0.34},\n",
       " {'neg': 0.211, 'neu': 0.789, 'pos': 0.0, 'compound': -0.34},\n",
       " {'neg': 0.211, 'neu': 0.789, 'pos': 0.0, 'compound': -0.34},\n",
       " {'neg': 0.255, 'neu': 0.745, 'pos': 0.0, 'compound': -0.34},\n",
       " {'neg': 0.0, 'neu': 1.0, 'pos': 0.0, 'compound': 0.0},\n",
       " {'neg': 0.0, 'neu': 1.0, 'pos': 0.0, 'compound': 0.0},\n",
       " {'neg': 0.0, 'neu': 1.0, 'pos': 0.0, 'compound': 0.0},\n",
       " {'neg': 0.0, 'neu': 1.0, 'pos': 0.0, 'compound': 0.0},\n",
       " {'neg': 0.0, 'neu': 1.0, 'pos': 0.0, 'compound': 0.0},\n",
       " {'neg': 0.0, 'neu': 0.543, 'pos': 0.457, 'compound': 0.6369},\n",
       " {'neg': 0.0, 'neu': 0.679, 'pos': 0.321, 'compound': 0.6369},\n",
       " {'neg': 0.203, 'neu': 0.482, 'pos': 0.315, 'compound': 0.7998},\n",
       " {'neg': 0.0, 'neu': 1.0, 'pos': 0.0, 'compound': 0.0},\n",
       " {'neg': 0.0, 'neu': 1.0, 'pos': 0.0, 'compound': 0.0},\n",
       " {'neg': 0.0, 'neu': 1.0, 'pos': 0.0, 'compound': 0.0},\n",
       " {'neg': 0.0, 'neu': 0.904, 'pos': 0.096, 'compound': 0.3716},\n",
       " {'neg': 0.048, 'neu': 0.783, 'pos': 0.169, 'compound': 0.7156},\n",
       " {'neg': 0.0, 'neu': 1.0, 'pos': 0.0, 'compound': 0.0},\n",
       " {'neg': 0.385, 'neu': 0.615, 'pos': 0.0, 'compound': -0.3612},\n",
       " {'neg': 0.0, 'neu': 1.0, 'pos': 0.0, 'compound': 0.0},\n",
       " {'neg': 0.0, 'neu': 0.891, 'pos': 0.109, 'compound': 0.4019},\n",
       " {'neg': 0.0, 'neu': 1.0, 'pos': 0.0, 'compound': 0.0},\n",
       " {'neg': 0.127, 'neu': 0.574, 'pos': 0.299, 'compound': 0.4939},\n",
       " {'neg': 0.196, 'neu': 0.804, 'pos': 0.0, 'compound': -0.296},\n",
       " {'neg': 0.0, 'neu': 0.779, 'pos': 0.221, 'compound': 0.6597},\n",
       " {'neg': 0.0, 'neu': 1.0, 'pos': 0.0, 'compound': 0.0},\n",
       " {'neg': 0.0, 'neu': 0.832, 'pos': 0.168, 'compound': 0.872},\n",
       " {'neg': 0.0, 'neu': 0.519, 'pos': 0.481, 'compound': 0.8805},\n",
       " {'neg': 0.0, 'neu': 1.0, 'pos': 0.0, 'compound': 0.0},\n",
       " {'neg': 0.0, 'neu': 0.909, 'pos': 0.091, 'compound': 0.2732},\n",
       " {'neg': 0.248, 'neu': 0.752, 'pos': 0.0, 'compound': -0.6476},\n",
       " {'neg': 0.0, 'neu': 0.813, 'pos': 0.187, 'compound': 0.5704},\n",
       " {'neg': 0.0, 'neu': 0.429, 'pos': 0.571, 'compound': 0.8402},\n",
       " {'neg': 0.0, 'neu': 0.909, 'pos': 0.091, 'compound': 0.2732},\n",
       " {'neg': 0.04, 'neu': 0.907, 'pos': 0.053, 'compound': 0.1779},\n",
       " {'neg': 0.068, 'neu': 0.738, 'pos': 0.194, 'compound': 0.7184},\n",
       " {'neg': 0.0, 'neu': 0.905, 'pos': 0.095, 'compound': 0.4767},\n",
       " {'neg': 0.0, 'neu': 0.909, 'pos': 0.091, 'compound': 0.2732},\n",
       " {'neg': 0.231, 'neu': 0.769, 'pos': 0.0, 'compound': -0.7518},\n",
       " {'neg': 0.0, 'neu': 0.933, 'pos': 0.067, 'compound': 0.3182},\n",
       " {'neg': 0.0, 'neu': 1.0, 'pos': 0.0, 'compound': 0.0},\n",
       " {'neg': 0.0, 'neu': 1.0, 'pos': 0.0, 'compound': 0.0},\n",
       " {'neg': 0.085, 'neu': 0.813, 'pos': 0.102, 'compound': -0.2846},\n",
       " {'neg': 0.0, 'neu': 0.854, 'pos': 0.146, 'compound': 0.627},\n",
       " {'neg': 0.0, 'neu': 0.852, 'pos': 0.148, 'compound': 0.8388},\n",
       " {'neg': 0.127, 'neu': 0.728, 'pos': 0.144, 'compound': 0.34},\n",
       " {'neg': 0.0, 'neu': 0.853, 'pos': 0.147, 'compound': 0.6369},\n",
       " {'neg': 0.0, 'neu': 0.911, 'pos': 0.089, 'compound': 0.5106},\n",
       " {'neg': 0.0, 'neu': 0.798, 'pos': 0.202, 'compound': 0.6486},\n",
       " {'neg': 0.0, 'neu': 0.843, 'pos': 0.157, 'compound': 0.7515},\n",
       " {'neg': 0.0, 'neu': 0.924, 'pos': 0.076, 'compound': 0.34},\n",
       " {'neg': 0.03, 'neu': 0.913, 'pos': 0.057, 'compound': 0.0772},\n",
       " {'neg': 0.0, 'neu': 0.798, 'pos': 0.202, 'compound': 0.5106},\n",
       " {'neg': 0.0, 'neu': 0.769, 'pos': 0.231, 'compound': 0.5106},\n",
       " {'neg': 0.0, 'neu': 1.0, 'pos': 0.0, 'compound': 0.0},\n",
       " {'neg': 0.0, 'neu': 1.0, 'pos': 0.0, 'compound': 0.0},\n",
       " {'neg': 0.0, 'neu': 0.816, 'pos': 0.184, 'compound': 0.8399},\n",
       " {'neg': 0.215, 'neu': 0.545, 'pos': 0.24, 'compound': 0.1436},\n",
       " {'neg': 0.0, 'neu': 0.779, 'pos': 0.221, 'compound': 0.6588},\n",
       " {'neg': 0.0, 'neu': 1.0, 'pos': 0.0, 'compound': 0.0},\n",
       " {'neg': 0.0, 'neu': 0.444, 'pos': 0.556, 'compound': 0.3612},\n",
       " {'neg': 0.0, 'neu': 0.621, 'pos': 0.379, 'compound': 0.6705},\n",
       " {'neg': 0.0, 'neu': 0.899, 'pos': 0.101, 'compound': 0.4003},\n",
       " {'neg': 0.0, 'neu': 1.0, 'pos': 0.0, 'compound': 0.0},\n",
       " {'neg': 0.0, 'neu': 0.444, 'pos': 0.556, 'compound': 0.3612},\n",
       " {'neg': 0.0, 'neu': 0.445, 'pos': 0.555, 'compound': 0.5777},\n",
       " {'neg': 0.0, 'neu': 0.535, 'pos': 0.465, 'compound': 0.787},\n",
       " {'neg': 0.0, 'neu': 1.0, 'pos': 0.0, 'compound': 0.0},\n",
       " {'neg': 0.0, 'neu': 1.0, 'pos': 0.0, 'compound': 0.0},\n",
       " {'neg': 0.0, 'neu': 1.0, 'pos': 0.0, 'compound': 0.0},\n",
       " {'neg': 0.169, 'neu': 0.535, 'pos': 0.296, 'compound': 0.908},\n",
       " {'neg': 0.086, 'neu': 0.624, 'pos': 0.289, 'compound': 0.7063},\n",
       " {'neg': 0.092, 'neu': 0.596, 'pos': 0.311, 'compound': 0.7063},\n",
       " {'neg': 0.028, 'neu': 0.866, 'pos': 0.107, 'compound': 0.7622},\n",
       " {'neg': 0.0, 'neu': 1.0, 'pos': 0.0, 'compound': 0.0},\n",
       " {'neg': 0.338, 'neu': 0.662, 'pos': 0.0, 'compound': -0.5574},\n",
       " {'neg': 0.351, 'neu': 0.649, 'pos': 0.0, 'compound': -0.4019},\n",
       " {'neg': 0.0, 'neu': 0.633, 'pos': 0.367, 'compound': 0.4404},\n",
       " {'neg': 0.0, 'neu': 0.643, 'pos': 0.357, 'compound': 0.7273},\n",
       " {'neg': 0.0, 'neu': 1.0, 'pos': 0.0, 'compound': 0.0},\n",
       " {'neg': 0.112, 'neu': 0.77, 'pos': 0.119, 'compound': -0.2865},\n",
       " {'neg': 0.0, 'neu': 0.815, 'pos': 0.185, 'compound': 0.3612},\n",
       " {'neg': 0.0, 'neu': 0.828, 'pos': 0.172, 'compound': 0.3612},\n",
       " {'neg': 0.209, 'neu': 0.791, 'pos': 0.0, 'compound': -0.5719},\n",
       " {'neg': 0.155, 'neu': 0.845, 'pos': 0.0, 'compound': -0.6486},\n",
       " {'neg': 0.0, 'neu': 0.867, 'pos': 0.133, 'compound': 0.3818},\n",
       " {'neg': 0.086, 'neu': 0.667, 'pos': 0.247, 'compound': 0.7579},\n",
       " {'neg': 0.201, 'neu': 0.625, 'pos': 0.174, 'compound': -0.1531},\n",
       " {'neg': 0.0, 'neu': 0.767, 'pos': 0.233, 'compound': 0.743},\n",
       " {'neg': 0.0, 'neu': 1.0, 'pos': 0.0, 'compound': 0.0},\n",
       " {'neg': 0.0, 'neu': 1.0, 'pos': 0.0, 'compound': 0.0},\n",
       " {'neg': 0.0, 'neu': 1.0, 'pos': 0.0, 'compound': 0.0},\n",
       " {'neg': 0.204, 'neu': 0.389, 'pos': 0.408, 'compound': 0.969},\n",
       " {'neg': 0.0, 'neu': 1.0, 'pos': 0.0, 'compound': 0.0},\n",
       " {'neg': 0.0, 'neu': 1.0, 'pos': 0.0, 'compound': 0.0},\n",
       " {'neg': 0.0, 'neu': 1.0, 'pos': 0.0, 'compound': 0.0},\n",
       " {'neg': 0.0, 'neu': 1.0, 'pos': 0.0, 'compound': 0.0},\n",
       " {'neg': 0.0, 'neu': 1.0, 'pos': 0.0, 'compound': 0.0},\n",
       " {'neg': 0.0, 'neu': 0.947, 'pos': 0.053, 'compound': 0.4173},\n",
       " {'neg': 0.08, 'neu': 0.92, 'pos': 0.0, 'compound': -0.0772},\n",
       " {'neg': 0.0, 'neu': 1.0, 'pos': 0.0, 'compound': 0.0},\n",
       " {'neg': 0.445, 'neu': 0.555, 'pos': 0.0, 'compound': -0.9436},\n",
       " {'neg': 0.0, 'neu': 1.0, 'pos': 0.0, 'compound': 0.0},\n",
       " {'neg': 0.0, 'neu': 1.0, 'pos': 0.0, 'compound': 0.0},\n",
       " {'neg': 0.053, 'neu': 0.825, 'pos': 0.121, 'compound': 0.4215},\n",
       " {'neg': 0.0, 'neu': 1.0, 'pos': 0.0, 'compound': 0.0},\n",
       " {'neg': 0.0, 'neu': 0.741, 'pos': 0.259, 'compound': 0.4199},\n",
       " {'neg': 0.0, 'neu': 0.905, 'pos': 0.095, 'compound': 0.2975},\n",
       " {'neg': 0.136, 'neu': 0.864, 'pos': 0.0, 'compound': -0.296},\n",
       " {'neg': 0.0, 'neu': 1.0, 'pos': 0.0, 'compound': 0.0},\n",
       " {'neg': 0.0, 'neu': 1.0, 'pos': 0.0, 'compound': 0.0},\n",
       " {'neg': 0.262, 'neu': 0.738, 'pos': 0.0, 'compound': -0.4939},\n",
       " {'neg': 0.0, 'neu': 0.588, 'pos': 0.412, 'compound': 0.8885},\n",
       " {'neg': 0.0, 'neu': 0.798, 'pos': 0.202, 'compound': 0.6486},\n",
       " {'neg': 0.0, 'neu': 0.798, 'pos': 0.202, 'compound': 0.6486},\n",
       " {'neg': 0.187, 'neu': 0.813, 'pos': 0.0, 'compound': -0.6486},\n",
       " {'neg': 0.0, 'neu': 1.0, 'pos': 0.0, 'compound': 0.0},\n",
       " {'neg': 0.187, 'neu': 0.813, 'pos': 0.0, 'compound': -0.6486},\n",
       " {'neg': 0.052, 'neu': 0.708, 'pos': 0.24, 'compound': 0.7845},\n",
       " {'neg': 0.0, 'neu': 0.496, 'pos': 0.504, 'compound': 0.7269},\n",
       " {'neg': 0.157, 'neu': 0.843, 'pos': 0.0, 'compound': -0.68},\n",
       " {'neg': 0.0, 'neu': 0.8, 'pos': 0.2, 'compound': 0.3612},\n",
       " {'neg': 0.029, 'neu': 0.912, 'pos': 0.059, 'compound': 0.3519},\n",
       " {'neg': 0.0, 'neu': 1.0, 'pos': 0.0, 'compound': 0.0},\n",
       " {'neg': 0.385, 'neu': 0.615, 'pos': 0.0, 'compound': -0.3612},\n",
       " {'neg': 0.0, 'neu': 1.0, 'pos': 0.0, 'compound': 0.0},\n",
       " {'neg': 0.0, 'neu': 1.0, 'pos': 0.0, 'compound': 0.0},\n",
       " {'neg': 0.0, 'neu': 0.798, 'pos': 0.202, 'compound': 0.6486},\n",
       " {'neg': 0.0, 'neu': 0.798, 'pos': 0.202, 'compound': 0.6486},\n",
       " {'neg': 0.087, 'neu': 0.758, 'pos': 0.155, 'compound': 0.3182}]"
      ]
     },
     "execution_count": 99,
     "metadata": {},
     "output_type": "execute_result"
    }
   ],
   "source": [
    "all_bsenti"
   ]
  },
  {
   "cell_type": "code",
   "execution_count": 100,
   "id": "ec451bd5",
   "metadata": {},
   "outputs": [],
   "source": [
    "blacksents_df = pd.DataFrame(all_bsenti)"
   ]
  },
  {
   "cell_type": "markdown",
   "id": "e3bdbb09",
   "metadata": {},
   "source": [
    "## black-ish histogram"
   ]
  },
  {
   "cell_type": "markdown",
   "id": "b7e674b5",
   "metadata": {},
   "source": [
    "Here I created a dataframe for the blackish sentiment scores. This allows me to better analyze the data and to visualize it. I then made a histogram with the positive sentiments and it visualizes it for me/"
   ]
  },
  {
   "cell_type": "code",
   "execution_count": 101,
   "id": "e6720a3a",
   "metadata": {},
   "outputs": [
    {
     "data": {
      "text/html": [
       "<div>\n",
       "<style scoped>\n",
       "    .dataframe tbody tr th:only-of-type {\n",
       "        vertical-align: middle;\n",
       "    }\n",
       "\n",
       "    .dataframe tbody tr th {\n",
       "        vertical-align: top;\n",
       "    }\n",
       "\n",
       "    .dataframe thead th {\n",
       "        text-align: right;\n",
       "    }\n",
       "</style>\n",
       "<table border=\"1\" class=\"dataframe\">\n",
       "  <thead>\n",
       "    <tr style=\"text-align: right;\">\n",
       "      <th></th>\n",
       "      <th>neg</th>\n",
       "      <th>neu</th>\n",
       "      <th>pos</th>\n",
       "      <th>compound</th>\n",
       "    </tr>\n",
       "  </thead>\n",
       "  <tbody>\n",
       "    <tr>\n",
       "      <th>0</th>\n",
       "      <td>0.000</td>\n",
       "      <td>1.000</td>\n",
       "      <td>0.000</td>\n",
       "      <td>0.0000</td>\n",
       "    </tr>\n",
       "    <tr>\n",
       "      <th>1</th>\n",
       "      <td>0.000</td>\n",
       "      <td>0.690</td>\n",
       "      <td>0.310</td>\n",
       "      <td>0.8442</td>\n",
       "    </tr>\n",
       "    <tr>\n",
       "      <th>2</th>\n",
       "      <td>0.207</td>\n",
       "      <td>0.692</td>\n",
       "      <td>0.101</td>\n",
       "      <td>-0.4441</td>\n",
       "    </tr>\n",
       "    <tr>\n",
       "      <th>3</th>\n",
       "      <td>0.000</td>\n",
       "      <td>1.000</td>\n",
       "      <td>0.000</td>\n",
       "      <td>0.0000</td>\n",
       "    </tr>\n",
       "    <tr>\n",
       "      <th>4</th>\n",
       "      <td>0.102</td>\n",
       "      <td>0.800</td>\n",
       "      <td>0.098</td>\n",
       "      <td>-0.0258</td>\n",
       "    </tr>\n",
       "    <tr>\n",
       "      <th>...</th>\n",
       "      <td>...</td>\n",
       "      <td>...</td>\n",
       "      <td>...</td>\n",
       "      <td>...</td>\n",
       "    </tr>\n",
       "    <tr>\n",
       "      <th>188</th>\n",
       "      <td>0.000</td>\n",
       "      <td>1.000</td>\n",
       "      <td>0.000</td>\n",
       "      <td>0.0000</td>\n",
       "    </tr>\n",
       "    <tr>\n",
       "      <th>189</th>\n",
       "      <td>0.000</td>\n",
       "      <td>1.000</td>\n",
       "      <td>0.000</td>\n",
       "      <td>0.0000</td>\n",
       "    </tr>\n",
       "    <tr>\n",
       "      <th>190</th>\n",
       "      <td>0.000</td>\n",
       "      <td>0.798</td>\n",
       "      <td>0.202</td>\n",
       "      <td>0.6486</td>\n",
       "    </tr>\n",
       "    <tr>\n",
       "      <th>191</th>\n",
       "      <td>0.000</td>\n",
       "      <td>0.798</td>\n",
       "      <td>0.202</td>\n",
       "      <td>0.6486</td>\n",
       "    </tr>\n",
       "    <tr>\n",
       "      <th>192</th>\n",
       "      <td>0.087</td>\n",
       "      <td>0.758</td>\n",
       "      <td>0.155</td>\n",
       "      <td>0.3182</td>\n",
       "    </tr>\n",
       "  </tbody>\n",
       "</table>\n",
       "<p>193 rows × 4 columns</p>\n",
       "</div>"
      ],
      "text/plain": [
       "       neg    neu    pos  compound\n",
       "0    0.000  1.000  0.000    0.0000\n",
       "1    0.000  0.690  0.310    0.8442\n",
       "2    0.207  0.692  0.101   -0.4441\n",
       "3    0.000  1.000  0.000    0.0000\n",
       "4    0.102  0.800  0.098   -0.0258\n",
       "..     ...    ...    ...       ...\n",
       "188  0.000  1.000  0.000    0.0000\n",
       "189  0.000  1.000  0.000    0.0000\n",
       "190  0.000  0.798  0.202    0.6486\n",
       "191  0.000  0.798  0.202    0.6486\n",
       "192  0.087  0.758  0.155    0.3182\n",
       "\n",
       "[193 rows x 4 columns]"
      ]
     },
     "execution_count": 101,
     "metadata": {},
     "output_type": "execute_result"
    }
   ],
   "source": [
    "blacksents_df"
   ]
  },
  {
   "cell_type": "code",
   "execution_count": 102,
   "id": "4af5a4e6",
   "metadata": {},
   "outputs": [
    {
     "data": {
      "text/plain": [
       "count    193.000000\n",
       "mean       0.127321\n",
       "std        0.160015\n",
       "min        0.000000\n",
       "25%        0.000000\n",
       "50%        0.076000\n",
       "75%        0.202000\n",
       "max        0.656000\n",
       "Name: pos, dtype: float64"
      ]
     },
     "execution_count": 102,
     "metadata": {},
     "output_type": "execute_result"
    }
   ],
   "source": [
    "blacksents_df['pos'].describe()"
   ]
  },
  {
   "cell_type": "code",
   "execution_count": 103,
   "id": "5cab6097",
   "metadata": {},
   "outputs": [
    {
     "data": {
      "text/plain": [
       "count    193.00000\n",
       "mean       0.06943\n",
       "std        0.10193\n",
       "min        0.00000\n",
       "25%        0.00000\n",
       "50%        0.00000\n",
       "75%        0.13600\n",
       "max        0.44500\n",
       "Name: neg, dtype: float64"
      ]
     },
     "execution_count": 103,
     "metadata": {},
     "output_type": "execute_result"
    }
   ],
   "source": [
    "blacksents_df['neg'].describe()"
   ]
  },
  {
   "cell_type": "code",
   "execution_count": 104,
   "id": "0a43d131",
   "metadata": {},
   "outputs": [
    {
     "data": {
      "image/png": "[encoded data removed]",
      "text/plain": [
       "<Figure size 432x288 with 1 Axes>"
      ]
     },
     "metadata": {
      "needs_background": "light"
     },
     "output_type": "display_data"
    }
   ],
   "source": [
    "fig2, ax2 = plt.subplots()\n",
    "ax2.hist(blacksents_df['pos'])\n",
    "plt.show()"
   ]
  },
  {
   "cell_type": "markdown",
   "id": "3af04b42",
   "metadata": {},
   "source": [
    "## black-ish complete histogram"
   ]
  },
  {
   "cell_type": "markdown",
   "id": "db4ef8f2",
   "metadata": {},
   "source": [
    "Here I have the blackish histograms with each sentiment in a histogram. Interpreting this data I can look at it and say that overall the tweets seem to be neutral. Next I will compare the two shows by each sentiment."
   ]
  },
  {
   "cell_type": "code",
   "execution_count": 119,
   "id": "1cb499ba",
   "metadata": {},
   "outputs": [
    {
     "data": {
      "image/png": "[encoded data removed]",
      "text/plain": [
       "<Figure size 720x360 with 4 Axes>"
      ]
     },
     "metadata": {
      "needs_background": "light"
     },
     "output_type": "display_data"
    }
   ],
   "source": [
    "fig3, ax3 = plt.subplots(1, 4, figsize = (10,5))\n",
    "ax3[0].hist(blacksents_df['neg'], bins =  8, color = 'red')\n",
    "ax3[1].hist(blacksents_df['pos'], bins = 8, color = 'blue')\n",
    "ax3[2].hist(blacksents_df['neu'], bins = 8, color = 'green')\n",
    "ax3[3].hist(blacksents_df['compound'], bins = 8, color = 'yellow')\n",
    "\n",
    "ax3[0].set_xlabel('Negative')\n",
    "ax3[1].set_xlabel('Positive')\n",
    "ax3[2].set_xlabel('Neutral')\n",
    "ax3[3].set_xlabel('Compound')\n",
    "\n",
    "fig3.suptitle(\"black-ish sentiments\")\n",
    "plt.show()"
   ]
  },
  {
   "cell_type": "markdown",
   "id": "010cb382",
   "metadata": {},
   "source": [
    "# Comparing Ted Lasso tweets vs. black-ish tweets"
   ]
  },
  {
   "cell_type": "markdown",
   "id": "5fd1be2b",
   "metadata": {},
   "source": [
    "Here I combined the two shows sentiment scores which allow me to look at each shows sentiment scores next to each other. The first histogram I am just putting the sentiment scores next to each other. "
   ]
  },
  {
   "cell_type": "code",
   "execution_count": 120,
   "id": "50b85a87",
   "metadata": {},
   "outputs": [
    {
     "data": {
      "image/png": "[encoded data removed]",
      "text/plain": [
       "<Figure size 720x576 with 8 Axes>"
      ]
     },
     "metadata": {
      "needs_background": "light"
     },
     "output_type": "display_data"
    }
   ],
   "source": [
    "fig5, ax5 = plt.subplots(2, 4, figsize = (10, 8))\n",
    "ax5[0,0].hist(sents_df['neg'], bins =  10, color = 'red')\n",
    "ax5[0,1].hist(sents_df['pos'], bins =  10, color = 'blue')\n",
    "ax5[0,2].hist(sents_df['neu'], bins =  10, color = 'green')\n",
    "ax5[0,3].hist(sents_df['compound'], bins =  10, color = 'yellow')\n",
    "\n",
    "ax5[0,0].set_xlabel(\"Negative\")\n",
    "ax5[0,1].set_xlabel(\"Positive\")\n",
    "ax5[0,2].set_xlabel(\"Neutral\")\n",
    "ax5[0,3].set_xlabel(\"Compound\")\n",
    "ax5[0,0].set_ylabel(\"Ted Lasso\")\n",
    "ax5[0,0].set_ylim(0,140)\n",
    "ax5[0,1].set_ylim(0,140)\n",
    "ax5[0,2].set_ylim(0,140)\n",
    "ax5[0,3].set_ylim(0,140)\n",
    "\n",
    "ax5[1,0].hist(blacksents_df['neg'], bins =  10, color = 'red')\n",
    "ax5[1,1].hist(blacksents_df['pos'], bins = 10, color = 'blue')\n",
    "ax5[1,2].hist(blacksents_df['neu'], bins = 10, color = 'green')\n",
    "ax5[1,3].hist(blacksents_df['compound'], bins = 10, color = 'yellow')\n",
    "\n",
    "ax5[1,0].set_xlabel('Negative')\n",
    "ax5[1,1].set_xlabel('Positive')\n",
    "ax5[1,2].set_xlabel('Neutral')\n",
    "ax5[1,3].set_xlabel('Compound')\n",
    "ax5[1,0].set_ylabel(\"black-ish\")\n",
    "ax5[1,0].set_ylim(0,140)\n",
    "ax5[1,1].set_ylim(0,140)\n",
    "ax5[1,2].set_ylim(0,140)\n",
    "ax5[1,3].set_ylim(0,140)\n",
    "\n",
    "fig5.suptitle(\"Ted Lasso Sentiments vs. black-ish sentiments\")\n",
    "plt.show()"
   ]
  },
  {
   "cell_type": "markdown",
   "id": "e18f724f",
   "metadata": {},
   "source": [
    "As for these histograms I overlapped the two shows data in order to get a more clear comparison of them. This is a better visualization because it can support my hypothesis. Ted Lasso is red and blackish is blue."
   ]
  },
  {
   "cell_type": "code",
   "execution_count": 121,
   "id": "63cf61a0",
   "metadata": {},
   "outputs": [
    {
     "data": {
      "image/png": "[encoded data removed]",
      "text/plain": [
       "<Figure size 720x576 with 4 Axes>"
      ]
     },
     "metadata": {
      "needs_background": "light"
     },
     "output_type": "display_data"
    }
   ],
   "source": [
    "fig6, ax6 = plt.subplots(1, 4, figsize = (10, 8))\n",
    "ax6[0].hist(sents_df['neg'], bins =  10, color = 'red', alpha = .5)\n",
    "ax6[0].hist(blacksents_df['neg'], bins =  10, color = 'blue', alpha = .5)\n",
    "\n",
    "ax6[1].hist(sents_df['pos'], bins =  10, color = 'red', alpha = .5)\n",
    "ax6[1].hist(blacksents_df['pos'], bins =  10, color = 'blue', alpha = .5)\n",
    "\n",
    "ax6[2].hist(sents_df['neu'], bins =  10, color = 'red', alpha = .5)\n",
    "ax6[2].hist(blacksents_df['neu'], bins =  10, color = 'blue', alpha = .5)\n",
    "\n",
    "ax6[3].hist(sents_df['compound'], bins =  10, color = 'red', alpha = .5)\n",
    "ax6[3].hist(blacksents_df['compound'], bins =  10, color = 'blue', alpha = .5)\n",
    "\n",
    "ax6[0].set_ylim(0,180)\n",
    "ax6[1].set_ylim(0,180)\n",
    "ax6[2].set_ylim(0,180)\n",
    "ax6[3].set_ylim(0,180)\n",
    "\n",
    "ax6[0].set_xlim(0,1)\n",
    "ax6[1].set_xlim(0,1)\n",
    "ax6[2].set_xlim(0,1)\n",
    "ax6[3].set_xlim(0,1)\n",
    "\n",
    "ax6[0].set_xlabel(\"Negative\")\n",
    "ax6[1].set_xlabel(\"Positive\")\n",
    "ax6[2].set_xlabel(\"Neutral\")\n",
    "ax6[3].set_xlabel(\"Compound\")\n",
    "\n",
    "fig6.suptitle(\"Ted Lasso Sentiments vs. black-ish Sentiments\")\n",
    "plt.show()"
   ]
  },
  {
   "cell_type": "markdown",
   "id": "4afccff3",
   "metadata": {},
   "source": [
    "## Conclusion"
   ]
  },
  {
   "cell_type": "markdown",
   "id": "d9e2e1d7",
   "metadata": {},
   "source": [
    "Overall, I believe that my hypothesis was right to some extent. Looking at the compound graph Ted Lasso seems to have a higher positive score than blackish. Even if you look at the graph above that one, you can see that Ted Lasso is more positive than negative. This has some limitations to it because I am just guessing by looking at the graphs, that Ted Lasso is more positive. If someone else were to look at the graphs they might say that blackish is more positive. Right now it is pretty bias to say that Ted Lasso is more positive. Another limitation I ran into was that I only have 200 Tweets for each show, I think collecting more Tweets would've help for my hypothesis. In the future I hope to get approved for the academic account for the Twitter API so that I can get Tweets from before the Emmy winners were announced."
   ]
  }
 ],
 "metadata": {
  "kernelspec": {
   "display_name": "Python 3 (ipykernel)",
   "language": "python",
   "name": "python3"
  },
  "language_info": {
   "codemirror_mode": {
    "name": "ipython",
    "version": 3
   },
   "file_extension": ".py",
   "mimetype": "text/x-python",
   "name": "python",
   "nbconvert_exporter": "python",
   "pygments_lexer": "ipython3",
   "version": "3.9.6"
  }
 },
 "nbformat": 4,
 "nbformat_minor": 5
}
