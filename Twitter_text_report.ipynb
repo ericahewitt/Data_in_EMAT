{
 "cells": [
  {
   "cell_type": "code",
   "execution_count": 2,
   "id": "5fa5ba50",
   "metadata": {},
   "outputs": [],
   "source": [
    "import requests\n",
    "import pandas as pd\n",
    "import urllib\n",
    "import json"
   ]
  },
  {
   "cell_type": "code",
   "execution_count": 3,
   "id": "5dd2c641",
   "metadata": {},
   "outputs": [
    {
     "name": "stdout",
     "output_type": "stream",
     "text": [
      " Volume in drive C is Windows\n",
      " Volume Serial Number is 522F-8D44\n",
      "\n",
      " Directory of C:\\Users\\erica\\DataInEMAT\n",
      "\n",
      "10/20/2021  09:14 PM    <DIR>          .\n",
      "10/20/2021  09:14 PM    <DIR>          ..\n",
      "10/20/2021  08:46 PM    <DIR>          .ipynb_checkpoints\n",
      "10/20/2021  09:14 PM             9,492 assignment2.ipynb\n",
      "08/31/2021  04:57 PM             1,311 Aug31_practice.ipynb\n",
      "10/12/2021  04:37 PM               126 bearer_token.txt\n",
      "10/19/2021  04:31 PM           280,487 beautifulSoup_10_19.ipynb\n",
      "09/30/2021  04:42 PM             1,623 bls_data.csv\n",
      "10/07/2021  10:20 AM    <DIR>          chinook\n",
      "10/07/2021  04:32 PM                 0 chinook.db\n",
      "10/07/2021  10:20 AM           305,596 chinook.zip\n",
      "09/21/2021  04:28 PM            92,455 class9_21.ipynb\n",
      "10/07/2021  07:23 PM                72 EmmyTalk.ipynb\n",
      "09/02/2021  05:29 PM             3,218 Hewitt_SystemsCheck.ipynb\n",
      "09/30/2021  04:53 PM             2,801 in_class_9_30.ipynb\n",
      "09/07/2021  04:59 PM             8,966 In_class_sept_7.ipynb\n",
      "09/14/2021  04:44 PM            76,891 inclass_9_14.ipynb\n",
      "09/09/2021  04:48 PM            20,237 InClass9_9_21.ipynb\n",
      "09/21/2021  08:39 PM            28,748 Likes_Report.ipynb\n",
      "09/30/2021  03:49 PM            29,044 spotify_API_inclass.ipynb\n",
      "09/30/2021  04:20 PM            26,557 spotify_API_inclass-9-30.ipynb\n",
      "09/23/2021  04:24 PM                90 spotify_keys.txt\n",
      "10/07/2021  04:53 PM            25,549 SQL_10_7.ipynb\n",
      "10/20/2021  07:50 PM             2,911 twitter_data.csv\n",
      "10/20/2021  08:46 PM            97,844 Twitter_text_report.ipynb\n",
      "10/19/2021  03:50 PM            31,367 TwitterAPI.ipynb\n",
      "              22 File(s)      1,045,385 bytes\n",
      "               4 Dir(s)   9,917,034,496 bytes free\n"
     ]
    }
   ],
   "source": [
    "ls"
   ]
  },
  {
   "cell_type": "code",
   "execution_count": 4,
   "id": "106cb7c6",
   "metadata": {},
   "outputs": [],
   "source": [
    "bearer_token = pd.read_csv('bearer_token.txt', header = 0)"
   ]
  },
  {
   "cell_type": "code",
   "execution_count": null,
   "id": "c86c5439",
   "metadata": {},
   "outputs": [],
   "source": [
    "bearer_token"
   ]
  },
  {
   "cell_type": "code",
   "execution_count": null,
   "id": "e744f175",
   "metadata": {},
   "outputs": [],
   "source": [
    "bearer_token['bearer_token'].iloc[0]"
   ]
  },
  {
   "cell_type": "code",
   "execution_count": 7,
   "id": "e69db802",
   "metadata": {},
   "outputs": [],
   "source": [
    "header = {'Authorization' : 'Bearer {}'.format(bearer_token['bearer_token'].iloc[0])}"
   ]
  },
  {
   "cell_type": "code",
   "execution_count": 8,
   "id": "57d1351d",
   "metadata": {},
   "outputs": [
    {
     "data": {
      "text/plain": [
       "Index(['bearer_token'], dtype='object')"
      ]
     },
     "execution_count": 8,
     "metadata": {},
     "output_type": "execute_result"
    }
   ],
   "source": [
    "bearer_token.keys()"
   ]
  },
  {
   "cell_type": "code",
   "execution_count": 24,
   "id": "592eafda",
   "metadata": {
    "scrolled": true
   },
   "outputs": [],
   "source": [
    "response = requests.request(\"GET\", url, headers = header)"
   ]
  },
  {
   "cell_type": "markdown",
   "id": "93a81384",
   "metadata": {},
   "source": [
    "Here I am getting my URL"
   ]
  },
  {
   "cell_type": "code",
   "execution_count": 10,
   "id": "a8e30eaf",
   "metadata": {},
   "outputs": [],
   "source": [
    "endpoint_url = 'https://api.twitter.com/2/tweets/search/recent'"
   ]
  },
  {
   "cell_type": "code",
   "execution_count": 14,
   "id": "512becf5",
   "metadata": {},
   "outputs": [],
   "source": [
    "query = urllib.parse.quote('(#Emmys OR @TheEmmys OR #Tedlasso lang:en)')"
   ]
  },
  {
   "cell_type": "markdown",
   "id": "9c92d3a8",
   "metadata": {},
   "source": [
    "Here I am querying the hashtag 'Emmys', the tagging of the Emmys twitter page, and the show Ted Lasso all in the english language"
   ]
  },
  {
   "cell_type": "code",
   "execution_count": 15,
   "id": "5ee2fc63",
   "metadata": {},
   "outputs": [
    {
     "data": {
      "text/plain": [
       "'%28%23Emmys%20OR%20%40TheEmmys%20OR%20%23Tedlasso%20lang%3Aen%29'"
      ]
     },
     "execution_count": 15,
     "metadata": {},
     "output_type": "execute_result"
    }
   ],
   "source": [
    "query"
   ]
  },
  {
   "cell_type": "markdown",
   "id": "cb0685b1",
   "metadata": {},
   "source": [
    "This is what my query looks like"
   ]
  },
  {
   "cell_type": "code",
   "execution_count": 16,
   "id": "c8799e3c",
   "metadata": {},
   "outputs": [],
   "source": [
    "my_api_url = endpoint_url + '?query={}'.format(query)"
   ]
  },
  {
   "cell_type": "code",
   "execution_count": 17,
   "id": "e906f380",
   "metadata": {},
   "outputs": [
    {
     "data": {
      "text/plain": [
       "'https://api.twitter.com/2/tweets/search/recent?query=%28%23Emmys%20OR%20%40TheEmmys%20OR%20%23Tedlasso%20lang%3Aen%29'"
      ]
     },
     "execution_count": 17,
     "metadata": {},
     "output_type": "execute_result"
    }
   ],
   "source": [
    "my_api_url"
   ]
  },
  {
   "cell_type": "markdown",
   "id": "7dbe8789",
   "metadata": {},
   "source": [
    "Here I am joining my URL and query into one cohesive URL"
   ]
  },
  {
   "cell_type": "code",
   "execution_count": 76,
   "id": "d47e613e",
   "metadata": {},
   "outputs": [],
   "source": [
    "tweet_fields = 'public_metrics,created_at,author_id,lang,source'"
   ]
  },
  {
   "cell_type": "markdown",
   "id": "fffe2c98",
   "metadata": {},
   "source": [
    "The variable tweet_fields I am getting the parameters that i want to get from the tweets. I also added the source of how the tweet was published"
   ]
  },
  {
   "cell_type": "code",
   "execution_count": 77,
   "id": "1590e863",
   "metadata": {},
   "outputs": [],
   "source": [
    "my_api_url = endpoint_url + '?query={}&tweet.fields={}'.format(query, tweet_fields)"
   ]
  },
  {
   "cell_type": "code",
   "execution_count": 78,
   "id": "e131f71a",
   "metadata": {},
   "outputs": [
    {
     "data": {
      "text/plain": [
       "'https://api.twitter.com/2/tweets/search/recent?query=%28%23Emmys%20OR%20%40TheEmmys%20OR%20%23Tedlasso%20lang%3Aen%29&tweet.fields=public_metrics,created_at,author_id,lang,source'"
      ]
     },
     "execution_count": 78,
     "metadata": {},
     "output_type": "execute_result"
    }
   ],
   "source": [
    "my_api_url"
   ]
  },
  {
   "cell_type": "markdown",
   "id": "f3fb5bcf",
   "metadata": {},
   "source": [
    "Here I am adding the tweet fields to the end of the URL so I can receive the tweets with all the specified parameters"
   ]
  },
  {
   "cell_type": "code",
   "execution_count": 79,
   "id": "4c807f11",
   "metadata": {},
   "outputs": [],
   "source": [
    "expansions = 'author_id'"
   ]
  },
  {
   "cell_type": "code",
   "execution_count": 80,
   "id": "13d96978",
   "metadata": {},
   "outputs": [],
   "source": [
    "url = endpoint_url + '?query={}&max_results=10&tweet.fields{}'.format(query, tweet_fields)"
   ]
  },
  {
   "cell_type": "code",
   "execution_count": 81,
   "id": "3d714c78",
   "metadata": {},
   "outputs": [],
   "source": [
    "url_expansions = endpoint_url + '?query={}&max_results=100&tweet.fields={}&expansions={}&user.fields={}'.format(query, tweet_fields, expansions, 'username')"
   ]
  },
  {
   "cell_type": "code",
   "execution_count": 82,
   "id": "40716c7b",
   "metadata": {},
   "outputs": [
    {
     "data": {
      "text/plain": [
       "'https://api.twitter.com/2/tweets/search/recent?query=%28%23Emmys%20OR%20%40TheEmmys%20OR%20%23Tedlasso%20lang%3Aen%29&max_results=100&tweet.fields=public_metrics,created_at,author_id,lang,source&expansions=author_id&user.fields=username'"
      ]
     },
     "execution_count": 82,
     "metadata": {},
     "output_type": "execute_result"
    }
   ],
   "source": [
    "url_expansions"
   ]
  },
  {
   "cell_type": "markdown",
   "id": "a5e63cff",
   "metadata": {},
   "source": [
    "Here I am adding the expansion author_id so I can get the username of the person who published the tweet"
   ]
  },
  {
   "cell_type": "code",
   "execution_count": 83,
   "id": "da62fef9",
   "metadata": {},
   "outputs": [
    {
     "data": {
      "text/plain": [
       "'https://api.twitter.com/2/tweets/search/recent?query=%28%23Emmys%20OR%20%40TheEmmys%20OR%20%23Tedlasso%20lang%3Aen%29&max_results=10&tweet.fieldspublic_metrics,created_at,author_id,lang,source'"
      ]
     },
     "execution_count": 83,
     "metadata": {},
     "output_type": "execute_result"
    }
   ],
   "source": [
    "url"
   ]
  },
  {
   "cell_type": "code",
   "execution_count": 84,
   "id": "65cd2cb0",
   "metadata": {},
   "outputs": [],
   "source": [
    "response_1 = requests.request(\"GET\", url_expansions, headers = header)"
   ]
  },
  {
   "cell_type": "code",
   "execution_count": null,
   "id": "487f679a",
   "metadata": {},
   "outputs": [],
   "source": [
    "response_1.text"
   ]
  },
  {
   "cell_type": "markdown",
   "id": "4be60981",
   "metadata": {},
   "source": [
    "This is where I actually pull all the data with all of my specified parameters "
   ]
  },
  {
   "cell_type": "code",
   "execution_count": 86,
   "id": "44fe482d",
   "metadata": {},
   "outputs": [],
   "source": [
    "response_1_dict = json.loads(response_1.text)"
   ]
  },
  {
   "cell_type": "markdown",
   "id": "a697be34",
   "metadata": {},
   "source": [
    "Then I make it into a dictionary so I can then put it in a data frame as seen below"
   ]
  },
  {
   "cell_type": "code",
   "execution_count": 87,
   "id": "0a02aa92",
   "metadata": {},
   "outputs": [
    {
     "data": {
      "text/plain": [
       "dict_keys(['data', 'includes', 'meta'])"
      ]
     },
     "execution_count": 87,
     "metadata": {},
     "output_type": "execute_result"
    }
   ],
   "source": [
    "response_1_dict.keys()"
   ]
  },
  {
   "cell_type": "code",
   "execution_count": 88,
   "id": "a5e0297f",
   "metadata": {},
   "outputs": [],
   "source": [
    "my_df = pd.DataFrame(response_1_dict['data'])"
   ]
  },
  {
   "cell_type": "code",
   "execution_count": 89,
   "id": "59d390a8",
   "metadata": {},
   "outputs": [
    {
     "data": {
      "text/html": [
       "<div>\n",
       "<style scoped>\n",
       "    .dataframe tbody tr th:only-of-type {\n",
       "        vertical-align: middle;\n",
       "    }\n",
       "\n",
       "    .dataframe tbody tr th {\n",
       "        vertical-align: top;\n",
       "    }\n",
       "\n",
       "    .dataframe thead th {\n",
       "        text-align: right;\n",
       "    }\n",
       "</style>\n",
       "<table border=\"1\" class=\"dataframe\">\n",
       "  <thead>\n",
       "    <tr style=\"text-align: right;\">\n",
       "      <th></th>\n",
       "      <th>text</th>\n",
       "      <th>created_at</th>\n",
       "      <th>public_metrics</th>\n",
       "      <th>source</th>\n",
       "      <th>author_id</th>\n",
       "      <th>lang</th>\n",
       "      <th>id</th>\n",
       "    </tr>\n",
       "  </thead>\n",
       "  <tbody>\n",
       "    <tr>\n",
       "      <th>0</th>\n",
       "      <td>REBECCA AND SAM?   WHATTTT #TedLasso</td>\n",
       "      <td>2021-10-21T01:30:34.000Z</td>\n",
       "      <td>{'retweet_count': 0, 'reply_count': 0, 'like_c...</td>\n",
       "      <td>Twitter for iPhone</td>\n",
       "      <td>369464326</td>\n",
       "      <td>en</td>\n",
       "      <td>1450997911479730179</td>\n",
       "    </tr>\n",
       "    <tr>\n",
       "      <th>1</th>\n",
       "      <td>finally started #TedLasso &amp;amp; don’t wanna stop…</td>\n",
       "      <td>2021-10-21T01:30:25.000Z</td>\n",
       "      <td>{'retweet_count': 0, 'reply_count': 0, 'like_c...</td>\n",
       "      <td>Twitter for iPhone</td>\n",
       "      <td>95271750</td>\n",
       "      <td>en</td>\n",
       "      <td>1450997872359579654</td>\n",
       "    </tr>\n",
       "    <tr>\n",
       "      <th>2</th>\n",
       "      <td>RT @EdmundHanlon: I dressed my dog up as Trent...</td>\n",
       "      <td>2021-10-21T01:30:04.000Z</td>\n",
       "      <td>{'retweet_count': 302, 'reply_count': 0, 'like...</td>\n",
       "      <td>Twitter for iPhone</td>\n",
       "      <td>448428384</td>\n",
       "      <td>en</td>\n",
       "      <td>1450997783108849665</td>\n",
       "    </tr>\n",
       "    <tr>\n",
       "      <th>3</th>\n",
       "      <td>RT @TheTrentCrimm: - @TheTrentCrimm, Independe...</td>\n",
       "      <td>2021-10-21T01:29:54.000Z</td>\n",
       "      <td>{'retweet_count': 3, 'reply_count': 0, 'like_c...</td>\n",
       "      <td>Twitter for iPad</td>\n",
       "      <td>1428538707217317892</td>\n",
       "      <td>en</td>\n",
       "      <td>1450997740670885893</td>\n",
       "    </tr>\n",
       "    <tr>\n",
       "      <th>4</th>\n",
       "      <td>Is #TedLasso on Cameo?? @jasonsudeikis ?? I wa...</td>\n",
       "      <td>2021-10-21T01:29:48.000Z</td>\n",
       "      <td>{'retweet_count': 0, 'reply_count': 0, 'like_c...</td>\n",
       "      <td>Twitter for iPhone</td>\n",
       "      <td>511127673</td>\n",
       "      <td>en</td>\n",
       "      <td>1450997717468164102</td>\n",
       "    </tr>\n",
       "    <tr>\n",
       "      <th>...</th>\n",
       "      <td>...</td>\n",
       "      <td>...</td>\n",
       "      <td>...</td>\n",
       "      <td>...</td>\n",
       "      <td>...</td>\n",
       "      <td>...</td>\n",
       "      <td>...</td>\n",
       "    </tr>\n",
       "    <tr>\n",
       "      <th>95</th>\n",
       "      <td>f1 RT leighlew3: Any time I need a pick me up ...</td>\n",
       "      <td>2021-10-21T00:43:29.000Z</td>\n",
       "      <td>{'retweet_count': 0, 'reply_count': 0, 'like_c...</td>\n",
       "      <td>Microsoft Power Platform</td>\n",
       "      <td>890676920869847040</td>\n",
       "      <td>en</td>\n",
       "      <td>1450986058724880384</td>\n",
       "    </tr>\n",
       "    <tr>\n",
       "      <th>96</th>\n",
       "      <td>RT @leighlew3: Any time I need a pick me up I ...</td>\n",
       "      <td>2021-10-21T00:43:27.000Z</td>\n",
       "      <td>{'retweet_count': 3, 'reply_count': 0, 'like_c...</td>\n",
       "      <td>Twitter for iPhone</td>\n",
       "      <td>836732671</td>\n",
       "      <td>en</td>\n",
       "      <td>1450986053666369539</td>\n",
       "    </tr>\n",
       "    <tr>\n",
       "      <th>97</th>\n",
       "      <td>RT @EdmundHanlon: I dressed my dog up as Trent...</td>\n",
       "      <td>2021-10-21T00:42:04.000Z</td>\n",
       "      <td>{'retweet_count': 302, 'reply_count': 0, 'like...</td>\n",
       "      <td>Twitter for iPhone</td>\n",
       "      <td>701523204</td>\n",
       "      <td>en</td>\n",
       "      <td>1450985704381689860</td>\n",
       "    </tr>\n",
       "    <tr>\n",
       "      <th>98</th>\n",
       "      <td>RT @QUEERLASSO: #tedlasso this is so dumb but ...</td>\n",
       "      <td>2021-10-21T00:41:49.000Z</td>\n",
       "      <td>{'retweet_count': 20, 'reply_count': 0, 'like_...</td>\n",
       "      <td>Twitter for iPhone</td>\n",
       "      <td>929795454761447424</td>\n",
       "      <td>en</td>\n",
       "      <td>1450985642981314560</td>\n",
       "    </tr>\n",
       "    <tr>\n",
       "      <th>99</th>\n",
       "      <td>RT @Darveyinbed: This cast is too hot to handl...</td>\n",
       "      <td>2021-10-21T00:39:50.000Z</td>\n",
       "      <td>{'retweet_count': 89, 'reply_count': 0, 'like_...</td>\n",
       "      <td>Twitter for iPhone</td>\n",
       "      <td>1139352278010335233</td>\n",
       "      <td>en</td>\n",
       "      <td>1450985143368404992</td>\n",
       "    </tr>\n",
       "  </tbody>\n",
       "</table>\n",
       "<p>100 rows × 7 columns</p>\n",
       "</div>"
      ],
      "text/plain": [
       "                                                 text  \\\n",
       "0                REBECCA AND SAM?   WHATTTT #TedLasso   \n",
       "1   finally started #TedLasso &amp; don’t wanna stop…   \n",
       "2   RT @EdmundHanlon: I dressed my dog up as Trent...   \n",
       "3   RT @TheTrentCrimm: - @TheTrentCrimm, Independe...   \n",
       "4   Is #TedLasso on Cameo?? @jasonsudeikis ?? I wa...   \n",
       "..                                                ...   \n",
       "95  f1 RT leighlew3: Any time I need a pick me up ...   \n",
       "96  RT @leighlew3: Any time I need a pick me up I ...   \n",
       "97  RT @EdmundHanlon: I dressed my dog up as Trent...   \n",
       "98  RT @QUEERLASSO: #tedlasso this is so dumb but ...   \n",
       "99  RT @Darveyinbed: This cast is too hot to handl...   \n",
       "\n",
       "                  created_at  \\\n",
       "0   2021-10-21T01:30:34.000Z   \n",
       "1   2021-10-21T01:30:25.000Z   \n",
       "2   2021-10-21T01:30:04.000Z   \n",
       "3   2021-10-21T01:29:54.000Z   \n",
       "4   2021-10-21T01:29:48.000Z   \n",
       "..                       ...   \n",
       "95  2021-10-21T00:43:29.000Z   \n",
       "96  2021-10-21T00:43:27.000Z   \n",
       "97  2021-10-21T00:42:04.000Z   \n",
       "98  2021-10-21T00:41:49.000Z   \n",
       "99  2021-10-21T00:39:50.000Z   \n",
       "\n",
       "                                       public_metrics  \\\n",
       "0   {'retweet_count': 0, 'reply_count': 0, 'like_c...   \n",
       "1   {'retweet_count': 0, 'reply_count': 0, 'like_c...   \n",
       "2   {'retweet_count': 302, 'reply_count': 0, 'like...   \n",
       "3   {'retweet_count': 3, 'reply_count': 0, 'like_c...   \n",
       "4   {'retweet_count': 0, 'reply_count': 0, 'like_c...   \n",
       "..                                                ...   \n",
       "95  {'retweet_count': 0, 'reply_count': 0, 'like_c...   \n",
       "96  {'retweet_count': 3, 'reply_count': 0, 'like_c...   \n",
       "97  {'retweet_count': 302, 'reply_count': 0, 'like...   \n",
       "98  {'retweet_count': 20, 'reply_count': 0, 'like_...   \n",
       "99  {'retweet_count': 89, 'reply_count': 0, 'like_...   \n",
       "\n",
       "                      source            author_id lang                   id  \n",
       "0         Twitter for iPhone            369464326   en  1450997911479730179  \n",
       "1         Twitter for iPhone             95271750   en  1450997872359579654  \n",
       "2         Twitter for iPhone            448428384   en  1450997783108849665  \n",
       "3           Twitter for iPad  1428538707217317892   en  1450997740670885893  \n",
       "4         Twitter for iPhone            511127673   en  1450997717468164102  \n",
       "..                       ...                  ...  ...                  ...  \n",
       "95  Microsoft Power Platform   890676920869847040   en  1450986058724880384  \n",
       "96        Twitter for iPhone            836732671   en  1450986053666369539  \n",
       "97        Twitter for iPhone            701523204   en  1450985704381689860  \n",
       "98        Twitter for iPhone   929795454761447424   en  1450985642981314560  \n",
       "99        Twitter for iPhone  1139352278010335233   en  1450985143368404992  \n",
       "\n",
       "[100 rows x 7 columns]"
      ]
     },
     "execution_count": 89,
     "metadata": {},
     "output_type": "execute_result"
    }
   ],
   "source": [
    "my_df"
   ]
  },
  {
   "cell_type": "code",
   "execution_count": 31,
   "id": "ac8d5170",
   "metadata": {},
   "outputs": [],
   "source": [
    "my_df.to_csv(\"twitter_data.csv\")"
   ]
  },
  {
   "cell_type": "code",
   "execution_count": 90,
   "id": "7ab96a41",
   "metadata": {},
   "outputs": [
    {
     "data": {
      "text/plain": [
       "{'newest_id': '1450997911479730179',\n",
       " 'oldest_id': '1450985143368404992',\n",
       " 'result_count': 100,\n",
       " 'next_token': 'b26v89c19zqg8o3fpdv5st5ah9x1pblzhtnu5gq3jdmkd'}"
      ]
     },
     "execution_count": 90,
     "metadata": {},
     "output_type": "execute_result"
    }
   ],
   "source": [
    "response_1_dict['meta']"
   ]
  },
  {
   "cell_type": "code",
   "execution_count": 91,
   "id": "03c13cc1",
   "metadata": {},
   "outputs": [],
   "source": [
    "url_2 = url_expansions + '&next_token={}'.format(response_1_dict['meta']['next_token'])"
   ]
  },
  {
   "cell_type": "code",
   "execution_count": 92,
   "id": "88e49cda",
   "metadata": {},
   "outputs": [
    {
     "data": {
      "text/plain": [
       "'https://api.twitter.com/2/tweets/search/recent?query=%28%23Emmys%20OR%20%40TheEmmys%20OR%20%23Tedlasso%20lang%3Aen%29&max_results=100&tweet.fields=public_metrics,created_at,author_id,lang,source&expansions=author_id&user.fields=username&next_token=b26v89c19zqg8o3fpdv5st5ah9x1pblzhtnu5gq3jdmkd'"
      ]
     },
     "execution_count": 92,
     "metadata": {},
     "output_type": "execute_result"
    }
   ],
   "source": [
    "url_2"
   ]
  },
  {
   "cell_type": "markdown",
   "id": "82e47ee0",
   "metadata": {},
   "source": [
    "Putting together the next set of tweets with the first URL"
   ]
  },
  {
   "cell_type": "code",
   "execution_count": 93,
   "id": "1222e7e4",
   "metadata": {},
   "outputs": [],
   "source": [
    "response_2 = requests.request(\"GET\", url_2, headers = header)"
   ]
  },
  {
   "cell_type": "code",
   "execution_count": null,
   "id": "f4fbb0bb",
   "metadata": {},
   "outputs": [],
   "source": [
    "response_2.text"
   ]
  },
  {
   "cell_type": "code",
   "execution_count": 94,
   "id": "962178b8",
   "metadata": {},
   "outputs": [],
   "source": [
    "response_2_dict = json.loads(response_2.text)"
   ]
  },
  {
   "cell_type": "markdown",
   "id": "e53a3ce5",
   "metadata": {},
   "source": [
    "With the data I received I put it into a dictionary so i can put it all together in a data frame as seen below"
   ]
  },
  {
   "cell_type": "code",
   "execution_count": 95,
   "id": "2b5a5966",
   "metadata": {},
   "outputs": [
    {
     "data": {
      "text/plain": [
       "dict_keys(['data', 'includes', 'meta'])"
      ]
     },
     "execution_count": 95,
     "metadata": {},
     "output_type": "execute_result"
    }
   ],
   "source": [
    "response_2_dict.keys()"
   ]
  },
  {
   "cell_type": "code",
   "execution_count": 96,
   "id": "b1528b10",
   "metadata": {},
   "outputs": [],
   "source": [
    "my_df2 = my_df2.append(pd.DataFrame(response_2_dict['data']), ignore_index = True)"
   ]
  },
  {
   "cell_type": "code",
   "execution_count": 98,
   "id": "8af59908",
   "metadata": {},
   "outputs": [
    {
     "data": {
      "text/html": [
       "<div>\n",
       "<style scoped>\n",
       "    .dataframe tbody tr th:only-of-type {\n",
       "        vertical-align: middle;\n",
       "    }\n",
       "\n",
       "    .dataframe tbody tr th {\n",
       "        vertical-align: top;\n",
       "    }\n",
       "\n",
       "    .dataframe thead th {\n",
       "        text-align: right;\n",
       "    }\n",
       "</style>\n",
       "<table border=\"1\" class=\"dataframe\">\n",
       "  <thead>\n",
       "    <tr style=\"text-align: right;\">\n",
       "      <th></th>\n",
       "      <th>author_id</th>\n",
       "      <th>public_metrics</th>\n",
       "      <th>id</th>\n",
       "      <th>text</th>\n",
       "      <th>created_at</th>\n",
       "      <th>lang</th>\n",
       "      <th>in_reply_to_user_id</th>\n",
       "      <th>source</th>\n",
       "    </tr>\n",
       "  </thead>\n",
       "  <tbody>\n",
       "    <tr>\n",
       "      <th>0</th>\n",
       "      <td>62222668</td>\n",
       "      <td>{'retweet_count': 0, 'reply_count': 0, 'like_c...</td>\n",
       "      <td>1450971088129859584</td>\n",
       "      <td>I've just updated my webpage with some great a...</td>\n",
       "      <td>2021-10-20T23:43:59.000Z</td>\n",
       "      <td>en</td>\n",
       "      <td>NaN</td>\n",
       "      <td>NaN</td>\n",
       "    </tr>\n",
       "    <tr>\n",
       "      <th>1</th>\n",
       "      <td>1431149377368756225</td>\n",
       "      <td>{'retweet_count': 5, 'reply_count': 0, 'like_c...</td>\n",
       "      <td>1450970999298695169</td>\n",
       "      <td>RT @mashable: It's no surprise that the Ted La...</td>\n",
       "      <td>2021-10-20T23:43:38.000Z</td>\n",
       "      <td>en</td>\n",
       "      <td>NaN</td>\n",
       "      <td>NaN</td>\n",
       "    </tr>\n",
       "    <tr>\n",
       "      <th>2</th>\n",
       "      <td>32497577</td>\n",
       "      <td>{'retweet_count': 286, 'reply_count': 0, 'like...</td>\n",
       "      <td>1450970813306261504</td>\n",
       "      <td>RT @EdmundHanlon: I dressed my dog up as Trent...</td>\n",
       "      <td>2021-10-20T23:42:54.000Z</td>\n",
       "      <td>en</td>\n",
       "      <td>NaN</td>\n",
       "      <td>NaN</td>\n",
       "    </tr>\n",
       "    <tr>\n",
       "      <th>3</th>\n",
       "      <td>1310884582607081472</td>\n",
       "      <td>{'retweet_count': 1, 'reply_count': 0, 'like_c...</td>\n",
       "      <td>1450969949334163457</td>\n",
       "      <td>What's one photo, that as soon as you see it, ...</td>\n",
       "      <td>2021-10-20T23:39:28.000Z</td>\n",
       "      <td>en</td>\n",
       "      <td>NaN</td>\n",
       "      <td>NaN</td>\n",
       "    </tr>\n",
       "    <tr>\n",
       "      <th>4</th>\n",
       "      <td>1188541742208966656</td>\n",
       "      <td>{'retweet_count': 17, 'reply_count': 0, 'like_...</td>\n",
       "      <td>1450969852559114241</td>\n",
       "      <td>RT @darthphvenix: #ROYKENT: Well… I’m fucking ...</td>\n",
       "      <td>2021-10-20T23:39:05.000Z</td>\n",
       "      <td>en</td>\n",
       "      <td>NaN</td>\n",
       "      <td>NaN</td>\n",
       "    </tr>\n",
       "    <tr>\n",
       "      <th>...</th>\n",
       "      <td>...</td>\n",
       "      <td>...</td>\n",
       "      <td>...</td>\n",
       "      <td>...</td>\n",
       "      <td>...</td>\n",
       "      <td>...</td>\n",
       "      <td>...</td>\n",
       "      <td>...</td>\n",
       "    </tr>\n",
       "    <tr>\n",
       "      <th>391</th>\n",
       "      <td>2847264160</td>\n",
       "      <td>{'retweet_count': 0, 'reply_count': 0, 'like_c...</td>\n",
       "      <td>1450960043646590978</td>\n",
       "      <td>The @premierleague agreed to a #licensing deal...</td>\n",
       "      <td>2021-10-20T23:00:06.000Z</td>\n",
       "      <td>en</td>\n",
       "      <td>NaN</td>\n",
       "      <td>Sprout Social</td>\n",
       "    </tr>\n",
       "    <tr>\n",
       "      <th>392</th>\n",
       "      <td>1291387802429661184</td>\n",
       "      <td>{'retweet_count': 52, 'reply_count': 0, 'like_...</td>\n",
       "      <td>1450959888000167938</td>\n",
       "      <td>RT @sarmiesisters: The whole set of the #TedLa...</td>\n",
       "      <td>2021-10-20T22:59:29.000Z</td>\n",
       "      <td>en</td>\n",
       "      <td>NaN</td>\n",
       "      <td>Twitter Web App</td>\n",
       "    </tr>\n",
       "    <tr>\n",
       "      <th>393</th>\n",
       "      <td>1406769609592684544</td>\n",
       "      <td>{'retweet_count': 1, 'reply_count': 0, 'like_c...</td>\n",
       "      <td>1450959772606402561</td>\n",
       "      <td>Roy: Why are you bothering me at my kebab plac...</td>\n",
       "      <td>2021-10-20T22:59:01.000Z</td>\n",
       "      <td>en</td>\n",
       "      <td>NaN</td>\n",
       "      <td>Twitter</td>\n",
       "    </tr>\n",
       "    <tr>\n",
       "      <th>394</th>\n",
       "      <td>2835184986</td>\n",
       "      <td>{'retweet_count': 11, 'reply_count': 0, 'like_...</td>\n",
       "      <td>1450959333731160069</td>\n",
       "      <td>RT @VMinuz: @CraigJo80374965 @MelvinEmory @atk...</td>\n",
       "      <td>2021-10-20T22:57:17.000Z</td>\n",
       "      <td>en</td>\n",
       "      <td>NaN</td>\n",
       "      <td>Twitter for Android</td>\n",
       "    </tr>\n",
       "    <tr>\n",
       "      <th>395</th>\n",
       "      <td>1438996253879279619</td>\n",
       "      <td>{'retweet_count': 0, 'reply_count': 0, 'like_c...</td>\n",
       "      <td>1450959276021882883</td>\n",
       "      <td>Solid day on the pitch for the lads with a com...</td>\n",
       "      <td>2021-10-20T22:57:03.000Z</td>\n",
       "      <td>en</td>\n",
       "      <td>NaN</td>\n",
       "      <td>Twitter Web App</td>\n",
       "    </tr>\n",
       "  </tbody>\n",
       "</table>\n",
       "<p>396 rows × 8 columns</p>\n",
       "</div>"
      ],
      "text/plain": [
       "               author_id                                     public_metrics  \\\n",
       "0               62222668  {'retweet_count': 0, 'reply_count': 0, 'like_c...   \n",
       "1    1431149377368756225  {'retweet_count': 5, 'reply_count': 0, 'like_c...   \n",
       "2               32497577  {'retweet_count': 286, 'reply_count': 0, 'like...   \n",
       "3    1310884582607081472  {'retweet_count': 1, 'reply_count': 0, 'like_c...   \n",
       "4    1188541742208966656  {'retweet_count': 17, 'reply_count': 0, 'like_...   \n",
       "..                   ...                                                ...   \n",
       "391           2847264160  {'retweet_count': 0, 'reply_count': 0, 'like_c...   \n",
       "392  1291387802429661184  {'retweet_count': 52, 'reply_count': 0, 'like_...   \n",
       "393  1406769609592684544  {'retweet_count': 1, 'reply_count': 0, 'like_c...   \n",
       "394           2835184986  {'retweet_count': 11, 'reply_count': 0, 'like_...   \n",
       "395  1438996253879279619  {'retweet_count': 0, 'reply_count': 0, 'like_c...   \n",
       "\n",
       "                      id                                               text  \\\n",
       "0    1450971088129859584  I've just updated my webpage with some great a...   \n",
       "1    1450970999298695169  RT @mashable: It's no surprise that the Ted La...   \n",
       "2    1450970813306261504  RT @EdmundHanlon: I dressed my dog up as Trent...   \n",
       "3    1450969949334163457  What's one photo, that as soon as you see it, ...   \n",
       "4    1450969852559114241  RT @darthphvenix: #ROYKENT: Well… I’m fucking ...   \n",
       "..                   ...                                                ...   \n",
       "391  1450960043646590978  The @premierleague agreed to a #licensing deal...   \n",
       "392  1450959888000167938  RT @sarmiesisters: The whole set of the #TedLa...   \n",
       "393  1450959772606402561  Roy: Why are you bothering me at my kebab plac...   \n",
       "394  1450959333731160069  RT @VMinuz: @CraigJo80374965 @MelvinEmory @atk...   \n",
       "395  1450959276021882883  Solid day on the pitch for the lads with a com...   \n",
       "\n",
       "                   created_at lang in_reply_to_user_id               source  \n",
       "0    2021-10-20T23:43:59.000Z   en                 NaN                  NaN  \n",
       "1    2021-10-20T23:43:38.000Z   en                 NaN                  NaN  \n",
       "2    2021-10-20T23:42:54.000Z   en                 NaN                  NaN  \n",
       "3    2021-10-20T23:39:28.000Z   en                 NaN                  NaN  \n",
       "4    2021-10-20T23:39:05.000Z   en                 NaN                  NaN  \n",
       "..                        ...  ...                 ...                  ...  \n",
       "391  2021-10-20T23:00:06.000Z   en                 NaN        Sprout Social  \n",
       "392  2021-10-20T22:59:29.000Z   en                 NaN      Twitter Web App  \n",
       "393  2021-10-20T22:59:01.000Z   en                 NaN              Twitter  \n",
       "394  2021-10-20T22:57:17.000Z   en                 NaN  Twitter for Android  \n",
       "395  2021-10-20T22:57:03.000Z   en                 NaN      Twitter Web App  \n",
       "\n",
       "[396 rows x 8 columns]"
      ]
     },
     "execution_count": 98,
     "metadata": {},
     "output_type": "execute_result"
    }
   ],
   "source": [
    "my_df2"
   ]
  },
  {
   "cell_type": "code",
   "execution_count": 112,
   "id": "135bea12",
   "metadata": {},
   "outputs": [],
   "source": [
    "my_df2.to_csv(\"twitter_text_report.csv\")"
   ]
  },
  {
   "cell_type": "markdown",
   "id": "b90d7e78",
   "metadata": {},
   "source": [
    "Then convert it into a CSV file"
   ]
  },
  {
   "cell_type": "code",
   "execution_count": 108,
   "id": "f329a547",
   "metadata": {},
   "outputs": [],
   "source": [
    "user_info = pd.DataFrame(response_2_dict['includes']['users'])"
   ]
  },
  {
   "cell_type": "code",
   "execution_count": 109,
   "id": "87c3f47b",
   "metadata": {},
   "outputs": [
    {
     "data": {
      "text/html": [
       "<div>\n",
       "<style scoped>\n",
       "    .dataframe tbody tr th:only-of-type {\n",
       "        vertical-align: middle;\n",
       "    }\n",
       "\n",
       "    .dataframe tbody tr th {\n",
       "        vertical-align: top;\n",
       "    }\n",
       "\n",
       "    .dataframe thead th {\n",
       "        text-align: right;\n",
       "    }\n",
       "</style>\n",
       "<table border=\"1\" class=\"dataframe\">\n",
       "  <thead>\n",
       "    <tr style=\"text-align: right;\">\n",
       "      <th></th>\n",
       "      <th>id</th>\n",
       "      <th>name</th>\n",
       "      <th>username</th>\n",
       "    </tr>\n",
       "  </thead>\n",
       "  <tbody>\n",
       "    <tr>\n",
       "      <th>0</th>\n",
       "      <td>1007202803238998016</td>\n",
       "      <td>Aoife ✨</td>\n",
       "      <td>AoifeOC_</td>\n",
       "    </tr>\n",
       "    <tr>\n",
       "      <th>1</th>\n",
       "      <td>23072774</td>\n",
       "      <td>Girls in the Game</td>\n",
       "      <td>GirlsintheGame</td>\n",
       "    </tr>\n",
       "    <tr>\n",
       "      <th>2</th>\n",
       "      <td>27736656</td>\n",
       "      <td>Linn 🦩just a cucumber with anxiety</td>\n",
       "      <td>theroomstops</td>\n",
       "    </tr>\n",
       "    <tr>\n",
       "      <th>3</th>\n",
       "      <td>1084175030953611264</td>\n",
       "      <td>Women Coders Bot</td>\n",
       "      <td>WomenCodersBot</td>\n",
       "    </tr>\n",
       "    <tr>\n",
       "      <th>4</th>\n",
       "      <td>1220488517568159745</td>\n",
       "      <td>Capital E</td>\n",
       "      <td>capitaleadvisor</td>\n",
       "    </tr>\n",
       "    <tr>\n",
       "      <th>...</th>\n",
       "      <td>...</td>\n",
       "      <td>...</td>\n",
       "      <td>...</td>\n",
       "    </tr>\n",
       "    <tr>\n",
       "      <th>78</th>\n",
       "      <td>907094790</td>\n",
       "      <td>too tired for this</td>\n",
       "      <td>Thot_Repellent</td>\n",
       "    </tr>\n",
       "    <tr>\n",
       "      <th>79</th>\n",
       "      <td>45743047</td>\n",
       "      <td>Erin Leonetti</td>\n",
       "      <td>ErinLeonetti</td>\n",
       "    </tr>\n",
       "    <tr>\n",
       "      <th>80</th>\n",
       "      <td>2847264160</td>\n",
       "      <td>Unrivaled Group</td>\n",
       "      <td>UnrivaledGroup</td>\n",
       "    </tr>\n",
       "    <tr>\n",
       "      <th>81</th>\n",
       "      <td>2835184986</td>\n",
       "      <td>ヤ サカ</td>\n",
       "      <td>H17Hhh777</td>\n",
       "    </tr>\n",
       "    <tr>\n",
       "      <th>82</th>\n",
       "      <td>1438996253879279619</td>\n",
       "      <td>NYC Betz</td>\n",
       "      <td>NycBetz</td>\n",
       "    </tr>\n",
       "  </tbody>\n",
       "</table>\n",
       "<p>83 rows × 3 columns</p>\n",
       "</div>"
      ],
      "text/plain": [
       "                     id                                name         username\n",
       "0   1007202803238998016                             Aoife ✨         AoifeOC_\n",
       "1              23072774                   Girls in the Game   GirlsintheGame\n",
       "2              27736656  Linn 🦩just a cucumber with anxiety     theroomstops\n",
       "3   1084175030953611264                    Women Coders Bot   WomenCodersBot\n",
       "4   1220488517568159745                           Capital E  capitaleadvisor\n",
       "..                  ...                                 ...              ...\n",
       "78            907094790                  too tired for this   Thot_Repellent\n",
       "79             45743047                       Erin Leonetti     ErinLeonetti\n",
       "80           2847264160                     Unrivaled Group   UnrivaledGroup\n",
       "81           2835184986                                ヤ サカ        H17Hhh777\n",
       "82  1438996253879279619                            NYC Betz          NycBetz\n",
       "\n",
       "[83 rows x 3 columns]"
      ]
     },
     "execution_count": 109,
     "metadata": {},
     "output_type": "execute_result"
    }
   ],
   "source": [
    "user_info"
   ]
  },
  {
   "cell_type": "markdown",
   "id": "9b7f62cf",
   "metadata": {},
   "source": [
    "Here I got the name and username but I could not figure out how to put this data frame and my_df2 into one cohesive data frame. When i did manage to put them together there was a lot of NaN fields, which I think its because the data does not match. "
   ]
  },
  {
   "cell_type": "markdown",
   "id": "9513ff1e",
   "metadata": {},
   "source": [
    "# My hypothesis\n",
    "\n",
    "I educated that tweets that mention the Emmys or Ted lasso had lots of engagements because it was the winner for best comedy at the Emmys. Most of the tweets that mention either of them have a decent amount of engagements, this could be a factor in the reasoning why it won over the other nominees. Some set backs that I encountered along the way with this data were, weighing in the factors of negative vs positive tweets mentioning Ted Lasso, determining if the accounts are real vs bots, and comparing it to the other nominees. These setbacks I hope to include in the future so i can get a more definitive answer to the question if engagements of a nominated TV show influence the winner of the category. "
   ]
  }
 ],
 "metadata": {
  "kernelspec": {
   "display_name": "Python 3 (ipykernel)",
   "language": "python",
   "name": "python3"
  },
  "language_info": {
   "codemirror_mode": {
    "name": "ipython",
    "version": 3
   },
   "file_extension": ".py",
   "mimetype": "text/x-python",
   "name": "python",
   "nbconvert_exporter": "python",
   "pygments_lexer": "ipython3",
   "version": "3.9.6"
  }
 },
 "nbformat": 4,
 "nbformat_minor": 5
}
