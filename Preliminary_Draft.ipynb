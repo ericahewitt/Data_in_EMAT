{
 "cells": [
  {
   "cell_type": "markdown",
   "id": "66b45bb9",
   "metadata": {},
   "source": [
    "# Preliminary Draft"
   ]
  },
  {
   "cell_type": "markdown",
   "id": "6e07d13e",
   "metadata": {},
   "source": [
    "I love watching TV series and movies, most recently Ted Lasso seems to be the talk of the town. I loved the first season and can't wait to watch the second season. I also have an interest in the Emmy's, I watch it every year. The reason for this analysis is to determine if Twitter has any influence on the Emmy winner of Best Comedy Series. I first pulled Tweets that mention Ted Lasso or #tedlasso along with blackish or #blackish. Once i got a reasonable amount of Tweets i used the VADER toolkit(?) to determine the positive and negative sentiments of the Tweets that i pulled. Using VADER i can measure the sentiment of the Tweets to then compare the two shows. Once i got the sentiments of each show i created a histogram of the negative, positive, neutral, and compound of the tweets. This allowed me to get a visual of each sentiment and see which had more weight to it. Looking at these graphs comparatively, i can estimate that Ted Lasso has more positive Tweets than blackish. This has some limitations to it because I am just guessing by looking at the graphs, that Ted Lasso is more positive. If someone else were to look at the graphs they might say that blackish is more positive. Right now it is pretty bias to say that Ted Lasso is more positive. Another limitation i ran into was that I only have 200 Tweets for each show, I think collecting more Tweets would help for my analysis. For my final project i hope to get the average of each sentiment (positive, negative, and neutral), and then compare the two. I also plan on doing a T test with the two shows. Overall, I want to positively say that Ted Lasso won the Emmy for best comedy series by showing it with numbers.\n",
    "(More info at the bottom)"
   ]
  },
  {
   "cell_type": "code",
   "execution_count": 1,
   "id": "195ca0a5",
   "metadata": {},
   "outputs": [],
   "source": [
    "import requests\n",
    "import pandas as pd\n",
    "import urllib\n",
    "import json"
   ]
  },
  {
   "cell_type": "code",
   "execution_count": 2,
   "id": "2b330167",
   "metadata": {},
   "outputs": [],
   "source": [
    "bearer_token = pd.read_csv('bearer_token.txt', header = 0)"
   ]
  },
  {
   "cell_type": "code",
   "execution_count": null,
   "id": "ec5074d7",
   "metadata": {},
   "outputs": [],
   "source": [
    "bearer_token"
   ]
  },
  {
   "cell_type": "code",
   "execution_count": null,
   "id": "3d0ca646",
   "metadata": {},
   "outputs": [],
   "source": [
    "bearer_token['bearer_token'].iloc[0]"
   ]
  },
  {
   "cell_type": "code",
   "execution_count": 5,
   "id": "cf977181",
   "metadata": {},
   "outputs": [],
   "source": [
    "header = {'Authorization' : 'Bearer {}'.format(bearer_token['bearer_token'].iloc[0])}"
   ]
  },
  {
   "cell_type": "code",
   "execution_count": 6,
   "id": "9902fd9a",
   "metadata": {},
   "outputs": [
    {
     "data": {
      "text/plain": [
       "Index(['bearer_token'], dtype='object')"
      ]
     },
     "execution_count": 6,
     "metadata": {},
     "output_type": "execute_result"
    }
   ],
   "source": [
    "bearer_token.keys()"
   ]
  },
  {
   "cell_type": "code",
   "execution_count": 7,
   "id": "716041a7",
   "metadata": {},
   "outputs": [],
   "source": [
    "endpoint_url = 'https://api.twitter.com/2/tweets/search/recent'"
   ]
  },
  {
   "cell_type": "code",
   "execution_count": 8,
   "id": "f8e99bb4",
   "metadata": {},
   "outputs": [],
   "source": [
    "query = urllib.parse.quote('(#TedLasso OR Ted Lasso lang:en)')"
   ]
  },
  {
   "cell_type": "code",
   "execution_count": 9,
   "id": "ee6288bf",
   "metadata": {},
   "outputs": [
    {
     "data": {
      "text/plain": [
       "'%28%23TedLasso%20OR%20Ted%20Lasso%20lang%3Aen%29'"
      ]
     },
     "execution_count": 9,
     "metadata": {},
     "output_type": "execute_result"
    }
   ],
   "source": [
    "query"
   ]
  },
  {
   "cell_type": "code",
   "execution_count": 10,
   "id": "cf53e4d4",
   "metadata": {},
   "outputs": [],
   "source": [
    "my_api_url = endpoint_url + '?query={}'.format(query)"
   ]
  },
  {
   "cell_type": "code",
   "execution_count": 11,
   "id": "3324a2c4",
   "metadata": {},
   "outputs": [
    {
     "data": {
      "text/plain": [
       "'https://api.twitter.com/2/tweets/search/recent?query=%28%23TedLasso%20OR%20Ted%20Lasso%20lang%3Aen%29'"
      ]
     },
     "execution_count": 11,
     "metadata": {},
     "output_type": "execute_result"
    }
   ],
   "source": [
    "my_api_url"
   ]
  },
  {
   "cell_type": "code",
   "execution_count": 12,
   "id": "7b6fa438",
   "metadata": {},
   "outputs": [],
   "source": [
    "tweet_fields = 'public_metrics,created_at,author_id,lang'"
   ]
  },
  {
   "cell_type": "code",
   "execution_count": 13,
   "id": "8cd30266",
   "metadata": {},
   "outputs": [],
   "source": [
    "my_api_url = endpoint_url + '?query={}&tweet.fields={}'.format(query, tweet_fields)"
   ]
  },
  {
   "cell_type": "code",
   "execution_count": 14,
   "id": "50081342",
   "metadata": {},
   "outputs": [
    {
     "data": {
      "text/plain": [
       "'https://api.twitter.com/2/tweets/search/recent?query=%28%23TedLasso%20OR%20Ted%20Lasso%20lang%3Aen%29&tweet.fields=public_metrics,created_at,author_id,lang'"
      ]
     },
     "execution_count": 14,
     "metadata": {},
     "output_type": "execute_result"
    }
   ],
   "source": [
    "my_api_url"
   ]
  },
  {
   "cell_type": "code",
   "execution_count": 15,
   "id": "03ffca74",
   "metadata": {},
   "outputs": [],
   "source": [
    "expansions = 'author_id'"
   ]
  },
  {
   "cell_type": "code",
   "execution_count": 16,
   "id": "8e639e27",
   "metadata": {},
   "outputs": [],
   "source": [
    "url = endpoint_url + '?query={}&max_results=10&tweet.fields{}'.format(query, tweet_fields)"
   ]
  },
  {
   "cell_type": "code",
   "execution_count": 17,
   "id": "99ed4b2a",
   "metadata": {},
   "outputs": [],
   "source": [
    "response = requests.request(\"GET\", url, headers = header)"
   ]
  },
  {
   "cell_type": "code",
   "execution_count": 18,
   "id": "968f6c08",
   "metadata": {},
   "outputs": [],
   "source": [
    "url_expansions = endpoint_url + '?query={}&max_results=100&tweet.fields={}&expansions={}&user.fields={}'.format(query, tweet_fields, expansions, 'username')"
   ]
  },
  {
   "cell_type": "code",
   "execution_count": 19,
   "id": "3639f51e",
   "metadata": {},
   "outputs": [
    {
     "data": {
      "text/plain": [
       "'https://api.twitter.com/2/tweets/search/recent?query=%28%23TedLasso%20OR%20Ted%20Lasso%20lang%3Aen%29&max_results=100&tweet.fields=public_metrics,created_at,author_id,lang&expansions=author_id&user.fields=username'"
      ]
     },
     "execution_count": 19,
     "metadata": {},
     "output_type": "execute_result"
    }
   ],
   "source": [
    "url_expansions"
   ]
  },
  {
   "cell_type": "code",
   "execution_count": 20,
   "id": "409787d5",
   "metadata": {},
   "outputs": [],
   "source": [
    "first_response = requests.request(\"GET\", url_expansions, headers = header)"
   ]
  },
  {
   "cell_type": "code",
   "execution_count": null,
   "id": "76e895f8",
   "metadata": {},
   "outputs": [],
   "source": [
    "first_response.text"
   ]
  },
  {
   "cell_type": "code",
   "execution_count": 22,
   "id": "6818c993",
   "metadata": {},
   "outputs": [],
   "source": [
    "first_dict = json.loads(first_response.text)"
   ]
  },
  {
   "cell_type": "code",
   "execution_count": 23,
   "id": "69052a8c",
   "metadata": {},
   "outputs": [
    {
     "data": {
      "text/plain": [
       "dict_keys(['data', 'includes', 'meta'])"
      ]
     },
     "execution_count": 23,
     "metadata": {},
     "output_type": "execute_result"
    }
   ],
   "source": [
    "first_dict.keys()"
   ]
  },
  {
   "cell_type": "code",
   "execution_count": 24,
   "id": "aafd8903",
   "metadata": {},
   "outputs": [],
   "source": [
    "my_df = pd.DataFrame(first_dict['data'])"
   ]
  },
  {
   "cell_type": "code",
   "execution_count": null,
   "id": "3b0c179e",
   "metadata": {},
   "outputs": [],
   "source": [
    "my_df"
   ]
  },
  {
   "cell_type": "code",
   "execution_count": 26,
   "id": "e1cb02d8",
   "metadata": {},
   "outputs": [
    {
     "data": {
      "text/plain": [
       "{'newest_id': '1469084140083593219',\n",
       " 'oldest_id': '1469067031039254531',\n",
       " 'result_count': 100,\n",
       " 'next_token': 'b26v89c19zqg8o3fpdy9ckgtz6dmuz5ilcsmdqwafkv3x'}"
      ]
     },
     "execution_count": 26,
     "metadata": {},
     "output_type": "execute_result"
    }
   ],
   "source": [
    "first_dict['meta']"
   ]
  },
  {
   "cell_type": "code",
   "execution_count": 27,
   "id": "e06be4fb",
   "metadata": {},
   "outputs": [],
   "source": [
    "my_api_url2 = my_api_url + '&next_token={}&max_results=100'.format(first_dict['meta']['next_token'])"
   ]
  },
  {
   "cell_type": "code",
   "execution_count": 28,
   "id": "d72a6a71",
   "metadata": {},
   "outputs": [],
   "source": [
    "second_response = requests.request(\"GET\", my_api_url2, headers = header)"
   ]
  },
  {
   "cell_type": "code",
   "execution_count": null,
   "id": "152b9c26",
   "metadata": {},
   "outputs": [],
   "source": [
    "second_response.text"
   ]
  },
  {
   "cell_type": "code",
   "execution_count": 30,
   "id": "92966f5b",
   "metadata": {},
   "outputs": [],
   "source": [
    "my_df = my_df.append(pd.DataFrame(json.loads(second_response.text)['data']), ignore_index= True)"
   ]
  },
  {
   "cell_type": "code",
   "execution_count": null,
   "id": "5de67674",
   "metadata": {},
   "outputs": [],
   "source": [
    "my_df"
   ]
  },
  {
   "cell_type": "code",
   "execution_count": 38,
   "id": "7e9cf994",
   "metadata": {},
   "outputs": [],
   "source": [
    "my_df.to_csv('tedLassoAnalysis.csv')"
   ]
  },
  {
   "cell_type": "code",
   "execution_count": 39,
   "id": "02dc20bd",
   "metadata": {},
   "outputs": [],
   "source": [
    "lasso = pd.read_csv('tedLassoAnalysis.csv', encoding = 'utf-8')"
   ]
  },
  {
   "cell_type": "code",
   "execution_count": 40,
   "id": "cb1055a2",
   "metadata": {},
   "outputs": [
    {
     "data": {
      "text/plain": [
       "Index(['Unnamed: 0', 'lang', 'public_metrics', 'id', 'text', 'author_id',\n",
       "       'created_at'],\n",
       "      dtype='object')"
      ]
     },
     "execution_count": 40,
     "metadata": {},
     "output_type": "execute_result"
    }
   ],
   "source": [
    "lasso.keys()"
   ]
  },
  {
   "cell_type": "code",
   "execution_count": null,
   "id": "780f500e",
   "metadata": {},
   "outputs": [],
   "source": [
    "lasso['lang'].astype('category')"
   ]
  },
  {
   "cell_type": "code",
   "execution_count": 43,
   "id": "2afc8d16",
   "metadata": {},
   "outputs": [],
   "source": [
    "lasso_posts = lasso[(lasso['lang']) == 'en']"
   ]
  },
  {
   "cell_type": "code",
   "execution_count": null,
   "id": "b36f8783",
   "metadata": {},
   "outputs": [],
   "source": [
    "lasso_posts['lang'].astype('category')"
   ]
  },
  {
   "cell_type": "code",
   "execution_count": null,
   "id": "67c06948",
   "metadata": {},
   "outputs": [],
   "source": [
    "lasso_posts['text']"
   ]
  },
  {
   "cell_type": "code",
   "execution_count": null,
   "id": "9393daca",
   "metadata": {},
   "outputs": [],
   "source": [
    "lasso_posts['text'].iloc[0]"
   ]
  },
  {
   "cell_type": "code",
   "execution_count": null,
   "id": "5585ac33",
   "metadata": {},
   "outputs": [],
   "source": [
    "lasso_posts['text'].iloc[0].lower()"
   ]
  },
  {
   "cell_type": "code",
   "execution_count": 48,
   "id": "ecddcab6",
   "metadata": {},
   "outputs": [],
   "source": [
    "lowercase = [x.lower() for x in lasso_posts['text']]"
   ]
  },
  {
   "cell_type": "code",
   "execution_count": null,
   "id": "d28a9ec7",
   "metadata": {},
   "outputs": [],
   "source": [
    "lowercase[0]"
   ]
  },
  {
   "cell_type": "code",
   "execution_count": 50,
   "id": "992444ef",
   "metadata": {},
   "outputs": [],
   "source": [
    "from vaderSentiment.vaderSentiment import SentimentIntensityAnalyzer"
   ]
  },
  {
   "cell_type": "code",
   "execution_count": 51,
   "id": "155f0d1e",
   "metadata": {},
   "outputs": [],
   "source": [
    "analyze= SentimentIntensityAnalyzer()"
   ]
  },
  {
   "cell_type": "code",
   "execution_count": 52,
   "id": "3ab109c2",
   "metadata": {},
   "outputs": [
    {
     "name": "stdout",
     "output_type": "stream",
     "text": [
      "{'neg': 0.0, 'neu': 1.0, 'pos': 0.0, 'compound': 0.0}\n"
     ]
    }
   ],
   "source": [
    "print(analyze.polarity_scores(lasso_posts['text'].iloc[3]))"
   ]
  },
  {
   "cell_type": "code",
   "execution_count": 53,
   "id": "c33c826e",
   "metadata": {},
   "outputs": [],
   "source": [
    "senti = analyze.polarity_scores(lasso_posts['text'].iloc[3])"
   ]
  },
  {
   "cell_type": "code",
   "execution_count": 54,
   "id": "152322f4",
   "metadata": {},
   "outputs": [
    {
     "data": {
      "text/plain": [
       "1.0"
      ]
     },
     "execution_count": 54,
     "metadata": {},
     "output_type": "execute_result"
    }
   ],
   "source": [
    "senti['neu']"
   ]
  },
  {
   "cell_type": "code",
   "execution_count": 55,
   "id": "312a3dbd",
   "metadata": {},
   "outputs": [],
   "source": [
    "all_sents = [analyze.polarity_scores(x) for x in lasso_posts['text']]"
   ]
  },
  {
   "cell_type": "code",
   "execution_count": null,
   "id": "d0e80f6c",
   "metadata": {},
   "outputs": [],
   "source": [
    "all_sents"
   ]
  },
  {
   "cell_type": "code",
   "execution_count": 57,
   "id": "847ae783",
   "metadata": {},
   "outputs": [],
   "source": [
    "sents_df = pd.DataFrame(all_sents)"
   ]
  },
  {
   "cell_type": "code",
   "execution_count": null,
   "id": "6e8ddd6c",
   "metadata": {},
   "outputs": [],
   "source": [
    "sents_df"
   ]
  },
  {
   "cell_type": "code",
   "execution_count": 59,
   "id": "bfc815e5",
   "metadata": {},
   "outputs": [
    {
     "data": {
      "text/plain": [
       "count    195.000000\n",
       "mean       0.150621\n",
       "std        0.144459\n",
       "min        0.000000\n",
       "25%        0.000000\n",
       "50%        0.134000\n",
       "75%        0.270000\n",
       "max        0.535000\n",
       "Name: pos, dtype: float64"
      ]
     },
     "execution_count": 59,
     "metadata": {},
     "output_type": "execute_result"
    }
   ],
   "source": [
    "sents_df['pos'].describe()"
   ]
  },
  {
   "cell_type": "code",
   "execution_count": 60,
   "id": "7a99d402",
   "metadata": {},
   "outputs": [],
   "source": [
    "from matplotlib import pyplot as plt"
   ]
  },
  {
   "cell_type": "code",
   "execution_count": 61,
   "id": "48dcd388",
   "metadata": {},
   "outputs": [
    {
     "data": {
      "image/png": "[encoded data removed]",
      "text/plain": [
       "<Figure size 432x288 with 1 Axes>"
      ]
     },
     "metadata": {
      "needs_background": "light"
     },
     "output_type": "display_data"
    }
   ],
   "source": [
    "fig0, ax0 = plt.subplots()\n",
    "ax0.hist(sents_df['pos'])\n",
    "plt.show()"
   ]
  },
  {
   "cell_type": "code",
   "execution_count": 62,
   "id": "8b7d74b4",
   "metadata": {},
   "outputs": [
    {
     "data": {
      "image/png": "[encoded data removed]",
      "text/plain": [
       "<Figure size 432x288 with 1 Axes>"
      ]
     },
     "metadata": {
      "needs_background": "light"
     },
     "output_type": "display_data"
    }
   ],
   "source": [
    "fig1, ax1 = plt.subplots()\n",
    "ax1.hist(sents_df['neg'])\n",
    "plt.show()"
   ]
  },
  {
   "cell_type": "code",
   "execution_count": 133,
   "id": "7317e581",
   "metadata": {},
   "outputs": [
    {
     "data": {
      "image/png": "[encoded data removed]",
      "text/plain": [
       "<Figure size 720x360 with 4 Axes>"
      ]
     },
     "metadata": {
      "needs_background": "light"
     },
     "output_type": "display_data"
    }
   ],
   "source": [
    "fig4, ax4 = plt.subplots(1, 4, figsize = (10, 5))\n",
    "ax4[0].hist(sents_df['neg'], bins =  8, color = 'red')\n",
    "ax4[1].hist(sents_df['pos'], bins =  8, color = 'blue')\n",
    "ax4[2].hist(sents_df['neu'], bins =  8, color = 'green')\n",
    "ax4[3].hist(sents_df['compound'], bins =  8, color = 'yellow')\n",
    "\n",
    "ax4[0].set_xlabel(\"Negative\")\n",
    "ax4[1].set_xlabel(\"Positive\")\n",
    "ax4[2].set_xlabel(\"Neutrual\")\n",
    "ax4[3].set_xlabel(\"Compound\")\n",
    "\n",
    "fig4.suptitle(\"Ted Lasso Sentiments\")\n",
    "plt.show()"
   ]
  },
  {
   "cell_type": "code",
   "execution_count": 63,
   "id": "6353eb90",
   "metadata": {},
   "outputs": [],
   "source": [
    "endpoint_url2 = 'https://api.twitter.com/2/tweets/search/recent'"
   ]
  },
  {
   "cell_type": "code",
   "execution_count": 64,
   "id": "ba424e52",
   "metadata": {},
   "outputs": [],
   "source": [
    "query2 = urllib.parse.quote('(#blackish OR blackish lang:en)')"
   ]
  },
  {
   "cell_type": "code",
   "execution_count": 65,
   "id": "c242b3e8",
   "metadata": {},
   "outputs": [
    {
     "data": {
      "text/plain": [
       "'%28%23blackish%20OR%20blackish%20lang%3Aen%29'"
      ]
     },
     "execution_count": 65,
     "metadata": {},
     "output_type": "execute_result"
    }
   ],
   "source": [
    "query2"
   ]
  },
  {
   "cell_type": "code",
   "execution_count": 66,
   "id": "a83fca19",
   "metadata": {},
   "outputs": [],
   "source": [
    "my_api_url3 = endpoint_url2 + '?query={}'.format(query2)"
   ]
  },
  {
   "cell_type": "code",
   "execution_count": 67,
   "id": "f72983e4",
   "metadata": {},
   "outputs": [
    {
     "data": {
      "text/plain": [
       "'https://api.twitter.com/2/tweets/search/recent?query=%28%23blackish%20OR%20blackish%20lang%3Aen%29'"
      ]
     },
     "execution_count": 67,
     "metadata": {},
     "output_type": "execute_result"
    }
   ],
   "source": [
    "my_api_url3"
   ]
  },
  {
   "cell_type": "code",
   "execution_count": 68,
   "id": "a6d858ae",
   "metadata": {},
   "outputs": [],
   "source": [
    "tweet_fields2 = 'public_metrics,created_at,author_id,lang'"
   ]
  },
  {
   "cell_type": "code",
   "execution_count": 69,
   "id": "a56866f5",
   "metadata": {},
   "outputs": [],
   "source": [
    "my_api_url2 = endpoint_url2 + '?query={}&tweet.fields={}'.format(query2, tweet_fields2)"
   ]
  },
  {
   "cell_type": "code",
   "execution_count": 70,
   "id": "81dbbf46",
   "metadata": {},
   "outputs": [
    {
     "data": {
      "text/plain": [
       "'https://api.twitter.com/2/tweets/search/recent?query=%28%23blackish%20OR%20blackish%20lang%3Aen%29&tweet.fields=public_metrics,created_at,author_id,lang'"
      ]
     },
     "execution_count": 70,
     "metadata": {},
     "output_type": "execute_result"
    }
   ],
   "source": [
    "my_api_url2"
   ]
  },
  {
   "cell_type": "code",
   "execution_count": 71,
   "id": "70fcbe65",
   "metadata": {},
   "outputs": [],
   "source": [
    "expansions2 = 'author_id'"
   ]
  },
  {
   "cell_type": "code",
   "execution_count": 72,
   "id": "bd22ec33",
   "metadata": {},
   "outputs": [],
   "source": [
    "url2 = endpoint_url2 + '?query={}&max_results=10&tweet.fields{}'.format(query2, tweet_fields2)"
   ]
  },
  {
   "cell_type": "code",
   "execution_count": 73,
   "id": "91da7b72",
   "metadata": {},
   "outputs": [],
   "source": [
    "response2 = requests.request(\"GET\", url, headers = header)"
   ]
  },
  {
   "cell_type": "code",
   "execution_count": 74,
   "id": "ef92bf7e",
   "metadata": {},
   "outputs": [],
   "source": [
    "url_expansions2 = endpoint_url2 + '?query={}&max_results=100&tweet.fields={}&expansions={}&user.fields={}'.format(query2, tweet_fields2, expansions2, 'username')"
   ]
  },
  {
   "cell_type": "code",
   "execution_count": 75,
   "id": "6cd03ca2",
   "metadata": {},
   "outputs": [
    {
     "data": {
      "text/plain": [
       "'https://api.twitter.com/2/tweets/search/recent?query=%28%23blackish%20OR%20blackish%20lang%3Aen%29&max_results=100&tweet.fields=public_metrics,created_at,author_id,lang&expansions=author_id&user.fields=username'"
      ]
     },
     "execution_count": 75,
     "metadata": {},
     "output_type": "execute_result"
    }
   ],
   "source": [
    "url_expansions2"
   ]
  },
  {
   "cell_type": "code",
   "execution_count": 76,
   "id": "cc34f186",
   "metadata": {},
   "outputs": [],
   "source": [
    "blackish_response = requests.request(\"GET\", url_expansions2, headers = header)"
   ]
  },
  {
   "cell_type": "code",
   "execution_count": null,
   "id": "f0de62ef",
   "metadata": {},
   "outputs": [],
   "source": [
    "blackish_response.text"
   ]
  },
  {
   "cell_type": "code",
   "execution_count": 78,
   "id": "b7317061",
   "metadata": {},
   "outputs": [],
   "source": [
    "blackish_dict = json.loads(blackish_response.text)"
   ]
  },
  {
   "cell_type": "code",
   "execution_count": 79,
   "id": "8928cedb",
   "metadata": {},
   "outputs": [
    {
     "data": {
      "text/plain": [
       "dict_keys(['data', 'includes', 'meta'])"
      ]
     },
     "execution_count": 79,
     "metadata": {},
     "output_type": "execute_result"
    }
   ],
   "source": [
    "blackish_dict.keys()"
   ]
  },
  {
   "cell_type": "code",
   "execution_count": 80,
   "id": "dbc0b86c",
   "metadata": {},
   "outputs": [],
   "source": [
    "blackish_df = pd.DataFrame(blackish_dict['data'])"
   ]
  },
  {
   "cell_type": "code",
   "execution_count": null,
   "id": "58d15055",
   "metadata": {},
   "outputs": [],
   "source": [
    "blackish_df"
   ]
  },
  {
   "cell_type": "code",
   "execution_count": 82,
   "id": "fabba9b0",
   "metadata": {},
   "outputs": [
    {
     "data": {
      "text/plain": [
       "{'newest_id': '1469073424936890369',\n",
       " 'oldest_id': '1468685144928231440',\n",
       " 'result_count': 100,\n",
       " 'next_token': 'b26v89c19zqg8o3fpdy8xrnufxv3hhp4ve5bl32hlfr7h'}"
      ]
     },
     "execution_count": 82,
     "metadata": {},
     "output_type": "execute_result"
    }
   ],
   "source": [
    "blackish_dict['meta']"
   ]
  },
  {
   "cell_type": "code",
   "execution_count": 83,
   "id": "8f9b5d7f",
   "metadata": {},
   "outputs": [],
   "source": [
    "my_api_url4 = my_api_url2 + '&next_token={}&max_results=100'.format(blackish_dict['meta']['next_token'])"
   ]
  },
  {
   "cell_type": "code",
   "execution_count": 84,
   "id": "12502066",
   "metadata": {},
   "outputs": [
    {
     "data": {
      "text/plain": [
       "'https://api.twitter.com/2/tweets/search/recent?query=%28%23blackish%20OR%20blackish%20lang%3Aen%29&tweet.fields=public_metrics,created_at,author_id,lang&next_token=b26v89c19zqg8o3fpdy8xrnufxv3hhp4ve5bl32hlfr7h&max_results=100'"
      ]
     },
     "execution_count": 84,
     "metadata": {},
     "output_type": "execute_result"
    }
   ],
   "source": [
    "my_api_url4"
   ]
  },
  {
   "cell_type": "code",
   "execution_count": 85,
   "id": "c1565190",
   "metadata": {},
   "outputs": [],
   "source": [
    "blackish2_response = requests.request(\"GET\", my_api_url4, headers = header)"
   ]
  },
  {
   "cell_type": "code",
   "execution_count": null,
   "id": "cee7f0af",
   "metadata": {},
   "outputs": [],
   "source": [
    "blackish2_response.text"
   ]
  },
  {
   "cell_type": "code",
   "execution_count": 87,
   "id": "7ae3d759",
   "metadata": {},
   "outputs": [],
   "source": [
    "blackish_df = blackish_df.append(pd.DataFrame(json.loads(blackish2_response.text)['data']), ignore_index= True)"
   ]
  },
  {
   "cell_type": "code",
   "execution_count": null,
   "id": "2b7642d5",
   "metadata": {},
   "outputs": [],
   "source": [
    "blackish_df"
   ]
  },
  {
   "cell_type": "code",
   "execution_count": 89,
   "id": "4d77e082",
   "metadata": {},
   "outputs": [],
   "source": [
    "blackish_df.to_csv('blackishAnalysis.csv')"
   ]
  },
  {
   "cell_type": "code",
   "execution_count": 90,
   "id": "d1bdeeb3",
   "metadata": {},
   "outputs": [],
   "source": [
    "blackish = pd.read_csv('blackishAnalysis.csv', encoding = 'utf-8')"
   ]
  },
  {
   "cell_type": "code",
   "execution_count": 91,
   "id": "406aef93",
   "metadata": {},
   "outputs": [
    {
     "data": {
      "text/plain": [
       "Index(['Unnamed: 0', 'id', 'public_metrics', 'created_at', 'text', 'author_id',\n",
       "       'lang'],\n",
       "      dtype='object')"
      ]
     },
     "execution_count": 91,
     "metadata": {},
     "output_type": "execute_result"
    }
   ],
   "source": [
    "blackish.keys()"
   ]
  },
  {
   "cell_type": "code",
   "execution_count": null,
   "id": "02fc8c20",
   "metadata": {},
   "outputs": [],
   "source": [
    "blackish['lang'].astype('category')"
   ]
  },
  {
   "cell_type": "code",
   "execution_count": 93,
   "id": "1d99ca98",
   "metadata": {},
   "outputs": [],
   "source": [
    "blackish_posts = blackish[(blackish['lang']) == 'en']"
   ]
  },
  {
   "cell_type": "code",
   "execution_count": null,
   "id": "9b52f249",
   "metadata": {},
   "outputs": [],
   "source": [
    "blackish_posts['lang'].astype('category')"
   ]
  },
  {
   "cell_type": "code",
   "execution_count": null,
   "id": "03e00c7c",
   "metadata": {},
   "outputs": [],
   "source": [
    "blackish_posts['text']"
   ]
  },
  {
   "cell_type": "code",
   "execution_count": 96,
   "id": "472008f3",
   "metadata": {},
   "outputs": [
    {
     "data": {
      "text/plain": [
       "'Blackish House (https://t.co/bNjgKSJ5Ou)'"
      ]
     },
     "execution_count": 96,
     "metadata": {},
     "output_type": "execute_result"
    }
   ],
   "source": [
    "blackish_posts['text'].iloc[0]"
   ]
  },
  {
   "cell_type": "code",
   "execution_count": 97,
   "id": "2fce1128",
   "metadata": {},
   "outputs": [],
   "source": [
    "blackish_lowercase = [x.lower() for x in blackish_posts['text']]"
   ]
  },
  {
   "cell_type": "code",
   "execution_count": 98,
   "id": "f7dcc9ad",
   "metadata": {},
   "outputs": [
    {
     "data": {
      "text/plain": [
       "'blackish house (https://t.co/bnjgksj5ou)'"
      ]
     },
     "execution_count": 98,
     "metadata": {},
     "output_type": "execute_result"
    }
   ],
   "source": [
    "blackish_lowercase[0]"
   ]
  },
  {
   "cell_type": "code",
   "execution_count": 99,
   "id": "fe5dff36",
   "metadata": {},
   "outputs": [],
   "source": [
    "blackish_analyze= SentimentIntensityAnalyzer()"
   ]
  },
  {
   "cell_type": "code",
   "execution_count": 100,
   "id": "e9d1ccc1",
   "metadata": {},
   "outputs": [
    {
     "name": "stdout",
     "output_type": "stream",
     "text": [
      "{'neg': 0.0, 'neu': 1.0, 'pos': 0.0, 'compound': 0.0}\n"
     ]
    }
   ],
   "source": [
    "print(blackish_analyze.polarity_scores(blackish_posts['text'].iloc[0]))"
   ]
  },
  {
   "cell_type": "code",
   "execution_count": 101,
   "id": "e3797a28",
   "metadata": {},
   "outputs": [],
   "source": [
    "blackish_senti = blackish_analyze.polarity_scores(blackish_posts['text'].iloc[0])"
   ]
  },
  {
   "cell_type": "code",
   "execution_count": 102,
   "id": "a30df947",
   "metadata": {},
   "outputs": [
    {
     "data": {
      "text/plain": [
       "0.0"
      ]
     },
     "execution_count": 102,
     "metadata": {},
     "output_type": "execute_result"
    }
   ],
   "source": [
    "blackish_senti['neg']"
   ]
  },
  {
   "cell_type": "code",
   "execution_count": 103,
   "id": "4c866fad",
   "metadata": {},
   "outputs": [],
   "source": [
    "all_bsenti = [blackish_analyze.polarity_scores(x) for x in blackish_posts['text']]"
   ]
  },
  {
   "cell_type": "code",
   "execution_count": null,
   "id": "bb4b5546",
   "metadata": {},
   "outputs": [],
   "source": [
    "all_bsenti"
   ]
  },
  {
   "cell_type": "code",
   "execution_count": 105,
   "id": "ec451bd5",
   "metadata": {},
   "outputs": [],
   "source": [
    "blacksents_df = pd.DataFrame(all_bsenti)"
   ]
  },
  {
   "cell_type": "code",
   "execution_count": null,
   "id": "e6720a3a",
   "metadata": {},
   "outputs": [],
   "source": [
    "blacksents_df"
   ]
  },
  {
   "cell_type": "code",
   "execution_count": 107,
   "id": "4af5a4e6",
   "metadata": {},
   "outputs": [
    {
     "data": {
      "text/plain": [
       "count    194.000000\n",
       "mean       0.122082\n",
       "std        0.144585\n",
       "min        0.000000\n",
       "25%        0.000000\n",
       "50%        0.079500\n",
       "75%        0.209500\n",
       "max        0.717000\n",
       "Name: pos, dtype: float64"
      ]
     },
     "execution_count": 107,
     "metadata": {},
     "output_type": "execute_result"
    }
   ],
   "source": [
    "blacksents_df['pos'].describe()"
   ]
  },
  {
   "cell_type": "code",
   "execution_count": 108,
   "id": "5cab6097",
   "metadata": {},
   "outputs": [
    {
     "data": {
      "text/plain": [
       "count    194.000000\n",
       "mean       0.053747\n",
       "std        0.104268\n",
       "min        0.000000\n",
       "25%        0.000000\n",
       "50%        0.000000\n",
       "75%        0.080750\n",
       "max        0.481000\n",
       "Name: neg, dtype: float64"
      ]
     },
     "execution_count": 108,
     "metadata": {},
     "output_type": "execute_result"
    }
   ],
   "source": [
    "blacksents_df['neg'].describe()"
   ]
  },
  {
   "cell_type": "code",
   "execution_count": 109,
   "id": "0a43d131",
   "metadata": {},
   "outputs": [
    {
     "data": {
      "image/png": "[encoded data removed]",
      "text/plain": [
       "<Figure size 432x288 with 1 Axes>"
      ]
     },
     "metadata": {
      "needs_background": "light"
     },
     "output_type": "display_data"
    }
   ],
   "source": [
    "fig2, ax2 = plt.subplots()\n",
    "ax2.hist(blacksents_df['pos'])\n",
    "plt.show()"
   ]
  },
  {
   "cell_type": "code",
   "execution_count": 125,
   "id": "1cb499ba",
   "metadata": {},
   "outputs": [
    {
     "data": {
      "image/png": "[encoded data removed]",
      "text/plain": [
       "<Figure size 720x360 with 4 Axes>"
      ]
     },
     "metadata": {
      "needs_background": "light"
     },
     "output_type": "display_data"
    }
   ],
   "source": [
    "fig3, ax3 = plt.subplots(1, 4, figsize = (10,5))\n",
    "ax3[0].hist(blacksents_df['neg'], bins =  8, color = 'red')\n",
    "ax3[1].hist(blacksents_df['pos'], bins = 8, color = 'blue')\n",
    "ax3[2].hist(blacksents_df['neu'], bins = 8, color = 'green')\n",
    "ax3[3].hist(blacksents_df['compound'], bins = 8, color = 'yellow')\n",
    "\n",
    "ax3[0].set_xlabel('Negative')\n",
    "ax3[1].set_xlabel('Positive')\n",
    "ax3[2].set_xlabel('Neutrual')\n",
    "ax3[3].set_xlabel('Compound')\n",
    "\n",
    "fig3.suptitle(\"black-ish sentiments\")\n",
    "plt.show()"
   ]
  },
  {
   "cell_type": "code",
   "execution_count": 148,
   "id": "50b85a87",
   "metadata": {},
   "outputs": [
    {
     "data": {
      "image/png": "[encoded data removed]",
      "text/plain": [
       "<Figure size 720x576 with 8 Axes>"
      ]
     },
     "metadata": {
      "needs_background": "light"
     },
     "output_type": "display_data"
    }
   ],
   "source": [
    "fig5, ax5 = plt.subplots(2, 4, figsize = (10, 8))\n",
    "ax5[0,0].hist(sents_df['neg'], bins =  10, color = 'red')\n",
    "ax5[0,1].hist(sents_df['pos'], bins =  10, color = 'blue')\n",
    "ax5[0,2].hist(sents_df['neu'], bins =  10, color = 'green')\n",
    "ax5[0,3].hist(sents_df['compound'], bins =  10, color = 'yellow')\n",
    "\n",
    "ax5[0,0].set_xlabel(\"Negative\")\n",
    "ax5[0,1].set_xlabel(\"Positive\")\n",
    "ax5[0,2].set_xlabel(\"Neutrual\")\n",
    "ax5[0,3].set_xlabel(\"Compound\")\n",
    "ax5[0,0].set_ylabel(\"Ted Lasso\")\n",
    "\n",
    "ax5[1,0].hist(blacksents_df['neg'], bins =  10, color = 'red')\n",
    "ax5[1,1].hist(blacksents_df['pos'], bins = 10, color = 'blue')\n",
    "ax5[1,2].hist(blacksents_df['neu'], bins = 10, color = 'green')\n",
    "ax5[1,3].hist(blacksents_df['compound'], bins = 10, color = 'yellow')\n",
    "\n",
    "ax5[1,0].set_xlabel('Negative')\n",
    "ax5[1,1].set_xlabel('Positive')\n",
    "ax5[1,2].set_xlabel('Neutrual')\n",
    "ax5[1,3].set_xlabel('Compound')\n",
    "ax5[1,0].set_ylabel(\"black-ish\")\n",
    "\n",
    "fig5.suptitle(\"Ted Lasso Sentiments vs. black-ish sentiments\")\n",
    "plt.show()"
   ]
  },
  {
   "cell_type": "markdown",
   "id": "4afccff3",
   "metadata": {},
   "source": [
    "I don't know where to go from here. I have the two shows next to each other but I don't think this is enough for my hypothesis. Should I overlap the two shows into one graph to show the difference of each sentiment? Or I was thinking of finding the average of each sentiment(if I have the time). Would a T test help in this situation?"
   ]
  }
 ],
 "metadata": {
  "kernelspec": {
   "display_name": "Python 3 (ipykernel)",
   "language": "python",
   "name": "python3"
  },
  "language_info": {
   "codemirror_mode": {
    "name": "ipython",
    "version": 3
   },
   "file_extension": ".py",
   "mimetype": "text/x-python",
   "name": "python",
   "nbconvert_exporter": "python",
   "pygments_lexer": "ipython3",
   "version": "3.9.6"
  }
 },
 "nbformat": 4,
 "nbformat_minor": 5
}
